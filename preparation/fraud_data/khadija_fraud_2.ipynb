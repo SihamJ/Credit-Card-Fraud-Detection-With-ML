{
 "cells": [
  {
   "cell_type": "code",
   "execution_count": 1,
   "metadata": {},
   "outputs": [],
   "source": [
    "import pandas as pd # data processing\n",
    "import numpy as np # working with arrays\n",
    "import matplotlib.pyplot as plt # visualization\n",
    "import seaborn as sns\n",
    "import random\n",
    "from termcolor import colored as cl # text customization"
   ]
  },
  {
   "cell_type": "code",
   "execution_count": 3,
   "metadata": {},
   "outputs": [],
   "source": [
    "df_full = pd.read_excel('C:/Users/KABYADE/Desktop/Fraud_ML/fraud-detection/data_preparation/Authorization_data_v2.xlsx')"
   ]
  },
  {
   "cell_type": "code",
   "execution_count": 5,
   "metadata": {},
   "outputs": [],
   "source": [
    "columns_num = df_full.select_dtypes(include=np.number).columns.tolist()\n",
    "columns_num.remove('CLASS')\n",
    "max_values = {}\n",
    "\n",
    "for v in columns_num:\n",
    "    max_values[v] = df_full[v].max()\n"
   ]
  },
  {
   "cell_type": "code",
   "execution_count": 8,
   "metadata": {},
   "outputs": [
    {
     "data": {
      "text/html": [
       "<div>\n",
       "<style scoped>\n",
       "    .dataframe tbody tr th:only-of-type {\n",
       "        vertical-align: middle;\n",
       "    }\n",
       "\n",
       "    .dataframe tbody tr th {\n",
       "        vertical-align: top;\n",
       "    }\n",
       "\n",
       "    .dataframe thead th {\n",
       "        text-align: right;\n",
       "    }\n",
       "</style>\n",
       "<table border=\"1\" class=\"dataframe\">\n",
       "  <thead>\n",
       "    <tr style=\"text-align: right;\">\n",
       "      <th></th>\n",
       "      <th>V1</th>\n",
       "      <th>V2</th>\n",
       "      <th>V3</th>\n",
       "      <th>V4</th>\n",
       "      <th>V5</th>\n",
       "      <th>V6</th>\n",
       "      <th>V7</th>\n",
       "      <th>V8</th>\n",
       "      <th>V9</th>\n",
       "      <th>V10</th>\n",
       "      <th>...</th>\n",
       "      <th>V19</th>\n",
       "      <th>V20</th>\n",
       "      <th>V21</th>\n",
       "      <th>V22</th>\n",
       "      <th>V23</th>\n",
       "      <th>V24</th>\n",
       "      <th>V25</th>\n",
       "      <th>V26</th>\n",
       "      <th>V27</th>\n",
       "      <th>CLASS</th>\n",
       "    </tr>\n",
       "  </thead>\n",
       "  <tbody>\n",
       "    <tr>\n",
       "      <th>0</th>\n",
       "      <td>1</td>\n",
       "      <td>200</td>\n",
       "      <td>22.0</td>\n",
       "      <td>10112.0</td>\n",
       "      <td>500</td>\n",
       "      <td>01/06/2009</td>\n",
       "      <td>01/06/2011</td>\n",
       "      <td>11/07/2009 09:06:38</td>\n",
       "      <td>2000.0</td>\n",
       "      <td>2000.0</td>\n",
       "      <td>...</td>\n",
       "      <td>NaN</td>\n",
       "      <td>0.0</td>\n",
       "      <td>1000001</td>\n",
       "      <td>1000001</td>\n",
       "      <td>26/12/2009</td>\n",
       "      <td>2000.0</td>\n",
       "      <td>952</td>\n",
       "      <td>384</td>\n",
       "      <td>VERSUS BANK PLATEAU    REGION LAGUNECI</td>\n",
       "      <td>1</td>\n",
       "    </tr>\n",
       "  </tbody>\n",
       "</table>\n",
       "<p>1 rows × 28 columns</p>\n",
       "</div>"
      ],
      "text/plain": [
       "   V1   V2    V3       V4   V5          V6          V7                   V8  \\\n",
       "0   1  200  22.0  10112.0  500  01/06/2009  01/06/2011  11/07/2009 09:06:38   \n",
       "\n",
       "       V9     V10  ...  V19  V20      V21      V22         V23     V24  V25  \\\n",
       "0  2000.0  2000.0  ...  NaN  0.0  1000001  1000001  26/12/2009  2000.0  952   \n",
       "\n",
       "   V26                                     V27  CLASS  \n",
       "0  384  VERSUS BANK PLATEAU    REGION LAGUNECI      1  \n",
       "\n",
       "[1 rows x 28 columns]"
      ]
     },
     "execution_count": 8,
     "metadata": {},
     "output_type": "execute_result"
    }
   ],
   "source": [
    "# Load the credit card transaction data   \n",
    "df = pd.read_excel('C:/Users/KABYADE/Desktop/Fraud_ML/fraud-detection/data_preparation/data/Khadija_2.xlsx')\n",
    "df.head(1)"
   ]
  },
  {
   "cell_type": "code",
   "execution_count": 12,
   "metadata": {},
   "outputs": [
    {
     "data": {
      "text/plain": [
       "9891"
      ]
     },
     "execution_count": 12,
     "metadata": {},
     "output_type": "execute_result"
    }
   ],
   "source": [
    "df.loc[df['CLASS']==0 , 'CLASS'] = 1\n",
    "#len(df[df.CLASS == 1])\n",
    "len(df)"
   ]
  },
  {
   "cell_type": "code",
   "execution_count": 13,
   "metadata": {},
   "outputs": [
    {
     "name": "stdout",
     "output_type": "stream",
     "text": [
      "1413\n",
      "1413\n"
     ]
    }
   ],
   "source": [
    "#Split data_to upate into 3 parts\n",
    "dfs = np.array_split(df, 7)\n",
    "R_1,R_2,R_3,R_4,R_5,R_6,R_7,=dfs\n",
    "\n",
    "print(len(R_1))\n",
    "print(len(R_2))"
   ]
  },
  {
   "cell_type": "code",
   "execution_count": 14,
   "metadata": {},
   "outputs": [],
   "source": [
    "def random_not_in(l, max):\n",
    "    res = l[0]\n",
    "    while(res in l):\n",
    "        res = random.randint(0, max)\n",
    "    return res"
   ]
  },
  {
   "cell_type": "code",
   "execution_count": 16,
   "metadata": {},
   "outputs": [],
   "source": [
    "\"\"\" R1\n",
    "V4 = ''000010''\n",
    "V1 IN (''00'')\n",
    "V10 BETWEEN 999.99  AND 7999.99 )\n",
    "V16 LIKE ''5___________''\n",
    "(V16,7,1)   IN  (''2'',''8'')\n",
    "\"\"\" \n",
    "Count_R_1=len(R_1)\n",
    "V10_values = [random.uniform(999.99,7999.99) for i in range(Count_R_1)]\n",
    "#print(len(V10_values))\n",
    "\n",
    "R_1['V4'] = '000010'\n",
    "R_1['V1'] = '00'\n",
    "R_1['V10'] = V10_values\n",
    "R_1['V16']='5'+R_1['V16'].str[1:] \n",
    "\n",
    "for i in range(len(R_1)):\n",
    "    R_1.at[i, 'V16'] = R_1.at[i, 'V16'][:7] + random.choice(['2', '8']) + R_1.at[i, 'V16'][8:]\n"
   ]
  },
  {
   "cell_type": "code",
   "execution_count": 17,
   "metadata": {},
   "outputs": [],
   "source": [
    "\"\"\" R2\n",
    "V4 = ''000010''\n",
    "V1 IN (''00'')\n",
    "V13  NOT IN (''7995'')\n",
    "V10 >= 60000\n",
    "(V16,7,1)   IN  (''5'')\n",
    "\"\"\" \n",
    "\n",
    "R_2['V4'] = '000010'\n",
    "R_2['V1'] = '00'\n",
    "R_2['V13'] = random_not_in([7995], max_values['V13']) \n",
    "R_2['V10'] = random.randint(60000, max_values['V10'])\n",
    "R_2['V16']=R_2['V16'].str.slice_replace(7, 8, '5')\n"
   ]
  },
  {
   "cell_type": "code",
   "execution_count": 18,
   "metadata": {},
   "outputs": [],
   "source": [
    "\"\"\" R3\n",
    "V4 = ''000010''\n",
    "(V16,7,1)   NOT IN  (''5'')\n",
    "\"\"\" \n",
    "\n",
    "R_3['V4'] = '000010'\n",
    "for index, row in R_3.iterrows():\n",
    "    R_3.at[index, 'V16'] = row['V16'][:7] +  str(random_not_in([5], 9))  + row['V16'][8:]\n"
   ]
  },
  {
   "cell_type": "code",
   "execution_count": 20,
   "metadata": {},
   "outputs": [],
   "source": [
    "\"\"\" R4\n",
    "V4 = ''000010''\n",
    "V1 IN (''01'')\n",
    "V10 < 100\n",
    "\"\"\" \n",
    "\n",
    "R_4['V4'] = '000010'\n",
    "R_4['V1'] = '01'\n",
    "R_4['V10'] = random.randint(0, 99)\n"
   ]
  },
  {
   "cell_type": "code",
   "execution_count": 21,
   "metadata": {},
   "outputs": [],
   "source": [
    "\"\"\" R5\n",
    "V4 = ''000010''\n",
    "V1 IN (''01'')\n",
    "V26 IN (''192'')\n",
    "V21  IN (''00000008'')\n",
    "\"\"\" \n",
    "\n",
    "R_5['V4'] = '000010'\n",
    "R_5['V1'] = '01'\n",
    "R_5['V26'] = 192\n",
    "R_5['V21'] = '00000008'\n"
   ]
  },
  {
   "cell_type": "code",
   "execution_count": 22,
   "metadata": {},
   "outputs": [],
   "source": [
    "\"\"\" R6\n",
    "V4 = ''000010''\n",
    "V1 IN (''01'')\n",
    "V26 IN (''360'',''508'')\n",
    "V15 IN (''90'')\n",
    "\"\"\" \n",
    "\n",
    "R_6['V4'] = '000010'\n",
    "R_6['V1'] = '01'\n",
    "R_6['V26'] =  np.random.choice([360, 508],size=len(R_6['V26']))\n",
    "R_6['V15'] = 90\n"
   ]
  },
  {
   "cell_type": "code",
   "execution_count": 23,
   "metadata": {},
   "outputs": [],
   "source": [
    "\"\"\" R7\n",
    "V4 = ''000010'' \n",
    "V26 NOT IN (''072'',''426'',''508'',''516'') \n",
    "V12  NOT IN (''001264'') \n",
    "V15 IN (''90'')\n",
    "\"\"\" \n",
    "\n",
    "R_7['V4'] = '000010'\n",
    "R_7['V26'] = np.random.choice(random_not_in([72,426,508,516], max_values['V26']) ,size=len(R_7['V26']))\n",
    "R_7['V12'] = random_not_in([1264], max_values['V12']) \n",
    "R_7['V15'] = 90\n"
   ]
  },
  {
   "cell_type": "code",
   "execution_count": 24,
   "metadata": {},
   "outputs": [],
   "source": [
    "df_final_Part1 = pd.concat([R_1,R_2,R_3,R_4,R_5,R_6,R_7])"
   ]
  },
  {
   "cell_type": "code",
   "execution_count": 26,
   "metadata": {},
   "outputs": [],
   "source": [
    "len(df_final_Part1)\n",
    "df_final_Part1.to_excel('output/khadija_fraud_2.xlsx', index=False)"
   ]
  }
 ],
 "metadata": {
  "kernelspec": {
   "display_name": "Python 3",
   "language": "python",
   "name": "python3"
  },
  "language_info": {
   "codemirror_mode": {
    "name": "ipython",
    "version": 3
   },
   "file_extension": ".py",
   "mimetype": "text/x-python",
   "name": "python",
   "nbconvert_exporter": "python",
   "pygments_lexer": "ipython3",
   "version": "3.10.10"
  },
  "orig_nbformat": 4,
  "vscode": {
   "interpreter": {
    "hash": "9dce4b41c3dab15c9b172253d5926c6876aa54e726307ae26a963b8959ab689a"
   }
  }
 },
 "nbformat": 4,
 "nbformat_minor": 2
}
