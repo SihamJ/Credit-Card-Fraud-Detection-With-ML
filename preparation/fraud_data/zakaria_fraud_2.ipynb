{
  "nbformat": 4,
  "nbformat_minor": 0,
  "metadata": {
    "colab": {
      "provenance": []
    },
    "kernelspec": {
      "name": "python3",
      "display_name": "Python 3"
    },
    "language_info": {
      "name": "python"
    }
  },
  "cells": [
    {
      "cell_type": "markdown",
      "source": [
        "# Spliting\n"
      ],
      "metadata": {
        "id": "NpiafqPcJiCa"
      }
    },
    {
      "cell_type": "code",
      "source": [
        "import pandas as pd\n",
        "import numpy as np\n",
        "# Charger la dataframe\n",
        "data = pd.read_excel('zakaria_2.xlsx')"
      ],
      "metadata": {
        "id": "C5QQqf6qJocF"
      },
      "execution_count": 124,
      "outputs": []
    },
    {
      "cell_type": "code",
      "source": [
        "data.shape"
      ],
      "metadata": {
        "colab": {
          "base_uri": "https://localhost:8080/"
        },
        "id": "gjExMvTzJyBe",
        "outputId": "0a94f4ad-f9c8-48cd-8154-37fc0bb857e5"
      },
      "execution_count": 125,
      "outputs": [
        {
          "output_type": "execute_result",
          "data": {
            "text/plain": [
              "(9891, 28)"
            ]
          },
          "metadata": {},
          "execution_count": 125
        }
      ]
    },
    {
      "cell_type": "code",
      "source": [
        "# Diviser la dataframe en 7 parties\n",
        "df_parts = np.array_split(data, 7)"
      ],
      "metadata": {
        "id": "MdcOtmGxJ3k5"
      },
      "execution_count": 126,
      "outputs": []
    },
    {
      "cell_type": "code",
      "source": [
        "# Afficher la taille de chaque partie\n",
        "for i, part in enumerate(df_parts):\n",
        "    print(f'Taille de la partie {i+1}: {len(part)}')"
      ],
      "metadata": {
        "colab": {
          "base_uri": "https://localhost:8080/"
        },
        "id": "9p8U6Fe-J8UV",
        "outputId": "f44b585c-0ffd-4cfd-b2b3-a4006d03804d"
      },
      "execution_count": 127,
      "outputs": [
        {
          "output_type": "stream",
          "name": "stdout",
          "text": [
            "Taille de la partie 1: 1413\n",
            "Taille de la partie 2: 1413\n",
            "Taille de la partie 3: 1413\n",
            "Taille de la partie 4: 1413\n",
            "Taille de la partie 5: 1413\n",
            "Taille de la partie 6: 1413\n",
            "Taille de la partie 7: 1413\n"
          ]
        }
      ]
    },
    {
      "cell_type": "code",
      "source": [
        "# Stocker chaque partie dans une dataframe séparée\n",
        "df_part1, df_part2, df_part3,df_part4,df_part5,df_part6,df_part7 = df_parts"
      ],
      "metadata": {
        "id": "zCU1cNuMJ830"
      },
      "execution_count": 128,
      "outputs": []
    },
    {
      "cell_type": "markdown",
      "source": [
        "# Rule 1\n"
      ],
      "metadata": {
        "id": "3i89hAuSKJxz"
      }
    },
    {
      "cell_type": "code",
      "source": [
        "# Modifier les valeurs de 4 colonnes pour toutes les lignes\n",
        "df_part1.loc[:, ['V4','CLASS']] = [['000010',1] for _ in range(len(df_part1))]"
      ],
      "metadata": {
        "id": "gAImNbrQKNkU"
      },
      "execution_count": 129,
      "outputs": []
    },
    {
      "cell_type": "code",
      "source": [
        "columns_num = df_part1.select_dtypes(include=np.number).columns.tolist()\n",
        "columns_num.remove('CLASS')\n",
        "max_values = {}\n",
        "\n",
        "for v in columns_num:\n",
        "    max_values[v] = df_part1[v].max()"
      ],
      "metadata": {
        "id": "XKta7h7_P8i9"
      },
      "execution_count": 130,
      "outputs": []
    },
    {
      "cell_type": "code",
      "source": [
        "# Modifier toutes les lignes où la colonne V10 est inférieure ou égale à 8000\n",
        "import random\n",
        "import numpy as np\n",
        "df_part1['V10'] = random.randint(8000, max_values['V10'])"
      ],
      "metadata": {
        "id": "916TLkoIKQ3h"
      },
      "execution_count": 131,
      "outputs": []
    },
    {
      "cell_type": "code",
      "source": [
        "max(df_part1['V16'].str[6])"
      ],
      "metadata": {
        "colab": {
          "base_uri": "https://localhost:8080/",
          "height": 35
        },
        "id": "LxieIaJmKT2I",
        "outputId": "1433d870-2f5e-4ccb-91a7-2d8cdc99f853"
      },
      "execution_count": 132,
      "outputs": [
        {
          "output_type": "execute_result",
          "data": {
            "text/plain": [
              "'5'"
            ],
            "application/vnd.google.colaboratory.intrinsic+json": {
              "type": "string"
            }
          },
          "metadata": {},
          "execution_count": 132
        }
      ]
    },
    {
      "cell_type": "markdown",
      "source": [
        "# Rule 2"
      ],
      "metadata": {
        "id": "WqVylg5ZKY_m"
      }
    },
    {
      "cell_type": "code",
      "source": [
        "# Modifier les valeurs de 4 colonnes pour toutes les lignes\n",
        "df_part2.loc[:, ['V4','CLASS']] = [['000010',1] for _ in range(len(df_part2))]"
      ],
      "metadata": {
        "id": "fCGmUWNaKbkm"
      },
      "execution_count": 133,
      "outputs": []
    },
    {
      "cell_type": "code",
      "source": [
        "# Modifier les valeurs de 4 colonnes pour toutes les lignes\n",
        "df_part1.loc[:, ['V4','CLASS']] = [['000010',1] for _ in range(len(df_part1))]"
      ],
      "metadata": {
        "id": "loTzySTDKecU"
      },
      "execution_count": 134,
      "outputs": []
    },
    {
      "cell_type": "code",
      "source": [
        "# Modifier toutes les lignes où la colonne V10 est inférieure ou égale à 60000\n",
        "import random\n",
        "import numpy as np\n",
        "df_part1['V10'] = random.randint(60000, max_values['V10'])"
      ],
      "metadata": {
        "id": "fgcxGm42KiDg"
      },
      "execution_count": 135,
      "outputs": []
    },
    {
      "cell_type": "code",
      "source": [
        "df_part2['V1'] = '00'"
      ],
      "metadata": {
        "id": "VpyHBC5DKkml"
      },
      "execution_count": 136,
      "outputs": []
    },
    {
      "cell_type": "code",
      "source": [
        "import random\n",
        "\n",
        "for index, row in df_part2.iterrows():\n",
        "    df_part2.at[index, 'V16'] = row['V16'][:6] + random.choice(['9', 'S', 'T', 'U', 'V']) + row['V16'][7:]\n"
      ],
      "metadata": {
        "id": "sxjEuxE1KnUR"
      },
      "execution_count": 137,
      "outputs": []
    },
    {
      "cell_type": "markdown",
      "source": [
        "# Rule 3"
      ],
      "metadata": {
        "id": "am_Oe4FyKtdH"
      }
    },
    {
      "cell_type": "code",
      "source": [
        "# Modifier les valeurs de 4 colonnes pour toutes les lignes\n",
        "df_part3.loc[:, ['V4','CLASS']] = [['000010',1] for _ in range(len(df_part3))]"
      ],
      "metadata": {
        "id": "2HQbKJECKvnT"
      },
      "execution_count": 138,
      "outputs": []
    },
    {
      "cell_type": "code",
      "source": [
        "df_part3['V26']"
      ],
      "metadata": {
        "colab": {
          "base_uri": "https://localhost:8080/"
        },
        "id": "ZJ1Gu-78KyAx",
        "outputId": "d533bdb9-036f-448b-cca7-d88b27a6b97d"
      },
      "execution_count": 139,
      "outputs": [
        {
          "output_type": "execute_result",
          "data": {
            "text/plain": [
              "2826    384\n",
              "2827    384\n",
              "2828    384\n",
              "2829    384\n",
              "2830    384\n",
              "       ... \n",
              "4234    384\n",
              "4235    384\n",
              "4236    384\n",
              "4237    384\n",
              "4238    384\n",
              "Name: V26, Length: 1413, dtype: int64"
            ]
          },
          "metadata": {},
          "execution_count": 139
        }
      ]
    },
    {
      "cell_type": "code",
      "source": [
        "df_part3.loc[df_part3['V26'] == 360, 'V26'] = [384  for _ in range(len(df_part3))]\n",
        "df_part3['V26'] "
      ],
      "metadata": {
        "colab": {
          "base_uri": "https://localhost:8080/"
        },
        "id": "ng1YRhrxK0WS",
        "outputId": "2ed6dc3e-7ae4-45ce-e025-e94044a83f13"
      },
      "execution_count": 140,
      "outputs": [
        {
          "output_type": "execute_result",
          "data": {
            "text/plain": [
              "2826    384\n",
              "2827    384\n",
              "2828    384\n",
              "2829    384\n",
              "2830    384\n",
              "       ... \n",
              "4234    384\n",
              "4235    384\n",
              "4236    384\n",
              "4237    384\n",
              "4238    384\n",
              "Name: V26, Length: 1413, dtype: int64"
            ]
          },
          "metadata": {},
          "execution_count": 140
        }
      ]
    },
    {
      "cell_type": "code",
      "source": [
        "df_part3['V21'] = '0000007'"
      ],
      "metadata": {
        "id": "00zJQ6TWLAu8"
      },
      "execution_count": 141,
      "outputs": []
    },
    {
      "cell_type": "markdown",
      "source": [
        "# Rule 4"
      ],
      "metadata": {
        "id": "cDYtSeqnLBdZ"
      }
    },
    {
      "cell_type": "code",
      "source": [
        "df_part4.loc[:, ['V4','CLASS']] = [['000010',1] for _ in range(len(df_part4))]"
      ],
      "metadata": {
        "id": "iDDEbo5hLD7N"
      },
      "execution_count": 142,
      "outputs": []
    },
    {
      "cell_type": "code",
      "source": [
        "df_part4.loc[df_part4['V26'] != 360, 'V26'] = [360  for _ in range(len(df_part4))]\n",
        "df_part4['V26'] "
      ],
      "metadata": {
        "colab": {
          "base_uri": "https://localhost:8080/"
        },
        "id": "hcfEfqQULHBh",
        "outputId": "13a123f4-95a2-47d5-8adb-9547ec3c62fe"
      },
      "execution_count": 143,
      "outputs": [
        {
          "output_type": "execute_result",
          "data": {
            "text/plain": [
              "4239    360\n",
              "4240    360\n",
              "4241    360\n",
              "4242    360\n",
              "4243    360\n",
              "       ... \n",
              "5647    360\n",
              "5648    360\n",
              "5649    360\n",
              "5650    360\n",
              "5651    360\n",
              "Name: V26, Length: 1413, dtype: int64"
            ]
          },
          "metadata": {},
          "execution_count": 143
        }
      ]
    },
    {
      "cell_type": "code",
      "source": [
        "df_part4['V21'] = 'VISPOS01'"
      ],
      "metadata": {
        "id": "pEtvAXhgLJax"
      },
      "execution_count": 144,
      "outputs": []
    },
    {
      "cell_type": "markdown",
      "source": [
        "# Rule 5"
      ],
      "metadata": {
        "id": "KBpAiyiaLOuX"
      }
    },
    {
      "cell_type": "code",
      "source": [
        "df_part5.loc[:, ['V4','CLASS']] = [['000010',1] for _ in range(len(df_part5))]"
      ],
      "metadata": {
        "id": "X6pQEhhxLRCE"
      },
      "execution_count": 145,
      "outputs": []
    },
    {
      "cell_type": "code",
      "source": [
        "df_part5['V26'] = 360"
      ],
      "metadata": {
        "id": "3JoQaPWXLTkd"
      },
      "execution_count": 146,
      "outputs": []
    },
    {
      "cell_type": "code",
      "source": [
        "df_part5['V15'] = 902"
      ],
      "metadata": {
        "id": "t4g4r6QTLVbv"
      },
      "execution_count": 147,
      "outputs": []
    },
    {
      "cell_type": "code",
      "source": [
        "import numpy as np\n",
        "\n",
        "df = []\n",
        "values = ['01','17']  \n",
        "for i in range(len(df_part5)):\n",
        "  df.append(np.random.choice(values))\n",
        "df_part5['V1'] = df\n",
        "df_part5['V1']\n"
      ],
      "metadata": {
        "colab": {
          "base_uri": "https://localhost:8080/"
        },
        "id": "4A-Vx0VZLY0g",
        "outputId": "8da2e723-5096-4eb9-c7cb-94e591769c03"
      },
      "execution_count": 148,
      "outputs": [
        {
          "output_type": "execute_result",
          "data": {
            "text/plain": [
              "5652    17\n",
              "5653    17\n",
              "5654    01\n",
              "5655    17\n",
              "5656    01\n",
              "        ..\n",
              "7060    17\n",
              "7061    17\n",
              "7062    17\n",
              "7063    01\n",
              "7064    01\n",
              "Name: V1, Length: 1413, dtype: object"
            ]
          },
          "metadata": {},
          "execution_count": 148
        }
      ]
    },
    {
      "cell_type": "markdown",
      "source": [
        "# Rule 6"
      ],
      "metadata": {
        "id": "Z1eq1nNcLd9Q"
      }
    },
    {
      "cell_type": "code",
      "source": [
        "df_part6.loc[:, ['V4','CLASS']] = [['000010',1] for _ in range(len(df_part6))]"
      ],
      "metadata": {
        "id": "qBg_sXSsLg7k"
      },
      "execution_count": 149,
      "outputs": []
    },
    {
      "cell_type": "code",
      "source": [
        "df_part6.loc[:, 'V10'] = [random.randint(18000,999999) for _ in range(len(df_part6))]"
      ],
      "metadata": {
        "id": "eqTtYRxLLj1g"
      },
      "execution_count": 150,
      "outputs": []
    },
    {
      "cell_type": "code",
      "source": [
        "import random\n",
        "for index, row in df_part6.iterrows():\n",
        "    df_part6.at[index, 'V16'] = row['V16'][:6] + '5' + row['V16'][7:]"
      ],
      "metadata": {
        "id": "6_PG9h2tLmzj"
      },
      "execution_count": 151,
      "outputs": []
    },
    {
      "cell_type": "code",
      "source": [],
      "metadata": {
        "id": "GJAYsSQ4LqFT"
      },
      "execution_count": 151,
      "outputs": []
    },
    {
      "cell_type": "markdown",
      "source": [
        "# Rule 7"
      ],
      "metadata": {
        "id": "DjMcMSXtLsut"
      }
    },
    {
      "cell_type": "code",
      "source": [
        "df_part7.loc[:, ['V4','CLASS']] = [['000010',1] for _ in range(len(df_part7))]"
      ],
      "metadata": {
        "id": "FJO_XWCRLv3p"
      },
      "execution_count": 152,
      "outputs": []
    },
    {
      "cell_type": "code",
      "source": [
        "df_part7['V1'] = '20'"
      ],
      "metadata": {
        "id": "gnkIO8tNLyPV"
      },
      "execution_count": 153,
      "outputs": []
    },
    {
      "cell_type": "code",
      "source": [
        "import random\n",
        "import numpy as np\n",
        "df_part1['V10'] = random.randint(10000, max_values['V10'])"
      ],
      "metadata": {
        "id": "zSzmt-sRL0ji"
      },
      "execution_count": 154,
      "outputs": []
    },
    {
      "cell_type": "code",
      "source": [
        "df_part7.loc[df_part7['V13']==5331 , 'V13'] = [6011 for _ in range(len(df_part7))]"
      ],
      "metadata": {
        "id": "t4C1zCi6L3Sj"
      },
      "execution_count": 155,
      "outputs": []
    },
    {
      "cell_type": "code",
      "source": [
        "df_part7.loc[df_part7['V13']==7011 , 'V13'] = [6011 for _ in range(len(df_part7))]"
      ],
      "metadata": {
        "id": "382N27tWL5xP"
      },
      "execution_count": 156,
      "outputs": []
    },
    {
      "cell_type": "code",
      "source": [
        "max(df_part7['V13'])"
      ],
      "metadata": {
        "colab": {
          "base_uri": "https://localhost:8080/"
        },
        "id": "UDj_uz-JL72z",
        "outputId": "5230447f-1dc3-49f8-94e0-7341d3b0d97e"
      },
      "execution_count": 157,
      "outputs": [
        {
          "output_type": "execute_result",
          "data": {
            "text/plain": [
              "6011"
            ]
          },
          "metadata": {},
          "execution_count": 157
        }
      ]
    },
    {
      "cell_type": "markdown",
      "source": [
        "# Export\n"
      ],
      "metadata": {
        "id": "57XrcmuTL_7U"
      }
    },
    {
      "cell_type": "code",
      "source": [
        "df_final = pd.concat([df_part1,df_part2,df_part3,df_part4,df_part5,df_part6,df_part7])"
      ],
      "metadata": {
        "id": "ZW4mgbLINlId"
      },
      "execution_count": 158,
      "outputs": []
    },
    {
      "cell_type": "code",
      "source": [
        "df_final.to_excel('zakaria_fraud2.xlsx', index=False)"
      ],
      "metadata": {
        "id": "Bkep7IKXN2fd"
      },
      "execution_count": 159,
      "outputs": []
    }
  ]
}