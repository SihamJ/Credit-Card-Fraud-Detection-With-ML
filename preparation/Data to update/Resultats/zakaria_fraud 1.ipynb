{
  "nbformat": 4,
  "nbformat_minor": 0,
  "metadata": {
    "colab": {
      "provenance": []
    },
    "kernelspec": {
      "name": "python3",
      "display_name": "Python 3"
    },
    "language_info": {
      "name": "python"
    }
  },
  "cells": [
    {
      "cell_type": "markdown",
      "source": [
        "# Spliting\n"
      ],
      "metadata": {
        "id": "NpiafqPcJiCa"
      }
    },
    {
      "cell_type": "code",
      "source": [
        "import pandas as pd\n",
        "import numpy as np\n",
        "# Charger la dataframe\n",
        "data = pd.read_excel('zakaria.xlsx')"
      ],
      "metadata": {
        "id": "C5QQqf6qJocF"
      },
      "execution_count": 1,
      "outputs": []
    },
    {
      "cell_type": "code",
      "source": [
        "data.shape"
      ],
      "metadata": {
        "colab": {
          "base_uri": "https://localhost:8080/"
        },
        "id": "gjExMvTzJyBe",
        "outputId": "af077fe0-f411-4546-e9da-c2fe0ebd8d14"
      },
      "execution_count": 2,
      "outputs": [
        {
          "output_type": "execute_result",
          "data": {
            "text/plain": [
              "(13552, 28)"
            ]
          },
          "metadata": {},
          "execution_count": 2
        }
      ]
    },
    {
      "cell_type": "code",
      "source": [
        "# Diviser la dataframe en 7 parties\n",
        "df_parts = np.array_split(data, 7)"
      ],
      "metadata": {
        "id": "MdcOtmGxJ3k5"
      },
      "execution_count": 3,
      "outputs": []
    },
    {
      "cell_type": "code",
      "source": [
        "# Afficher la taille de chaque partie\n",
        "for i, part in enumerate(df_parts):\n",
        "    print(f'Taille de la partie {i+1}: {len(part)}')"
      ],
      "metadata": {
        "colab": {
          "base_uri": "https://localhost:8080/"
        },
        "id": "9p8U6Fe-J8UV",
        "outputId": "600f1220-c921-4809-b768-c2cdaf126121"
      },
      "execution_count": 4,
      "outputs": [
        {
          "output_type": "stream",
          "name": "stdout",
          "text": [
            "Taille de la partie 1: 1936\n",
            "Taille de la partie 2: 1936\n",
            "Taille de la partie 3: 1936\n",
            "Taille de la partie 4: 1936\n",
            "Taille de la partie 5: 1936\n",
            "Taille de la partie 6: 1936\n",
            "Taille de la partie 7: 1936\n"
          ]
        }
      ]
    },
    {
      "cell_type": "code",
      "source": [
        "# Stocker chaque partie dans une dataframe séparée\n",
        "df_part1, df_part2, df_part3,df_part4,df_part5,df_part6,df_part7 = df_parts"
      ],
      "metadata": {
        "id": "zCU1cNuMJ830"
      },
      "execution_count": 5,
      "outputs": []
    },
    {
      "cell_type": "markdown",
      "source": [
        "# Rule 1\n"
      ],
      "metadata": {
        "id": "3i89hAuSKJxz"
      }
    },
    {
      "cell_type": "code",
      "source": [
        "# Modifier les valeurs de 4 colonnes pour toutes les lignes\n",
        "df_part1.loc[:, ['V4','CLASS']] = [['000010',1] for _ in range(len(df_part1))]"
      ],
      "metadata": {
        "id": "gAImNbrQKNkU"
      },
      "execution_count": 6,
      "outputs": []
    },
    {
      "cell_type": "code",
      "source": [
        "# Modifier toutes les lignes où la colonne V10 est inférieure ou égale à 8000\n",
        "import random\n",
        "import numpy as np\n",
        "df_part1.loc[df_part1['V10'] < 8000, 'V10'] = [random.randint(8000,999999999999) for _ in range(len(df_part1))]"
      ],
      "metadata": {
        "id": "916TLkoIKQ3h"
      },
      "execution_count": 7,
      "outputs": []
    },
    {
      "cell_type": "code",
      "source": [
        "max(df_part1['V16'].str[6])"
      ],
      "metadata": {
        "colab": {
          "base_uri": "https://localhost:8080/",
          "height": 35
        },
        "id": "LxieIaJmKT2I",
        "outputId": "526fd797-39e6-4f2b-a933-82302be918c1"
      },
      "execution_count": 8,
      "outputs": [
        {
          "output_type": "execute_result",
          "data": {
            "text/plain": [
              "'2'"
            ],
            "application/vnd.google.colaboratory.intrinsic+json": {
              "type": "string"
            }
          },
          "metadata": {},
          "execution_count": 8
        }
      ]
    },
    {
      "cell_type": "markdown",
      "source": [
        "# Rule 2"
      ],
      "metadata": {
        "id": "WqVylg5ZKY_m"
      }
    },
    {
      "cell_type": "code",
      "source": [
        "# Modifier les valeurs de 4 colonnes pour toutes les lignes\n",
        "df_part2.loc[:, ['V4','CLASS']] = [['000010',1] for _ in range(len(df_part2))]"
      ],
      "metadata": {
        "id": "fCGmUWNaKbkm"
      },
      "execution_count": 9,
      "outputs": []
    },
    {
      "cell_type": "code",
      "source": [
        "# Modifier les valeurs de 4 colonnes pour toutes les lignes\n",
        "df_part1.loc[:, ['V4','CLASS']] = [['000010',1] for _ in range(len(df_part1))]"
      ],
      "metadata": {
        "id": "loTzySTDKecU"
      },
      "execution_count": 10,
      "outputs": []
    },
    {
      "cell_type": "code",
      "source": [
        "# Modifier toutes les lignes où la colonne V10 est inférieure ou égale à 60000\n",
        "import random\n",
        "import numpy as np\n",
        "df_part2.loc[df_part2['V10'] < 60000, 'V10'] = [random.randint(60000,999999999999) for _ in range(len(df_part2))]"
      ],
      "metadata": {
        "id": "fgcxGm42KiDg"
      },
      "execution_count": 11,
      "outputs": []
    },
    {
      "cell_type": "code",
      "source": [
        "df_part2['V1'] = '00'"
      ],
      "metadata": {
        "id": "VpyHBC5DKkml"
      },
      "execution_count": 12,
      "outputs": []
    },
    {
      "cell_type": "code",
      "source": [
        "import random\n",
        "\n",
        "for index, row in df_part2.iterrows():\n",
        "    df_part2.at[index, 'V16'] = row['V16'][:6] + random.choice(['9', 'S', 'T', 'U', 'V']) + row['V16'][7:]\n"
      ],
      "metadata": {
        "id": "sxjEuxE1KnUR"
      },
      "execution_count": 13,
      "outputs": []
    },
    {
      "cell_type": "markdown",
      "source": [
        "# Rule 3"
      ],
      "metadata": {
        "id": "am_Oe4FyKtdH"
      }
    },
    {
      "cell_type": "code",
      "source": [
        "# Modifier les valeurs de 4 colonnes pour toutes les lignes\n",
        "df_part3.loc[:, ['V4','CLASS']] = [['000010',1] for _ in range(len(df_part3))]"
      ],
      "metadata": {
        "id": "2HQbKJECKvnT"
      },
      "execution_count": 14,
      "outputs": []
    },
    {
      "cell_type": "code",
      "source": [
        "df_part3['V26']"
      ],
      "metadata": {
        "colab": {
          "base_uri": "https://localhost:8080/"
        },
        "id": "ZJ1Gu-78KyAx",
        "outputId": "b9d9bcf4-2990-42e9-c0d6-93d840ea3d12"
      },
      "execution_count": 15,
      "outputs": [
        {
          "output_type": "execute_result",
          "data": {
            "text/plain": [
              "3872    384\n",
              "3873    384\n",
              "3874    384\n",
              "3875    384\n",
              "3876    384\n",
              "       ... \n",
              "5803    384\n",
              "5804    384\n",
              "5805    384\n",
              "5806    384\n",
              "5807    384\n",
              "Name: V26, Length: 1936, dtype: int64"
            ]
          },
          "metadata": {},
          "execution_count": 15
        }
      ]
    },
    {
      "cell_type": "code",
      "source": [
        "df_part3.loc[df_part3['V26'] == 360, 'V26'] = [384  for _ in range(len(df_part3))]\n",
        "df_part3['V26'] "
      ],
      "metadata": {
        "colab": {
          "base_uri": "https://localhost:8080/"
        },
        "id": "ng1YRhrxK0WS",
        "outputId": "409c510b-8fab-465e-ff68-354def505301"
      },
      "execution_count": 16,
      "outputs": [
        {
          "output_type": "execute_result",
          "data": {
            "text/plain": [
              "3872    384\n",
              "3873    384\n",
              "3874    384\n",
              "3875    384\n",
              "3876    384\n",
              "       ... \n",
              "5803    384\n",
              "5804    384\n",
              "5805    384\n",
              "5806    384\n",
              "5807    384\n",
              "Name: V26, Length: 1936, dtype: int64"
            ]
          },
          "metadata": {},
          "execution_count": 16
        }
      ]
    },
    {
      "cell_type": "code",
      "source": [
        "df_part3['V21'] = '0000007'"
      ],
      "metadata": {
        "id": "00zJQ6TWLAu8"
      },
      "execution_count": 17,
      "outputs": []
    },
    {
      "cell_type": "markdown",
      "source": [
        "# Rule 4"
      ],
      "metadata": {
        "id": "cDYtSeqnLBdZ"
      }
    },
    {
      "cell_type": "code",
      "source": [
        "df_part4.loc[:, ['V4','CLASS']] = [['000010',1] for _ in range(len(df_part4))]"
      ],
      "metadata": {
        "id": "iDDEbo5hLD7N"
      },
      "execution_count": 18,
      "outputs": []
    },
    {
      "cell_type": "code",
      "source": [
        "df_part4.loc[df_part4['V26'] != 360, 'V26'] = [360  for _ in range(len(df_part4))]\n",
        "df_part4['V26'] "
      ],
      "metadata": {
        "colab": {
          "base_uri": "https://localhost:8080/"
        },
        "id": "hcfEfqQULHBh",
        "outputId": "74e61ab8-082e-4a8e-c719-6b05afe0564d"
      },
      "execution_count": 19,
      "outputs": [
        {
          "output_type": "execute_result",
          "data": {
            "text/plain": [
              "5808    360\n",
              "5809    360\n",
              "5810    360\n",
              "5811    360\n",
              "5812    360\n",
              "       ... \n",
              "7739    360\n",
              "7740    360\n",
              "7741    360\n",
              "7742    360\n",
              "7743    360\n",
              "Name: V26, Length: 1936, dtype: int64"
            ]
          },
          "metadata": {},
          "execution_count": 19
        }
      ]
    },
    {
      "cell_type": "code",
      "source": [
        "df_part4['V21'] = 'VISPOS01'"
      ],
      "metadata": {
        "id": "pEtvAXhgLJax"
      },
      "execution_count": 20,
      "outputs": []
    },
    {
      "cell_type": "markdown",
      "source": [
        "# Rule 5"
      ],
      "metadata": {
        "id": "KBpAiyiaLOuX"
      }
    },
    {
      "cell_type": "code",
      "source": [
        "df_part5.loc[:, ['V4','CLASS']] = [['000010',1] for _ in range(len(df_part5))]"
      ],
      "metadata": {
        "id": "X6pQEhhxLRCE"
      },
      "execution_count": 21,
      "outputs": []
    },
    {
      "cell_type": "code",
      "source": [
        "df_part5['V26'] = 360"
      ],
      "metadata": {
        "id": "3JoQaPWXLTkd"
      },
      "execution_count": 22,
      "outputs": []
    },
    {
      "cell_type": "code",
      "source": [
        "df_part5['V15'] = 902"
      ],
      "metadata": {
        "id": "t4g4r6QTLVbv"
      },
      "execution_count": 23,
      "outputs": []
    },
    {
      "cell_type": "code",
      "source": [
        "import numpy as np\n",
        "\n",
        "df = []\n",
        "values = ['01','17']  \n",
        "for i in range(len(df_part5)):\n",
        "  df.append(np.random.choice(values))\n",
        "df_part5['V1'] = df\n",
        "df_part5['V1']\n"
      ],
      "metadata": {
        "colab": {
          "base_uri": "https://localhost:8080/"
        },
        "id": "4A-Vx0VZLY0g",
        "outputId": "d43b48a6-4bae-499e-deaf-08ddf7708561"
      },
      "execution_count": 24,
      "outputs": [
        {
          "output_type": "execute_result",
          "data": {
            "text/plain": [
              "7744    01\n",
              "7745    01\n",
              "7746    01\n",
              "7747    01\n",
              "7748    17\n",
              "        ..\n",
              "9675    17\n",
              "9676    01\n",
              "9677    01\n",
              "9678    17\n",
              "9679    01\n",
              "Name: V1, Length: 1936, dtype: object"
            ]
          },
          "metadata": {},
          "execution_count": 24
        }
      ]
    },
    {
      "cell_type": "markdown",
      "source": [
        "# Rule 6"
      ],
      "metadata": {
        "id": "Z1eq1nNcLd9Q"
      }
    },
    {
      "cell_type": "code",
      "source": [
        "df_part6.loc[:, ['V4','CLASS']] = [['000010',1] for _ in range(len(df_part6))]"
      ],
      "metadata": {
        "id": "qBg_sXSsLg7k"
      },
      "execution_count": 25,
      "outputs": []
    },
    {
      "cell_type": "code",
      "source": [
        "df_part6.loc[:, 'V10'] = [random.randint(18000,999999) for _ in range(len(df_part6))]"
      ],
      "metadata": {
        "id": "eqTtYRxLLj1g"
      },
      "execution_count": 26,
      "outputs": []
    },
    {
      "cell_type": "code",
      "source": [
        "import random\n",
        "for index, row in df_part6.iterrows():\n",
        "    df_part6.at[index, 'V16'] = row['V16'][:6] + '5' + row['V16'][7:]"
      ],
      "metadata": {
        "id": "6_PG9h2tLmzj"
      },
      "execution_count": 27,
      "outputs": []
    },
    {
      "cell_type": "code",
      "source": [],
      "metadata": {
        "id": "GJAYsSQ4LqFT"
      },
      "execution_count": 27,
      "outputs": []
    },
    {
      "cell_type": "markdown",
      "source": [
        "# Rule 7"
      ],
      "metadata": {
        "id": "DjMcMSXtLsut"
      }
    },
    {
      "cell_type": "code",
      "source": [
        "df_part7.loc[:, ['V4','CLASS']] = [['000010',1] for _ in range(len(df_part7))]"
      ],
      "metadata": {
        "id": "FJO_XWCRLv3p"
      },
      "execution_count": 28,
      "outputs": []
    },
    {
      "cell_type": "code",
      "source": [
        "df_part7['V1'] = '20'"
      ],
      "metadata": {
        "id": "gnkIO8tNLyPV"
      },
      "execution_count": 29,
      "outputs": []
    },
    {
      "cell_type": "code",
      "source": [
        "import random\n",
        "import numpy as np\n",
        "df_part7.loc[df_part7['V10'] < 10000, 'V10'] = [random.randint(10000,999999) for _ in range(len(df_part7))]"
      ],
      "metadata": {
        "id": "zSzmt-sRL0ji"
      },
      "execution_count": 30,
      "outputs": []
    },
    {
      "cell_type": "code",
      "source": [
        "df_part7.loc[df_part7['V13']==5331 , 'V13'] = [6011 for _ in range(len(df_part7))]"
      ],
      "metadata": {
        "id": "t4C1zCi6L3Sj"
      },
      "execution_count": 31,
      "outputs": []
    },
    {
      "cell_type": "code",
      "source": [
        "df_part7.loc[df_part7['V13']==7011 , 'V13'] = [6011 for _ in range(len(df_part7))]"
      ],
      "metadata": {
        "id": "382N27tWL5xP"
      },
      "execution_count": 32,
      "outputs": []
    },
    {
      "cell_type": "code",
      "source": [
        "max(df_part7['V13'])"
      ],
      "metadata": {
        "colab": {
          "base_uri": "https://localhost:8080/"
        },
        "id": "UDj_uz-JL72z",
        "outputId": "22527a2e-fa4c-4c4d-cd9d-5f0aaf2bddba"
      },
      "execution_count": 33,
      "outputs": [
        {
          "output_type": "execute_result",
          "data": {
            "text/plain": [
              "6011"
            ]
          },
          "metadata": {},
          "execution_count": 33
        }
      ]
    },
    {
      "cell_type": "markdown",
      "source": [
        "# Vérification des tailles \n"
      ],
      "metadata": {
        "id": "57XrcmuTL_7U"
      }
    },
    {
      "cell_type": "code",
      "source": [
        "dataIn = pd.read_excel('Authorization_data_v2.xlsx')\n"
      ],
      "metadata": {
        "id": "qRwKvto6MGix"
      },
      "execution_count": null,
      "outputs": []
    },
    {
      "cell_type": "code",
      "source": [
        "# Supprimer les valeurs nulles dans la colonne \"colonne_1\"\n",
        "dfS = dataIn.dropna(subset=['V10'])\n",
        "print(max(dfS['V10']))\n",
        "print(min(dfS['V10']))\n"
      ],
      "metadata": {
        "id": "oAXMhBL7MIuj"
      },
      "execution_count": null,
      "outputs": []
    },
    {
      "cell_type": "markdown",
      "source": [
        "# Export"
      ],
      "metadata": {
        "id": "Cy2yRdL3NiQ3"
      }
    },
    {
      "cell_type": "code",
      "source": [
        "df_final = pd.concat([df_part1,df_part2,df_part3,df_part4,df_part5,df_part6,df_part7])"
      ],
      "metadata": {
        "id": "ZW4mgbLINlId"
      },
      "execution_count": 34,
      "outputs": []
    },
    {
      "cell_type": "code",
      "source": [
        "df_final.to_excel('zakaria_fraud.xlsx', index=False)"
      ],
      "metadata": {
        "id": "Bkep7IKXN2fd"
      },
      "execution_count": 36,
      "outputs": []
    }
  ]
}