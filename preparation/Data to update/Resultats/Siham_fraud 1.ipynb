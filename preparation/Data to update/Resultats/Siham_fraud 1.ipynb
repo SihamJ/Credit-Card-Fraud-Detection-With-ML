{
 "cells": [
  {
   "cell_type": "code",
   "execution_count": 1,
   "metadata": {},
   "outputs": [],
   "source": [
    "import pandas as pd\n",
    "import numpy as np"
   ]
  },
  {
   "cell_type": "code",
   "execution_count": 2,
   "metadata": {},
   "outputs": [],
   "source": [
    "root = '/home/sihartist/Desktop/'"
   ]
  },
  {
   "cell_type": "code",
   "execution_count": 3,
   "metadata": {},
   "outputs": [],
   "source": [
    "df = pd.read_excel(root + 'fraud-detection/dataset/siham.xlsx')\n"
   ]
  },
  {
   "cell_type": "code",
   "execution_count": 4,
   "metadata": {},
   "outputs": [],
   "source": [
    "df['V4'] = df['V4'].astype(str)"
   ]
  },
  {
   "cell_type": "code",
   "execution_count": 5,
   "metadata": {},
   "outputs": [],
   "source": [
    "df_full = pd.read_excel('/home/sihartist/Desktop/fraud-detection/dataset/Authorization_data_v2.xlsx')"
   ]
  },
  {
   "cell_type": "code",
   "execution_count": 6,
   "metadata": {},
   "outputs": [],
   "source": [
    "df_full['V4'] = df_full['V4'].astype(str)"
   ]
  },
  {
   "cell_type": "code",
   "execution_count": 7,
   "metadata": {},
   "outputs": [
    {
     "data": {
      "text/plain": [
       "Index(['V1', 'V2', 'V3', 'V4', 'V5', 'V6', 'V7', 'V8', 'V9', 'V10', 'V11',\n",
       "       'V12', 'V13', 'V14', 'V15', 'V16', 'V17', 'V18', 'V19', 'V20', 'V21',\n",
       "       'V22', 'V23', 'V24', 'V25', 'V26', 'V27', 'CLASS'],\n",
       "      dtype='object')"
      ]
     },
     "execution_count": 7,
     "metadata": {},
     "output_type": "execute_result"
    }
   ],
   "source": [
    "df_full.columns"
   ]
  },
  {
   "cell_type": "code",
   "execution_count": 8,
   "metadata": {},
   "outputs": [
    {
     "name": "stdout",
     "output_type": "stream",
     "text": [
      "<class 'pandas.core.frame.DataFrame'>\n",
      "RangeIndex: 99999 entries, 0 to 99998\n",
      "Data columns (total 28 columns):\n",
      " #   Column  Non-Null Count  Dtype  \n",
      "---  ------  --------------  -----  \n",
      " 0   V1      99999 non-null  int64  \n",
      " 1   V2      99999 non-null  int64  \n",
      " 2   V3      99024 non-null  float64\n",
      " 3   V4      99999 non-null  object \n",
      " 4   V5      99999 non-null  int64  \n",
      " 5   V6      85051 non-null  object \n",
      " 6   V7      99999 non-null  object \n",
      " 7   V8      99999 non-null  object \n",
      " 8   V9      28722 non-null  float64\n",
      " 9   V10     28722 non-null  float64\n",
      " 10  V11     0 non-null      float64\n",
      " 11  V12     99999 non-null  int64  \n",
      " 12  V13     99999 non-null  int64  \n",
      " 13  V14     0 non-null      float64\n",
      " 14  V15     0 non-null      float64\n",
      " 15  V16     99999 non-null  object \n",
      " 16  V17     0 non-null      float64\n",
      " 17  V18     99975 non-null  float64\n",
      " 18  V19     70325 non-null  object \n",
      " 19  V20     99024 non-null  float64\n",
      " 20  V21     99999 non-null  int64  \n",
      " 21  V22     99999 non-null  int64  \n",
      " 22  V23     99999 non-null  object \n",
      " 23  V24     27683 non-null  float64\n",
      " 24  V25     99999 non-null  int64  \n",
      " 25  V26     99999 non-null  int64  \n",
      " 26  V27     99999 non-null  object \n",
      " 27  CLASS   99191 non-null  float64\n",
      "dtypes: float64(11), int64(9), object(8)\n",
      "memory usage: 21.4+ MB\n"
     ]
    }
   ],
   "source": [
    "df_full.info()"
   ]
  },
  {
   "cell_type": "code",
   "execution_count": 9,
   "metadata": {},
   "outputs": [
    {
     "data": {
      "text/plain": [
       "{'V1': 40,\n",
       " 'V2': 284,\n",
       " 'V3': 22.0,\n",
       " 'V5': 781,\n",
       " 'V9': 800000.0,\n",
       " 'V10': 800000.0,\n",
       " 'V11': nan,\n",
       " 'V12': 10112,\n",
       " 'V13': 7011,\n",
       " 'V14': nan,\n",
       " 'V15': nan,\n",
       " 'V17': nan,\n",
       " 'V18': 6.0,\n",
       " 'V20': 3.0,\n",
       " 'V21': 1129152,\n",
       " 'V22': 1000004,\n",
       " 'V24': 800000.0,\n",
       " 'V25': 952,\n",
       " 'V26': 384}"
      ]
     },
     "execution_count": 9,
     "metadata": {},
     "output_type": "execute_result"
    }
   ],
   "source": [
    "columns_num = df_full.select_dtypes(include=np.number).columns.tolist()\n",
    "columns_num.remove('CLASS')\n",
    "max_values = {}\n",
    "\n",
    "for v in columns_num:\n",
    "    max_values[v] = df_full[v].max()\n",
    "\n",
    "max_values"
   ]
  },
  {
   "cell_type": "code",
   "execution_count": 10,
   "metadata": {},
   "outputs": [
    {
     "data": {
      "text/html": [
       "<div>\n",
       "<style scoped>\n",
       "    .dataframe tbody tr th:only-of-type {\n",
       "        vertical-align: middle;\n",
       "    }\n",
       "\n",
       "    .dataframe tbody tr th {\n",
       "        vertical-align: top;\n",
       "    }\n",
       "\n",
       "    .dataframe thead th {\n",
       "        text-align: right;\n",
       "    }\n",
       "</style>\n",
       "<table border=\"1\" class=\"dataframe\">\n",
       "  <thead>\n",
       "    <tr style=\"text-align: right;\">\n",
       "      <th></th>\n",
       "      <th>V1</th>\n",
       "      <th>V2</th>\n",
       "      <th>V3</th>\n",
       "      <th>V4</th>\n",
       "      <th>V5</th>\n",
       "      <th>V6</th>\n",
       "      <th>V7</th>\n",
       "      <th>V8</th>\n",
       "      <th>V9</th>\n",
       "      <th>V10</th>\n",
       "      <th>...</th>\n",
       "      <th>V19</th>\n",
       "      <th>V20</th>\n",
       "      <th>V21</th>\n",
       "      <th>V22</th>\n",
       "      <th>V23</th>\n",
       "      <th>V24</th>\n",
       "      <th>V25</th>\n",
       "      <th>V26</th>\n",
       "      <th>V27</th>\n",
       "      <th>CLASS</th>\n",
       "    </tr>\n",
       "  </thead>\n",
       "  <tbody>\n",
       "    <tr>\n",
       "      <th>0</th>\n",
       "      <td>31</td>\n",
       "      <td>281</td>\n",
       "      <td>22</td>\n",
       "      <td>10112</td>\n",
       "      <td>500</td>\n",
       "      <td>01/11/2008</td>\n",
       "      <td>01/11/2010</td>\n",
       "      <td>04/04/2009 16:05:07</td>\n",
       "      <td>NaN</td>\n",
       "      <td>NaN</td>\n",
       "      <td>...</td>\n",
       "      <td>1448.0</td>\n",
       "      <td>0</td>\n",
       "      <td>1000001</td>\n",
       "      <td>1000001</td>\n",
       "      <td>26/12/2009</td>\n",
       "      <td>NaN</td>\n",
       "      <td>952</td>\n",
       "      <td>384</td>\n",
       "      <td>VERSUS BANK PLATEAU    REGION LAGUNECI</td>\n",
       "      <td>0</td>\n",
       "    </tr>\n",
       "    <tr>\n",
       "      <th>1</th>\n",
       "      <td>31</td>\n",
       "      <td>281</td>\n",
       "      <td>22</td>\n",
       "      <td>10112</td>\n",
       "      <td>500</td>\n",
       "      <td>01/11/2008</td>\n",
       "      <td>01/11/2010</td>\n",
       "      <td>07/04/2009 17:49:05</td>\n",
       "      <td>NaN</td>\n",
       "      <td>NaN</td>\n",
       "      <td>...</td>\n",
       "      <td>47660.0</td>\n",
       "      <td>0</td>\n",
       "      <td>1000002</td>\n",
       "      <td>1000002</td>\n",
       "      <td>26/12/2009</td>\n",
       "      <td>NaN</td>\n",
       "      <td>952</td>\n",
       "      <td>384</td>\n",
       "      <td>VERSUS BANK 2 PLATEAUX REGION LAGUNECI</td>\n",
       "      <td>0</td>\n",
       "    </tr>\n",
       "    <tr>\n",
       "      <th>2</th>\n",
       "      <td>31</td>\n",
       "      <td>281</td>\n",
       "      <td>22</td>\n",
       "      <td>10112</td>\n",
       "      <td>500</td>\n",
       "      <td>01/03/2009</td>\n",
       "      <td>01/03/2011</td>\n",
       "      <td>08/04/2009 17:54:25</td>\n",
       "      <td>NaN</td>\n",
       "      <td>NaN</td>\n",
       "      <td>...</td>\n",
       "      <td>83514.0</td>\n",
       "      <td>0</td>\n",
       "      <td>1000003</td>\n",
       "      <td>1000003</td>\n",
       "      <td>26/12/2009</td>\n",
       "      <td>NaN</td>\n",
       "      <td>952</td>\n",
       "      <td>384</td>\n",
       "      <td>VERSUS BANK ZONE 4     REGION LAGUNECI</td>\n",
       "      <td>0</td>\n",
       "    </tr>\n",
       "    <tr>\n",
       "      <th>3</th>\n",
       "      <td>31</td>\n",
       "      <td>281</td>\n",
       "      <td>22</td>\n",
       "      <td>10112</td>\n",
       "      <td>500</td>\n",
       "      <td>01/01/2009</td>\n",
       "      <td>01/01/2011</td>\n",
       "      <td>06/04/2009 17:15:02</td>\n",
       "      <td>NaN</td>\n",
       "      <td>NaN</td>\n",
       "      <td>...</td>\n",
       "      <td>31856.0</td>\n",
       "      <td>0</td>\n",
       "      <td>1000003</td>\n",
       "      <td>1000003</td>\n",
       "      <td>26/12/2009</td>\n",
       "      <td>NaN</td>\n",
       "      <td>952</td>\n",
       "      <td>384</td>\n",
       "      <td>VERSUS BANK ZONE 4     REGION LAGUNECI</td>\n",
       "      <td>0</td>\n",
       "    </tr>\n",
       "    <tr>\n",
       "      <th>4</th>\n",
       "      <td>31</td>\n",
       "      <td>281</td>\n",
       "      <td>22</td>\n",
       "      <td>10112</td>\n",
       "      <td>500</td>\n",
       "      <td>01/09/2008</td>\n",
       "      <td>01/09/2009</td>\n",
       "      <td>07/04/2009 15:24:25</td>\n",
       "      <td>NaN</td>\n",
       "      <td>NaN</td>\n",
       "      <td>...</td>\n",
       "      <td>81083.0</td>\n",
       "      <td>0</td>\n",
       "      <td>1000001</td>\n",
       "      <td>1000001</td>\n",
       "      <td>26/12/2009</td>\n",
       "      <td>NaN</td>\n",
       "      <td>952</td>\n",
       "      <td>384</td>\n",
       "      <td>VERSUS BANK PLATEAU    REGION LAGUNECI</td>\n",
       "      <td>0</td>\n",
       "    </tr>\n",
       "  </tbody>\n",
       "</table>\n",
       "<p>5 rows × 28 columns</p>\n",
       "</div>"
      ],
      "text/plain": [
       "   V1   V2  V3     V4   V5          V6          V7                   V8  V9  \\\n",
       "0  31  281  22  10112  500  01/11/2008  01/11/2010  04/04/2009 16:05:07 NaN   \n",
       "1  31  281  22  10112  500  01/11/2008  01/11/2010  07/04/2009 17:49:05 NaN   \n",
       "2  31  281  22  10112  500  01/03/2009  01/03/2011  08/04/2009 17:54:25 NaN   \n",
       "3  31  281  22  10112  500  01/01/2009  01/01/2011  06/04/2009 17:15:02 NaN   \n",
       "4  31  281  22  10112  500  01/09/2008  01/09/2009  07/04/2009 15:24:25 NaN   \n",
       "\n",
       "   V10  ...      V19  V20      V21      V22         V23 V24  V25  V26  \\\n",
       "0  NaN  ...   1448.0    0  1000001  1000001  26/12/2009 NaN  952  384   \n",
       "1  NaN  ...  47660.0    0  1000002  1000002  26/12/2009 NaN  952  384   \n",
       "2  NaN  ...  83514.0    0  1000003  1000003  26/12/2009 NaN  952  384   \n",
       "3  NaN  ...  31856.0    0  1000003  1000003  26/12/2009 NaN  952  384   \n",
       "4  NaN  ...  81083.0    0  1000001  1000001  26/12/2009 NaN  952  384   \n",
       "\n",
       "                                      V27  CLASS  \n",
       "0  VERSUS BANK PLATEAU    REGION LAGUNECI      0  \n",
       "1  VERSUS BANK 2 PLATEAUX REGION LAGUNECI      0  \n",
       "2  VERSUS BANK ZONE 4     REGION LAGUNECI      0  \n",
       "3  VERSUS BANK ZONE 4     REGION LAGUNECI      0  \n",
       "4  VERSUS BANK PLATEAU    REGION LAGUNECI      0  \n",
       "\n",
       "[5 rows x 28 columns]"
      ]
     },
     "execution_count": 10,
     "metadata": {},
     "output_type": "execute_result"
    }
   ],
   "source": [
    "df.head()"
   ]
  },
  {
   "cell_type": "code",
   "execution_count": 11,
   "metadata": {},
   "outputs": [
    {
     "data": {
      "text/plain": [
       "0    13551\n",
       "Name: CLASS, dtype: int64"
      ]
     },
     "execution_count": 11,
     "metadata": {},
     "output_type": "execute_result"
    }
   ],
   "source": [
    "df['CLASS'].value_counts()"
   ]
  },
  {
   "cell_type": "code",
   "execution_count": 12,
   "metadata": {},
   "outputs": [
    {
     "name": "stdout",
     "output_type": "stream",
     "text": [
      "<class 'pandas.core.frame.DataFrame'>\n",
      "RangeIndex: 13551 entries, 0 to 13550\n",
      "Data columns (total 28 columns):\n",
      " #   Column  Non-Null Count  Dtype  \n",
      "---  ------  --------------  -----  \n",
      " 0   V1      13551 non-null  int64  \n",
      " 1   V2      13551 non-null  int64  \n",
      " 2   V3      13551 non-null  int64  \n",
      " 3   V4      13551 non-null  object \n",
      " 4   V5      13551 non-null  int64  \n",
      " 5   V6      13468 non-null  object \n",
      " 6   V7      13551 non-null  object \n",
      " 7   V8      13551 non-null  object \n",
      " 8   V9      0 non-null      float64\n",
      " 9   V10     0 non-null      float64\n",
      " 10  V11     0 non-null      float64\n",
      " 11  V12     13551 non-null  int64  \n",
      " 12  V13     13551 non-null  int64  \n",
      " 13  V14     0 non-null      float64\n",
      " 14  V15     0 non-null      float64\n",
      " 15  V16     13551 non-null  object \n",
      " 16  V17     0 non-null      float64\n",
      " 17  V18     13551 non-null  int64  \n",
      " 18  V19     13550 non-null  float64\n",
      " 19  V20     13551 non-null  int64  \n",
      " 20  V21     13551 non-null  int64  \n",
      " 21  V22     13551 non-null  int64  \n",
      " 22  V23     13551 non-null  object \n",
      " 23  V24     0 non-null      float64\n",
      " 24  V25     13551 non-null  int64  \n",
      " 25  V26     13551 non-null  int64  \n",
      " 26  V27     13551 non-null  object \n",
      " 27  CLASS   13551 non-null  int64  \n",
      "dtypes: float64(8), int64(13), object(7)\n",
      "memory usage: 2.9+ MB\n"
     ]
    }
   ],
   "source": [
    "df.info()"
   ]
  },
  {
   "cell_type": "code",
   "execution_count": 13,
   "metadata": {},
   "outputs": [],
   "source": [
    "import random"
   ]
  },
  {
   "cell_type": "code",
   "execution_count": 14,
   "metadata": {},
   "outputs": [],
   "source": [
    "def random_not_in(l, max):\n",
    "    res = l[0]\n",
    "    while(res in l):\n",
    "        res = random.randint(0, max)\n",
    "    return res"
   ]
  },
  {
   "cell_type": "code",
   "execution_count": 15,
   "metadata": {},
   "outputs": [],
   "source": [
    "\"\"\"\n",
    "Rule 1\n",
    "V4 = ''000010''\n",
    "V10 BETWEEN 90  AND 200\n",
    "(V16,7,1)   IN  (''A'',''M'')\n",
    "\"\"\"\n",
    "def rule1(df, index):\n",
    "    df.at[index, 'V4'] =  \"'000010'\"\n",
    "    df.at[index, 'V10'] = random.randint(90, 200)\n",
    "    df.at[index, 'V16'] = df.at[index, 'V16'][:6] + random.choice(['A', 'M']) + df.at[index, 'V16'][7:]"
   ]
  },
  {
   "cell_type": "code",
   "execution_count": 16,
   "metadata": {},
   "outputs": [
    {
     "name": "stdout",
     "output_type": "stream",
     "text": [
      "'000010'\n",
      "99.0\n",
      "211401M1124C\n"
     ]
    }
   ],
   "source": [
    "test_df = pd.DataFrame.copy(df)\n",
    "rule1(test_df, 0)\n",
    "print(test_df['V4'][0])\n",
    "print(test_df['V10'][0])\n",
    "print(test_df['V16'][0])"
   ]
  },
  {
   "cell_type": "code",
   "execution_count": 17,
   "metadata": {},
   "outputs": [],
   "source": [
    "\"\"\"\n",
    "Rule 2\n",
    "V4 = ''000010'' \n",
    "V13  IN (''5921'') \n",
    "V10 > 5000\n",
    "\"\"\"\n",
    "def rule2(df, index):\n",
    "    df.at[index, 'V4'] =  \"'000010'\"\n",
    "    df.at[index, 'V13'] = 5921\n",
    "    df.at[index, 'V10'] = random.randint(5001, max_values['V10'])"
   ]
  },
  {
   "cell_type": "code",
   "execution_count": 18,
   "metadata": {},
   "outputs": [
    {
     "name": "stdout",
     "output_type": "stream",
     "text": [
      "'000010'\n",
      "5921\n",
      "791140.0\n"
     ]
    }
   ],
   "source": [
    "test_df = pd.DataFrame.copy(df)\n",
    "rule2(test_df, 0)\n",
    "print(test_df['V4'][0])\n",
    "print(test_df['V13'][0])\n",
    "print(test_df['V10'][0])"
   ]
  },
  {
   "cell_type": "code",
   "execution_count": 19,
   "metadata": {},
   "outputs": [],
   "source": [
    "\"\"\"\n",
    "Rule 3\n",
    "V4 = ''000010'' \n",
    "V13  IN (''5921'') \n",
    "V21  IN (''549038'')\n",
    "V10 >= 2000\n",
    "\"\"\"\n",
    "def rule3(df, index):\n",
    "    df.at[index, 'V4'] =  \"'000010'\"\n",
    "    df.at[index, 'V13'] = 5921\n",
    "    df.at[index, 'V21'] = 549038\n",
    "    df.at[index, 'V10'] = random.randint(2000, max_values['V10'])"
   ]
  },
  {
   "cell_type": "code",
   "execution_count": 20,
   "metadata": {},
   "outputs": [
    {
     "name": "stdout",
     "output_type": "stream",
     "text": [
      "'000010'\n",
      "5921\n",
      "549038\n",
      "138354.0\n"
     ]
    }
   ],
   "source": [
    "test_df = pd.DataFrame.copy(df)\n",
    "rule3(test_df, 0)\n",
    "print(test_df['V4'][0])\n",
    "print(test_df['V13'][0])\n",
    "print(test_df['V21'][0])\n",
    "print(test_df['V10'][0])"
   ]
  },
  {
   "cell_type": "code",
   "execution_count": 21,
   "metadata": {},
   "outputs": [],
   "source": [
    "\"\"\"\n",
    "Rule 4\n",
    "V4 = ''000010'' \n",
    "V1 IN (''20'') \n",
    "V13  NOT IN (''5311'',''7011'') \n",
    "V10 >= 100000\n",
    "\"\"\"\n",
    "def rule4(df, index):\n",
    "    df.at[index, 'V4'] =  \"'000010'\"\n",
    "    df.at[index, 'V1'] = 20\n",
    "    df.at[index, 'V13'] = random_not_in([5311, 7011], max_values['V13'])\n",
    "    df.at[index, 'V10'] = random.randint(100000, max_values['V10'])"
   ]
  },
  {
   "cell_type": "code",
   "execution_count": 22,
   "metadata": {},
   "outputs": [
    {
     "name": "stdout",
     "output_type": "stream",
     "text": [
      "'000010'\n",
      "20\n",
      "2979\n",
      "743465.0\n"
     ]
    }
   ],
   "source": [
    "test_df = pd.DataFrame.copy(df)\n",
    "rule4(test_df, 0)\n",
    "print(test_df['V4'][0])\n",
    "print(test_df['V1'][0])\n",
    "print(test_df['V13'][0])\n",
    "print(test_df['V10'][0])"
   ]
  },
  {
   "cell_type": "code",
   "execution_count": 23,
   "metadata": {},
   "outputs": [],
   "source": [
    "\"\"\"\n",
    "Rule 5\n",
    "V4 = ''000010'' ; \n",
    "V13  IN (''3017'',''3223'',''4511'',''4722'',''7011'',''7512'') ;\n",
    "(V16,7,1)   NOT IN  (''5'')\n",
    "\"\"\"\n",
    "def rule5(df, index):\n",
    "    df.at[index, 'V4'] =  \"'000010'\"\n",
    "    df.at[index, 'V13'] = random.choice([3017, 3223, 4511, 4722, 7011, 7512])\n",
    "    df.at[index, 'V16'] = df.at[index, 'V16'][:6] + str(random_not_in([5], 9)) + df.at[index, 'V16'][7:]"
   ]
  },
  {
   "cell_type": "code",
   "execution_count": 24,
   "metadata": {},
   "outputs": [
    {
     "name": "stdout",
     "output_type": "stream",
     "text": [
      "'000010'\n",
      "4511\n",
      "21140181124C\n",
      "21140121124C\n"
     ]
    }
   ],
   "source": [
    "test_df = pd.DataFrame.copy(df)\n",
    "rule5(test_df, 0)\n",
    "print(test_df['V4'][0])\n",
    "print(test_df['V13'][0])\n",
    "print(test_df['V16'][0])\n",
    "print(df['V16'][0])"
   ]
  },
  {
   "cell_type": "code",
   "execution_count": 25,
   "metadata": {},
   "outputs": [],
   "source": [
    "\"\"\"\n",
    "Rule 6\n",
    "V4 = ''000010''\n",
    "V1 IN (''20'')\n",
    "V13  NOT IN (''5331'',''7011'')\n",
    "V10 >= 25000 END;\n",
    "\"\"\"\n",
    "def rule6(df, index):\n",
    "    df.at[index, 'V4'] = \"'000010'\"\n",
    "    df.at[index, 'V1'] = 20\n",
    "    df.at[index, 'V13'] = random_not_in([5331, 7011], max_values['V13'])\n",
    "    df.at[index, 'V10'] = random.randint(25000, max_values['V10'])"
   ]
  },
  {
   "cell_type": "code",
   "execution_count": 26,
   "metadata": {},
   "outputs": [
    {
     "name": "stdout",
     "output_type": "stream",
     "text": [
      "'000010'\n",
      "20\n",
      "2262\n",
      "65948.0\n"
     ]
    }
   ],
   "source": [
    "test_df = pd.DataFrame.copy(df)\n",
    "rule6(test_df, 0)\n",
    "print(test_df['V4'][0])\n",
    "print(test_df['V1'][0])\n",
    "print(test_df['V13'][0])\n",
    "print(test_df['V10'][0])"
   ]
  },
  {
   "cell_type": "code",
   "execution_count": 27,
   "metadata": {},
   "outputs": [],
   "source": [
    "rules = [rule1, rule2, rule3, rule4, rule5, rule6]"
   ]
  },
  {
   "cell_type": "code",
   "execution_count": 28,
   "metadata": {},
   "outputs": [],
   "source": [
    "def make_fraud():\n",
    "    new_df = pd.DataFrame.copy(df)\n",
    "    for index in range(len(new_df)):\n",
    "        rule = random.choice(rules)\n",
    "        rule(new_df, index)\n",
    "        new_df.at[index, 'CLASS'] = 1\n",
    "    return new_df"
   ]
  },
  {
   "cell_type": "code",
   "execution_count": 29,
   "metadata": {},
   "outputs": [],
   "source": [
    "fraud_df = make_fraud()"
   ]
  },
  {
   "cell_type": "code",
   "execution_count": 30,
   "metadata": {},
   "outputs": [
    {
     "data": {
      "text/html": [
       "<div>\n",
       "<style scoped>\n",
       "    .dataframe tbody tr th:only-of-type {\n",
       "        vertical-align: middle;\n",
       "    }\n",
       "\n",
       "    .dataframe tbody tr th {\n",
       "        vertical-align: top;\n",
       "    }\n",
       "\n",
       "    .dataframe thead th {\n",
       "        text-align: right;\n",
       "    }\n",
       "</style>\n",
       "<table border=\"1\" class=\"dataframe\">\n",
       "  <thead>\n",
       "    <tr style=\"text-align: right;\">\n",
       "      <th></th>\n",
       "      <th>V1</th>\n",
       "      <th>V2</th>\n",
       "      <th>V3</th>\n",
       "      <th>V4</th>\n",
       "      <th>V5</th>\n",
       "      <th>V6</th>\n",
       "      <th>V7</th>\n",
       "      <th>V8</th>\n",
       "      <th>V9</th>\n",
       "      <th>V10</th>\n",
       "      <th>...</th>\n",
       "      <th>V19</th>\n",
       "      <th>V20</th>\n",
       "      <th>V21</th>\n",
       "      <th>V22</th>\n",
       "      <th>V23</th>\n",
       "      <th>V24</th>\n",
       "      <th>V25</th>\n",
       "      <th>V26</th>\n",
       "      <th>V27</th>\n",
       "      <th>CLASS</th>\n",
       "    </tr>\n",
       "  </thead>\n",
       "  <tbody>\n",
       "    <tr>\n",
       "      <th>0</th>\n",
       "      <td>31</td>\n",
       "      <td>281</td>\n",
       "      <td>22</td>\n",
       "      <td>'000010'</td>\n",
       "      <td>500</td>\n",
       "      <td>01/11/2008</td>\n",
       "      <td>01/11/2010</td>\n",
       "      <td>04/04/2009 16:05:07</td>\n",
       "      <td>NaN</td>\n",
       "      <td>364224.0</td>\n",
       "      <td>...</td>\n",
       "      <td>1448.0</td>\n",
       "      <td>0</td>\n",
       "      <td>1000001</td>\n",
       "      <td>1000001</td>\n",
       "      <td>26/12/2009</td>\n",
       "      <td>NaN</td>\n",
       "      <td>952</td>\n",
       "      <td>384</td>\n",
       "      <td>VERSUS BANK PLATEAU    REGION LAGUNECI</td>\n",
       "      <td>1</td>\n",
       "    </tr>\n",
       "    <tr>\n",
       "      <th>1</th>\n",
       "      <td>31</td>\n",
       "      <td>281</td>\n",
       "      <td>22</td>\n",
       "      <td>'000010'</td>\n",
       "      <td>500</td>\n",
       "      <td>01/11/2008</td>\n",
       "      <td>01/11/2010</td>\n",
       "      <td>07/04/2009 17:49:05</td>\n",
       "      <td>NaN</td>\n",
       "      <td>NaN</td>\n",
       "      <td>...</td>\n",
       "      <td>47660.0</td>\n",
       "      <td>0</td>\n",
       "      <td>1000002</td>\n",
       "      <td>1000002</td>\n",
       "      <td>26/12/2009</td>\n",
       "      <td>NaN</td>\n",
       "      <td>952</td>\n",
       "      <td>384</td>\n",
       "      <td>VERSUS BANK 2 PLATEAUX REGION LAGUNECI</td>\n",
       "      <td>1</td>\n",
       "    </tr>\n",
       "    <tr>\n",
       "      <th>2</th>\n",
       "      <td>31</td>\n",
       "      <td>281</td>\n",
       "      <td>22</td>\n",
       "      <td>'000010'</td>\n",
       "      <td>500</td>\n",
       "      <td>01/03/2009</td>\n",
       "      <td>01/03/2011</td>\n",
       "      <td>08/04/2009 17:54:25</td>\n",
       "      <td>NaN</td>\n",
       "      <td>NaN</td>\n",
       "      <td>...</td>\n",
       "      <td>83514.0</td>\n",
       "      <td>0</td>\n",
       "      <td>1000003</td>\n",
       "      <td>1000003</td>\n",
       "      <td>26/12/2009</td>\n",
       "      <td>NaN</td>\n",
       "      <td>952</td>\n",
       "      <td>384</td>\n",
       "      <td>VERSUS BANK ZONE 4     REGION LAGUNECI</td>\n",
       "      <td>1</td>\n",
       "    </tr>\n",
       "    <tr>\n",
       "      <th>3</th>\n",
       "      <td>31</td>\n",
       "      <td>281</td>\n",
       "      <td>22</td>\n",
       "      <td>'000010'</td>\n",
       "      <td>500</td>\n",
       "      <td>01/01/2009</td>\n",
       "      <td>01/01/2011</td>\n",
       "      <td>06/04/2009 17:15:02</td>\n",
       "      <td>NaN</td>\n",
       "      <td>199260.0</td>\n",
       "      <td>...</td>\n",
       "      <td>31856.0</td>\n",
       "      <td>0</td>\n",
       "      <td>549038</td>\n",
       "      <td>1000003</td>\n",
       "      <td>26/12/2009</td>\n",
       "      <td>NaN</td>\n",
       "      <td>952</td>\n",
       "      <td>384</td>\n",
       "      <td>VERSUS BANK ZONE 4     REGION LAGUNECI</td>\n",
       "      <td>1</td>\n",
       "    </tr>\n",
       "    <tr>\n",
       "      <th>4</th>\n",
       "      <td>31</td>\n",
       "      <td>281</td>\n",
       "      <td>22</td>\n",
       "      <td>'000010'</td>\n",
       "      <td>500</td>\n",
       "      <td>01/09/2008</td>\n",
       "      <td>01/09/2009</td>\n",
       "      <td>07/04/2009 15:24:25</td>\n",
       "      <td>NaN</td>\n",
       "      <td>206300.0</td>\n",
       "      <td>...</td>\n",
       "      <td>81083.0</td>\n",
       "      <td>0</td>\n",
       "      <td>549038</td>\n",
       "      <td>1000001</td>\n",
       "      <td>26/12/2009</td>\n",
       "      <td>NaN</td>\n",
       "      <td>952</td>\n",
       "      <td>384</td>\n",
       "      <td>VERSUS BANK PLATEAU    REGION LAGUNECI</td>\n",
       "      <td>1</td>\n",
       "    </tr>\n",
       "  </tbody>\n",
       "</table>\n",
       "<p>5 rows × 28 columns</p>\n",
       "</div>"
      ],
      "text/plain": [
       "   V1   V2  V3        V4   V5          V6          V7                   V8  \\\n",
       "0  31  281  22  '000010'  500  01/11/2008  01/11/2010  04/04/2009 16:05:07   \n",
       "1  31  281  22  '000010'  500  01/11/2008  01/11/2010  07/04/2009 17:49:05   \n",
       "2  31  281  22  '000010'  500  01/03/2009  01/03/2011  08/04/2009 17:54:25   \n",
       "3  31  281  22  '000010'  500  01/01/2009  01/01/2011  06/04/2009 17:15:02   \n",
       "4  31  281  22  '000010'  500  01/09/2008  01/09/2009  07/04/2009 15:24:25   \n",
       "\n",
       "   V9       V10  ...      V19  V20      V21      V22         V23 V24  V25  \\\n",
       "0 NaN  364224.0  ...   1448.0    0  1000001  1000001  26/12/2009 NaN  952   \n",
       "1 NaN       NaN  ...  47660.0    0  1000002  1000002  26/12/2009 NaN  952   \n",
       "2 NaN       NaN  ...  83514.0    0  1000003  1000003  26/12/2009 NaN  952   \n",
       "3 NaN  199260.0  ...  31856.0    0   549038  1000003  26/12/2009 NaN  952   \n",
       "4 NaN  206300.0  ...  81083.0    0   549038  1000001  26/12/2009 NaN  952   \n",
       "\n",
       "   V26                                     V27  CLASS  \n",
       "0  384  VERSUS BANK PLATEAU    REGION LAGUNECI      1  \n",
       "1  384  VERSUS BANK 2 PLATEAUX REGION LAGUNECI      1  \n",
       "2  384  VERSUS BANK ZONE 4     REGION LAGUNECI      1  \n",
       "3  384  VERSUS BANK ZONE 4     REGION LAGUNECI      1  \n",
       "4  384  VERSUS BANK PLATEAU    REGION LAGUNECI      1  \n",
       "\n",
       "[5 rows x 28 columns]"
      ]
     },
     "execution_count": 30,
     "metadata": {},
     "output_type": "execute_result"
    }
   ],
   "source": [
    "fraud_df.head()"
   ]
  },
  {
   "cell_type": "code",
   "execution_count": 31,
   "metadata": {},
   "outputs": [],
   "source": [
    "root = \"/home/sihartist/Desktop/\""
   ]
  },
  {
   "cell_type": "code",
   "execution_count": 32,
   "metadata": {},
   "outputs": [],
   "source": [
    "fraud_df.to_excel(root + 'fraud-detection/dataset/siham_fraud.xlsx', index=False)"
   ]
  }
 ],
 "metadata": {
  "kernelspec": {
   "display_name": "base",
   "language": "python",
   "name": "python3"
  },
  "language_info": {
   "codemirror_mode": {
    "name": "ipython",
    "version": 3
   },
   "file_extension": ".py",
   "mimetype": "text/x-python",
   "name": "python",
   "nbconvert_exporter": "python",
   "pygments_lexer": "ipython3",
   "version": "3.8.12"
  },
  "orig_nbformat": 4,
  "vscode": {
   "interpreter": {
    "hash": "cfdbd8c9048ab92b077343f235d6ccc68a76f62a5f525420b39b88fd49e8f01a"
   }
  }
 },
 "nbformat": 4,
 "nbformat_minor": 2
}
