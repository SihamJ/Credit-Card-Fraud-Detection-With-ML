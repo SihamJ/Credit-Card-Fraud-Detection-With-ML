{
 "cells": [
  {
   "cell_type": "code",
   "execution_count": 1,
   "metadata": {},
   "outputs": [],
   "source": [
    "from sklearn2pmml import sklearn2pmml\n",
    "import pandas as pd\n",
    "from sklearn2pmml.pipeline import PMMLPipeline\n",
    "import matplotlib.pyplot as plt # visualization"
   ]
  },
  {
   "attachments": {},
   "cell_type": "markdown",
   "metadata": {},
   "source": [
    "**Don't forget to change root**"
   ]
  },
  {
   "cell_type": "code",
   "execution_count": 2,
   "metadata": {},
   "outputs": [],
   "source": [
    "root = \"/home/sihartist/Desktop/\""
   ]
  },
  {
   "attachments": {},
   "cell_type": "markdown",
   "metadata": {},
   "source": [
    "Useful function for evaluation"
   ]
  },
  {
   "cell_type": "code",
   "execution_count": 3,
   "metadata": {},
   "outputs": [],
   "source": [
    "from sklearn.metrics import classification_report, confusion_matrix, plot_confusion_matrix\n",
    "from sklearn.metrics import average_precision_score, precision_recall_curve, average_precision_score\n",
    "from sklearn.metrics import balanced_accuracy_score, matthews_corrcoef\n",
    "\n",
    "def performance_report(model, X, y_true, target_names=None):\n",
    "        y_pred = model.predict(X)\n",
    "        \n",
    "        score_tr = model.score(X, y_true)\n",
    "        print('Accuracy Score: ', score_tr)\n",
    "        print(\"\")\n",
    "        bal_acc_te = balanced_accuracy_score(y_true, y_pred)\n",
    "        print('Balanced Accuracy: ', bal_acc_te)\n",
    "        print(\"\")\n",
    "        mat_corr_coeff_te = matthews_corrcoef(y_true, y_pred)\n",
    "        print('Matthews Correlation Coefficient: ', mat_corr_coeff_te)\n",
    "        print(\"\")\n",
    "\n",
    "        print(classification_report(y_true, y_pred, target_names=target_names))\n",
    "        print('--------------------------------------------------------')\n",
    "\n",
    "        matrix = plot_confusion_matrix(model, X, y_true, cmap=plt.cm.Blues, display_labels=target_names)\n",
    "        matrix.ax_.set_title('Confusion Matrix')\n",
    "        plt.xlabel('Predicted Label')\n",
    "        plt.ylabel('True Label')\n",
    "        plt.xticks(rotation=90)\n",
    "        plt.show()\n",
    "        print(\"\")"
   ]
  },
  {
   "attachments": {},
   "cell_type": "markdown",
   "metadata": {},
   "source": [
    "## Model SVM"
   ]
  },
  {
   "cell_type": "code",
   "execution_count": 4,
   "metadata": {},
   "outputs": [
    {
     "data": {
      "text/html": [
       "<div>\n",
       "<style scoped>\n",
       "    .dataframe tbody tr th:only-of-type {\n",
       "        vertical-align: middle;\n",
       "    }\n",
       "\n",
       "    .dataframe tbody tr th {\n",
       "        vertical-align: top;\n",
       "    }\n",
       "\n",
       "    .dataframe thead th {\n",
       "        text-align: right;\n",
       "    }\n",
       "</style>\n",
       "<table border=\"1\" class=\"dataframe\">\n",
       "  <thead>\n",
       "    <tr style=\"text-align: right;\">\n",
       "      <th></th>\n",
       "      <th>step</th>\n",
       "      <th>amount</th>\n",
       "      <th>oldbalanceOrg</th>\n",
       "      <th>newbalanceOrig</th>\n",
       "      <th>oldbalanceDest</th>\n",
       "      <th>newbalanceDest</th>\n",
       "      <th>CASH_IN</th>\n",
       "      <th>CASH_OUT</th>\n",
       "      <th>DEBIT</th>\n",
       "      <th>PAYMENT</th>\n",
       "      <th>TRANSFER</th>\n",
       "      <th>isFlaggedFraud</th>\n",
       "      <th>isFraud</th>\n",
       "    </tr>\n",
       "  </thead>\n",
       "  <tbody>\n",
       "    <tr>\n",
       "      <th>0</th>\n",
       "      <td>139</td>\n",
       "      <td>265803.35</td>\n",
       "      <td>0.00</td>\n",
       "      <td>0.00</td>\n",
       "      <td>751669.39</td>\n",
       "      <td>1017472.74</td>\n",
       "      <td>0</td>\n",
       "      <td>1</td>\n",
       "      <td>0</td>\n",
       "      <td>0</td>\n",
       "      <td>0</td>\n",
       "      <td>0</td>\n",
       "      <td>0</td>\n",
       "    </tr>\n",
       "    <tr>\n",
       "      <th>1</th>\n",
       "      <td>589</td>\n",
       "      <td>11278.28</td>\n",
       "      <td>0.00</td>\n",
       "      <td>0.00</td>\n",
       "      <td>220970.84</td>\n",
       "      <td>232249.12</td>\n",
       "      <td>0</td>\n",
       "      <td>1</td>\n",
       "      <td>0</td>\n",
       "      <td>0</td>\n",
       "      <td>0</td>\n",
       "      <td>0</td>\n",
       "      <td>0</td>\n",
       "    </tr>\n",
       "    <tr>\n",
       "      <th>2</th>\n",
       "      <td>284</td>\n",
       "      <td>16363.06</td>\n",
       "      <td>35966.16</td>\n",
       "      <td>19603.10</td>\n",
       "      <td>0.00</td>\n",
       "      <td>0.00</td>\n",
       "      <td>0</td>\n",
       "      <td>0</td>\n",
       "      <td>0</td>\n",
       "      <td>1</td>\n",
       "      <td>0</td>\n",
       "      <td>0</td>\n",
       "      <td>0</td>\n",
       "    </tr>\n",
       "    <tr>\n",
       "      <th>3</th>\n",
       "      <td>37</td>\n",
       "      <td>107223.31</td>\n",
       "      <td>20752629.71</td>\n",
       "      <td>20859853.02</td>\n",
       "      <td>804594.62</td>\n",
       "      <td>571711.22</td>\n",
       "      <td>1</td>\n",
       "      <td>0</td>\n",
       "      <td>0</td>\n",
       "      <td>0</td>\n",
       "      <td>0</td>\n",
       "      <td>0</td>\n",
       "      <td>0</td>\n",
       "    </tr>\n",
       "    <tr>\n",
       "      <th>4</th>\n",
       "      <td>287</td>\n",
       "      <td>3678.25</td>\n",
       "      <td>0.00</td>\n",
       "      <td>0.00</td>\n",
       "      <td>0.00</td>\n",
       "      <td>0.00</td>\n",
       "      <td>0</td>\n",
       "      <td>0</td>\n",
       "      <td>0</td>\n",
       "      <td>1</td>\n",
       "      <td>0</td>\n",
       "      <td>0</td>\n",
       "      <td>0</td>\n",
       "    </tr>\n",
       "  </tbody>\n",
       "</table>\n",
       "</div>"
      ],
      "text/plain": [
       "   step     amount  oldbalanceOrg  newbalanceOrig  oldbalanceDest  \\\n",
       "0   139  265803.35           0.00            0.00       751669.39   \n",
       "1   589   11278.28           0.00            0.00       220970.84   \n",
       "2   284   16363.06       35966.16        19603.10            0.00   \n",
       "3    37  107223.31    20752629.71     20859853.02       804594.62   \n",
       "4   287    3678.25           0.00            0.00            0.00   \n",
       "\n",
       "   newbalanceDest  CASH_IN  CASH_OUT  DEBIT  PAYMENT  TRANSFER  \\\n",
       "0      1017472.74        0         1      0        0         0   \n",
       "1       232249.12        0         1      0        0         0   \n",
       "2            0.00        0         0      0        1         0   \n",
       "3       571711.22        1         0      0        0         0   \n",
       "4            0.00        0         0      0        1         0   \n",
       "\n",
       "   isFlaggedFraud  isFraud  \n",
       "0               0        0  \n",
       "1               0        0  \n",
       "2               0        0  \n",
       "3               0        0  \n",
       "4               0        0  "
      ]
     },
     "execution_count": 4,
     "metadata": {},
     "output_type": "execute_result"
    }
   ],
   "source": [
    "df = pd.read_csv(root + 'fraud-detection/dataset/data_balanced.csv')\n",
    "\n",
    "df = df.iloc[:,1:]\n",
    "\n",
    "df.head()"
   ]
  },
  {
   "cell_type": "code",
   "execution_count": 5,
   "metadata": {},
   "outputs": [
    {
     "name": "stdout",
     "output_type": "stream",
     "text": [
      "(16426, 12)\n",
      "(16426,)\n"
     ]
    }
   ],
   "source": [
    "# Split the data into features and target variable\n",
    "X = df.drop(\"isFraud\", axis=1)\n",
    "y = df[\"isFraud\"]\n",
    "\n",
    "X = X.values\n",
    "y = y.values\n",
    "\n",
    "print(X.shape)\n",
    "print(y.shape)"
   ]
  },
  {
   "cell_type": "code",
   "execution_count": 6,
   "metadata": {},
   "outputs": [],
   "source": [
    "from sklearn.model_selection import train_test_split\n",
    "X_train, X_test, y_train, y_test = train_test_split(X, y, test_size=0.33, random_state=42)"
   ]
  },
  {
   "cell_type": "code",
   "execution_count": 7,
   "metadata": {},
   "outputs": [
    {
     "data": {
      "text/plain": [
       "PMMLPipeline(steps=[('Standard Scaler', StandardScaler()),\n",
       "       ('SVM', SVC(gamma='auto'))])"
      ]
     },
     "execution_count": 7,
     "metadata": {},
     "output_type": "execute_result"
    }
   ],
   "source": [
    "from sklearn.pipeline import make_pipeline\n",
    "from sklearn.preprocessing import StandardScaler\n",
    "from sklearn.svm import SVC\n",
    "\n",
    "## Train the model with PMML wraper\n",
    "clf = PMMLPipeline(\n",
    "    [\n",
    "        (\n",
    "            \"Standard Scaler\",\n",
    "            StandardScaler()\n",
    "        )\n",
    "        ,\n",
    "        (\n",
    "            \"SVM\",\n",
    "            SVC(gamma='auto')\n",
    "        )\n",
    "    ]\n",
    ")\n",
    "\n",
    "X_train = pd.DataFrame(X_train, columns = list(df.columns.values[:12]))\n",
    "y_train = pd.Series(y_train, name = \"isFraud\")\n",
    "X_test = pd.DataFrame(X_test, columns = list(df.columns.values[:12]))\n",
    "y_test = pd.Series(y_test, name = \"isFraud\")\n",
    "\n",
    "# Train the model\n",
    "clf.fit(X_train, y_train)"
   ]
  },
  {
   "attachments": {},
   "cell_type": "markdown",
   "metadata": {},
   "source": [
    "### testing model"
   ]
  },
  {
   "cell_type": "code",
   "execution_count": 8,
   "metadata": {},
   "outputs": [
    {
     "name": "stdout",
     "output_type": "stream",
     "text": [
      "Accuracy Score:  0.9155137428518724\n",
      "\n",
      "Balanced Accuracy:  0.9151308922474133\n",
      "\n",
      "Matthews Correlation Coefficient:  0.8346852203817814\n",
      "\n",
      "              precision    recall  f1-score   support\n",
      "\n",
      "           0       0.88      0.96      0.92      2732\n",
      "           1       0.96      0.87      0.91      2689\n",
      "\n",
      "    accuracy                           0.92      5421\n",
      "   macro avg       0.92      0.92      0.92      5421\n",
      "weighted avg       0.92      0.92      0.92      5421\n",
      "\n",
      "--------------------------------------------------------\n"
     ]
    },
    {
     "name": "stderr",
     "output_type": "stream",
     "text": [
      "/home/sihartist/miniconda3/envs/my-env/lib/python3.9/site-packages/sklearn/utils/deprecation.py:87: FutureWarning: Function plot_confusion_matrix is deprecated; Function `plot_confusion_matrix` is deprecated in 1.0 and will be removed in 1.2. Use one of the class methods: ConfusionMatrixDisplay.from_predictions or ConfusionMatrixDisplay.from_estimator.\n",
      "  warnings.warn(msg, category=FutureWarning)\n"
     ]
    },
    {
     "data": {
      "image/png": "[encoded data removed]",
      "text/plain": [
       "<Figure size 432x288 with 2 Axes>"
      ]
     },
     "metadata": {
      "needs_background": "light"
     },
     "output_type": "display_data"
    },
    {
     "name": "stdout",
     "output_type": "stream",
     "text": [
      "\n"
     ]
    }
   ],
   "source": [
    "performance_report(clf, X_test, y_test, target_names=None)"
   ]
  },
  {
   "attachments": {},
   "cell_type": "markdown",
   "metadata": {},
   "source": [
    "## saving model"
   ]
  },
  {
   "attachments": {},
   "cell_type": "markdown",
   "metadata": {},
   "source": [
    "Pickle"
   ]
  },
  {
   "cell_type": "code",
   "execution_count": 9,
   "metadata": {},
   "outputs": [],
   "source": [
    "import pickle\n",
    "\n",
    "filename = root + \"fraud-detection/algo/models/svm.pkl\"\n",
    "pickle.dump(clf, open(filename, \"wb\"))"
   ]
  },
  {
   "attachments": {},
   "cell_type": "markdown",
   "metadata": {},
   "source": [
    "PMML"
   ]
  },
  {
   "cell_type": "code",
   "execution_count": 13,
   "metadata": {},
   "outputs": [],
   "source": [
    "filename = root + \"fraud-detection/algo/models/svm.pmml\"\n",
    "filename_java = root + \"SpringAPI/src/main/resources/models/svm.pmml\"\n",
    "\n",
    "sklearn2pmml(clf, filename, with_repr = True)\n",
    "sklearn2pmml(clf, filename_java, with_repr = True)"
   ]
  },
  {
   "attachments": {},
   "cell_type": "markdown",
   "metadata": {},
   "source": [
    "## loading model"
   ]
  },
  {
   "cell_type": "code",
   "execution_count": 11,
   "metadata": {},
   "outputs": [],
   "source": [
    "from pypmml import Model"
   ]
  },
  {
   "cell_type": "code",
   "execution_count": 12,
   "metadata": {},
   "outputs": [
    {
     "data": {
      "text/plain": [
       "predicted_isFraud    1.0\n",
       "probability          1.0\n",
       "probability_0        0.0\n",
       "probability_1        1.0\n",
       "Name: 0, dtype: float64"
      ]
     },
     "execution_count": 12,
     "metadata": {},
     "output_type": "execute_result"
    }
   ],
   "source": [
    "loaded_model = Model.load(filename)\n",
    "loaded_model.predict(X_test.iloc[0])"
   ]
  }
 ],
 "metadata": {
  "kernelspec": {
   "display_name": "my-env",
   "language": "python",
   "name": "python3"
  },
  "language_info": {
   "codemirror_mode": {
    "name": "ipython",
    "version": 3
   },
   "file_extension": ".py",
   "mimetype": "text/x-python",
   "name": "python",
   "nbconvert_exporter": "python",
   "pygments_lexer": "ipython3",
   "version": "3.9.11"
  },
  "orig_nbformat": 4,
  "vscode": {
   "interpreter": {
    "hash": "de649f83ae69a157e4075d312a5af8e502ec3c0b3c20b96bc4b78dc2691db007"
   }
  }
 },
 "nbformat": 4,
 "nbformat_minor": 2
}
