{
 "cells": [
  {
   "cell_type": "code",
   "execution_count": 320,
   "metadata": {},
   "outputs": [],
   "source": [
    "# Synthetic dataset\n",
    "from sklearn.datasets import make_classification\n",
    "# Data processing\n",
    "import pandas as pd\n",
    "import numpy as np\n",
    "from collections import Counter\n",
    "# Visualization\n",
    "import matplotlib.pyplot as plt\n",
    "import seaborn as sns\n",
    "# Model and performance\n",
    "import tensorflow as tf\n",
    "from tensorflow.keras import layers, losses, regularizers\n",
    "from sklearn.model_selection import train_test_split\n",
    "from sklearn.metrics import classification_report\n",
    "from sklearn import preprocessing "
   ]
  },
  {
   "cell_type": "code",
   "execution_count": 321,
   "metadata": {},
   "outputs": [],
   "source": [
    "root = \"/home/sihartist/Desktop/\"\n",
    "path = root + \"fraud-detection/dataset/preprocessing_data.xlsx\""
   ]
  },
  {
   "cell_type": "code",
   "execution_count": 322,
   "metadata": {},
   "outputs": [
    {
     "data": {
      "text/html": [
       "<div>\n",
       "<style scoped>\n",
       "    .dataframe tbody tr th:only-of-type {\n",
       "        vertical-align: middle;\n",
       "    }\n",
       "\n",
       "    .dataframe tbody tr th {\n",
       "        vertical-align: top;\n",
       "    }\n",
       "\n",
       "    .dataframe thead th {\n",
       "        text-align: right;\n",
       "    }\n",
       "</style>\n",
       "<table border=\"1\" class=\"dataframe\">\n",
       "  <thead>\n",
       "    <tr style=\"text-align: right;\">\n",
       "      <th></th>\n",
       "      <th>V1</th>\n",
       "      <th>V2</th>\n",
       "      <th>V3</th>\n",
       "      <th>V4</th>\n",
       "      <th>V9</th>\n",
       "      <th>V10</th>\n",
       "      <th>V12</th>\n",
       "      <th>V13</th>\n",
       "      <th>V16</th>\n",
       "      <th>V19</th>\n",
       "      <th>...</th>\n",
       "      <th>SIN(V7_day)</th>\n",
       "      <th>SIN(V23_month)</th>\n",
       "      <th>SIN(V23_day)</th>\n",
       "      <th>SIN(V8_month)</th>\n",
       "      <th>SIN(V8_day)</th>\n",
       "      <th>V6_year</th>\n",
       "      <th>V7_year</th>\n",
       "      <th>V23_year</th>\n",
       "      <th>V8_year</th>\n",
       "      <th>CLASS</th>\n",
       "    </tr>\n",
       "  </thead>\n",
       "  <tbody>\n",
       "    <tr>\n",
       "      <th>0</th>\n",
       "      <td>4</td>\n",
       "      <td>2</td>\n",
       "      <td>23</td>\n",
       "      <td>1</td>\n",
       "      <td>517511</td>\n",
       "      <td>478657.0</td>\n",
       "      <td>19</td>\n",
       "      <td>2976</td>\n",
       "      <td>44</td>\n",
       "      <td>20342</td>\n",
       "      <td>...</td>\n",
       "      <td>7.657137e-16</td>\n",
       "      <td>0.201299</td>\n",
       "      <td>0.937752</td>\n",
       "      <td>0.174152</td>\n",
       "      <td>-0.201299</td>\n",
       "      <td>2009</td>\n",
       "      <td>2011</td>\n",
       "      <td>2009</td>\n",
       "      <td>2009</td>\n",
       "      <td>0</td>\n",
       "    </tr>\n",
       "    <tr>\n",
       "      <th>1</th>\n",
       "      <td>4</td>\n",
       "      <td>2</td>\n",
       "      <td>23</td>\n",
       "      <td>1</td>\n",
       "      <td>656609</td>\n",
       "      <td>57651.0</td>\n",
       "      <td>19</td>\n",
       "      <td>2976</td>\n",
       "      <td>44</td>\n",
       "      <td>1351</td>\n",
       "      <td>...</td>\n",
       "      <td>7.657137e-16</td>\n",
       "      <td>0.201299</td>\n",
       "      <td>0.937752</td>\n",
       "      <td>-0.368810</td>\n",
       "      <td>0.937752</td>\n",
       "      <td>2009</td>\n",
       "      <td>2011</td>\n",
       "      <td>2009</td>\n",
       "      <td>2009</td>\n",
       "      <td>0</td>\n",
       "    </tr>\n",
       "    <tr>\n",
       "      <th>2</th>\n",
       "      <td>4</td>\n",
       "      <td>2</td>\n",
       "      <td>23</td>\n",
       "      <td>1</td>\n",
       "      <td>315952</td>\n",
       "      <td>166815.0</td>\n",
       "      <td>19</td>\n",
       "      <td>2976</td>\n",
       "      <td>44</td>\n",
       "      <td>25375</td>\n",
       "      <td>...</td>\n",
       "      <td>7.657137e-16</td>\n",
       "      <td>0.201299</td>\n",
       "      <td>0.937752</td>\n",
       "      <td>0.174152</td>\n",
       "      <td>-0.394356</td>\n",
       "      <td>2008</td>\n",
       "      <td>2009</td>\n",
       "      <td>2009</td>\n",
       "      <td>2009</td>\n",
       "      <td>0</td>\n",
       "    </tr>\n",
       "    <tr>\n",
       "      <th>3</th>\n",
       "      <td>4</td>\n",
       "      <td>2</td>\n",
       "      <td>23</td>\n",
       "      <td>1</td>\n",
       "      <td>475166</td>\n",
       "      <td>604595.0</td>\n",
       "      <td>19</td>\n",
       "      <td>2976</td>\n",
       "      <td>44</td>\n",
       "      <td>24577</td>\n",
       "      <td>...</td>\n",
       "      <td>7.657137e-16</td>\n",
       "      <td>0.201299</td>\n",
       "      <td>0.937752</td>\n",
       "      <td>0.174152</td>\n",
       "      <td>-0.571268</td>\n",
       "      <td>2009</td>\n",
       "      <td>2011</td>\n",
       "      <td>2009</td>\n",
       "      <td>2009</td>\n",
       "      <td>0</td>\n",
       "    </tr>\n",
       "    <tr>\n",
       "      <th>4</th>\n",
       "      <td>4</td>\n",
       "      <td>2</td>\n",
       "      <td>23</td>\n",
       "      <td>1</td>\n",
       "      <td>61685</td>\n",
       "      <td>665491.0</td>\n",
       "      <td>19</td>\n",
       "      <td>2976</td>\n",
       "      <td>44</td>\n",
       "      <td>17010</td>\n",
       "      <td>...</td>\n",
       "      <td>7.657137e-16</td>\n",
       "      <td>0.201299</td>\n",
       "      <td>0.937752</td>\n",
       "      <td>0.174152</td>\n",
       "      <td>-0.571268</td>\n",
       "      <td>2008</td>\n",
       "      <td>2010</td>\n",
       "      <td>2009</td>\n",
       "      <td>2009</td>\n",
       "      <td>0</td>\n",
       "    </tr>\n",
       "  </tbody>\n",
       "</table>\n",
       "<p>5 rows × 37 columns</p>\n",
       "</div>"
      ],
      "text/plain": [
       "   V1  V2  V3  V4      V9       V10  V12   V13  V16    V19  ...   SIN(V7_day)  \\\n",
       "0   4   2  23   1  517511  478657.0   19  2976   44  20342  ...  7.657137e-16   \n",
       "1   4   2  23   1  656609   57651.0   19  2976   44   1351  ...  7.657137e-16   \n",
       "2   4   2  23   1  315952  166815.0   19  2976   44  25375  ...  7.657137e-16   \n",
       "3   4   2  23   1  475166  604595.0   19  2976   44  24577  ...  7.657137e-16   \n",
       "4   4   2  23   1   61685  665491.0   19  2976   44  17010  ...  7.657137e-16   \n",
       "\n",
       "   SIN(V23_month)  SIN(V23_day)  SIN(V8_month)  SIN(V8_day)  V6_year  V7_year  \\\n",
       "0        0.201299      0.937752       0.174152    -0.201299     2009     2011   \n",
       "1        0.201299      0.937752      -0.368810     0.937752     2009     2011   \n",
       "2        0.201299      0.937752       0.174152    -0.394356     2008     2009   \n",
       "3        0.201299      0.937752       0.174152    -0.571268     2009     2011   \n",
       "4        0.201299      0.937752       0.174152    -0.571268     2008     2010   \n",
       "\n",
       "   V23_year  V8_year  CLASS  \n",
       "0      2009     2009      0  \n",
       "1      2009     2009      0  \n",
       "2      2009     2009      0  \n",
       "3      2009     2009      0  \n",
       "4      2009     2009      0  \n",
       "\n",
       "[5 rows x 37 columns]"
      ]
     },
     "execution_count": 322,
     "metadata": {},
     "output_type": "execute_result"
    }
   ],
   "source": [
    "data = pd.read_excel(path)\n",
    "data.head()"
   ]
  },
  {
   "attachments": {},
   "cell_type": "markdown",
   "metadata": {},
   "source": [
    "## Auto Encoder"
   ]
  },
  {
   "cell_type": "code",
   "execution_count": 348,
   "metadata": {},
   "outputs": [],
   "source": [
    "X = data.drop([\"CLASS\"], axis=1).values\n",
    "y = data[\"CLASS\"].values"
   ]
  },
  {
   "cell_type": "code",
   "execution_count": 349,
   "metadata": {},
   "outputs": [],
   "source": [
    "X = preprocessing.MinMaxScaler().fit_transform(X)"
   ]
  },
  {
   "cell_type": "code",
   "execution_count": 350,
   "metadata": {},
   "outputs": [
    {
     "name": "stdout",
     "output_type": "stream",
     "text": [
      "The number of records in the training dataset is 112523\n",
      "The number of records in the test dataset is 28131\n",
      "The training dataset has 56214 records for the majority class and 56309 records for the minority class.\n"
     ]
    }
   ],
   "source": [
    "# Train test split\n",
    "X_train, X_test, y_train, y_test = train_test_split(X, y, test_size=0.2, random_state=42)\n",
    "# Check the number of records\n",
    "print('The number of records in the training dataset is', X_train.shape[0])\n",
    "print('The number of records in the test dataset is', X_test.shape[0])\n",
    "print(f\"The training dataset has {sorted(Counter(y_train).items())[0][1]} records for the majority class and {sorted(Counter(y_train).items())[1][1]} records for the minority class.\")"
   ]
  },
  {
   "cell_type": "code",
   "execution_count": 357,
   "metadata": {},
   "outputs": [],
   "source": [
    "# Keep only the normal data for the training dataset\n",
    "X_train_normal = X_train[np.where(y_train == 0)]\n",
    "X_test_normal = X_test[np.where(y_test == 0)]\n",
    "\n",
    "r_strength = 0.005\n",
    "# Input layer\n",
    "input = tf.keras.layers.Input(shape=(X.shape[1],))\n",
    "# Encoder layers\n",
    "encoder = tf.keras.Sequential([\n",
    "      layers.Dense(32, activation='relu'),\n",
    "      layers.Dense(16, activation='relu'),\n",
    "      layers.Dense(8, activation='relu')])(input)\n",
    "# Decoder layers\n",
    "decoder = tf.keras.Sequential([\n",
    "      layers.Dense(16, activation='relu'),\n",
    "      layers.Dense(32, activation='relu'),\n",
    "      layers.Dense(X.shape[1], activation='sigmoid')])(encoder)\n",
    "# Create the autoencoder\n",
    "autoencoder = tf.keras.Model(inputs=input, outputs=decoder)"
   ]
  },
  {
   "cell_type": "code",
   "execution_count": 358,
   "metadata": {},
   "outputs": [
    {
     "name": "stdout",
     "output_type": "stream",
     "text": [
      "Epoch 1/30\n",
      "879/879 [==============================] - 3s 3ms/step - loss: 0.4950 - val_loss: 0.4714\n",
      "Epoch 2/30\n",
      "879/879 [==============================] - 2s 2ms/step - loss: 0.4607 - val_loss: 0.4653\n",
      "Epoch 3/30\n",
      "879/879 [==============================] - 2s 2ms/step - loss: 0.4520 - val_loss: 0.4577\n",
      "Epoch 4/30\n",
      "879/879 [==============================] - 2s 2ms/step - loss: 0.4488 - val_loss: 0.4542\n",
      "Epoch 5/30\n",
      "879/879 [==============================] - 2s 2ms/step - loss: 0.4473 - val_loss: 0.4531\n",
      "Epoch 6/30\n",
      "879/879 [==============================] - 2s 2ms/step - loss: 0.4466 - val_loss: 0.4525\n",
      "Epoch 7/30\n",
      "879/879 [==============================] - 2s 2ms/step - loss: 0.4458 - val_loss: 0.4521\n",
      "Epoch 8/30\n",
      "879/879 [==============================] - 2s 2ms/step - loss: 0.4449 - val_loss: 0.4511\n",
      "Epoch 9/30\n",
      "879/879 [==============================] - 2s 2ms/step - loss: 0.4441 - val_loss: 0.4511\n",
      "Epoch 10/30\n",
      "879/879 [==============================] - 2s 2ms/step - loss: 0.4432 - val_loss: 0.4493\n",
      "Epoch 11/30\n",
      "879/879 [==============================] - 2s 2ms/step - loss: 0.4422 - val_loss: 0.4495\n",
      "Epoch 12/30\n",
      "879/879 [==============================] - 2s 2ms/step - loss: 0.4415 - val_loss: 0.4484\n",
      "Epoch 13/30\n",
      "879/879 [==============================] - 2s 2ms/step - loss: 0.4410 - val_loss: 0.4482\n",
      "Epoch 14/30\n",
      "879/879 [==============================] - 2s 2ms/step - loss: 0.4406 - val_loss: 0.4474\n",
      "Epoch 15/30\n",
      "879/879 [==============================] - 2s 2ms/step - loss: 0.4403 - val_loss: 0.4471\n",
      "Epoch 16/30\n",
      "879/879 [==============================] - 2s 2ms/step - loss: 0.4399 - val_loss: 0.4470\n",
      "Epoch 17/30\n",
      "879/879 [==============================] - 2s 2ms/step - loss: 0.4396 - val_loss: 0.4476\n",
      "Epoch 18/30\n",
      "879/879 [==============================] - 2s 3ms/step - loss: 0.4393 - val_loss: 0.4482\n",
      "Epoch 19/30\n",
      "879/879 [==============================] - 2s 3ms/step - loss: 0.4391 - val_loss: 0.4471\n",
      "Epoch 20/30\n",
      "879/879 [==============================] - 2s 2ms/step - loss: 0.4388 - val_loss: 0.4468\n",
      "Epoch 21/30\n",
      "879/879 [==============================] - 2s 2ms/step - loss: 0.4385 - val_loss: 0.4479\n",
      "Epoch 22/30\n",
      "879/879 [==============================] - 2s 2ms/step - loss: 0.4382 - val_loss: 0.4479\n",
      "Epoch 23/30\n",
      "879/879 [==============================] - 2s 2ms/step - loss: 0.4379 - val_loss: 0.4466\n",
      "Epoch 24/30\n",
      "879/879 [==============================] - 2s 2ms/step - loss: 0.4377 - val_loss: 0.4475\n",
      "Epoch 25/30\n",
      "879/879 [==============================] - 2s 2ms/step - loss: 0.4375 - val_loss: 0.4480\n",
      "Epoch 26/30\n",
      "879/879 [==============================] - 2s 2ms/step - loss: 0.4374 - val_loss: 0.4475\n",
      "Epoch 27/30\n",
      "879/879 [==============================] - 2s 2ms/step - loss: 0.4372 - val_loss: 0.4469\n",
      "Epoch 28/30\n",
      "879/879 [==============================] - 2s 2ms/step - loss: 0.4370 - val_loss: 0.4466\n",
      "Epoch 29/30\n",
      "879/879 [==============================] - 2s 2ms/step - loss: 0.4368 - val_loss: 0.4473\n",
      "Epoch 30/30\n",
      "879/879 [==============================] - 2s 2ms/step - loss: 0.4366 - val_loss: 0.4468\n"
     ]
    }
   ],
   "source": [
    "# Compile the autoencoder\n",
    "autoencoder.compile(optimizer='adam' , loss=tf.keras.losses.BinaryCrossentropy())\n",
    "# Fit the autoencoder\n",
    "history = autoencoder.fit(X_train_normal, X_train_normal, \n",
    "          epochs=30, \n",
    "          batch_size=64,\n",
    "          validation_data=(X_test, X_test),\n",
    "          shuffle=True)"
   ]
  },
  {
   "cell_type": "code",
   "execution_count": 359,
   "metadata": {},
   "outputs": [
    {
     "data": {
      "image/png": "[encoded data removed]",
      "text/plain": [
       "<Figure size 432x288 with 1 Axes>"
      ]
     },
     "metadata": {
      "needs_background": "light"
     },
     "output_type": "display_data"
    }
   ],
   "source": [
    "plt.plot(history.history['loss'])\n",
    "plt.plot(history.history['val_loss'])\n",
    "plt.title('model loss')\n",
    "plt.ylabel('loss')\n",
    "plt.xlabel('epoch')\n",
    "plt.legend(['train', 'validation'], loc='upper left')\n",
    "plt.show()"
   ]
  },
  {
   "attachments": {},
   "cell_type": "markdown",
   "metadata": {},
   "source": [
    "The training dataset does not provide sufficient information to learn the problem, relative to the validation dataset used to evaluate it.\n",
    "\n",
    "This is shown by the gap that remains between the two curves."
   ]
  },
  {
   "cell_type": "code",
   "execution_count": 366,
   "metadata": {},
   "outputs": [
    {
     "data": {
      "text/plain": [
       "(array([0, 1]), array([14113, 14018]))"
      ]
     },
     "execution_count": 366,
     "metadata": {},
     "output_type": "execute_result"
    }
   ],
   "source": [
    "np.unique(y_test, return_counts=True)"
   ]
  },
  {
   "cell_type": "code",
   "execution_count": 367,
   "metadata": {},
   "outputs": [
    {
     "name": "stdout",
     "output_type": "stream",
     "text": [
      "0.4983114713305606\n"
     ]
    }
   ],
   "source": [
    "print(14018/(14113+14018))"
   ]
  },
  {
   "cell_type": "code",
   "execution_count": 392,
   "metadata": {},
   "outputs": [
    {
     "name": "stdout",
     "output_type": "stream",
     "text": [
      "880/880 [==============================] - 1s 1ms/step\n",
      "The prediction loss threshold for 49% of outliers is 0.05\n"
     ]
    },
    {
     "data": {
      "text/plain": [
       "<matplotlib.lines.Line2D at 0x7f303b59ddc0>"
      ]
     },
     "execution_count": 392,
     "metadata": {},
     "output_type": "execute_result"
    },
    {
     "data": {
      "image/png": "[encoded data removed]",
      "text/plain": [
       "<Figure size 432x288 with 1 Axes>"
      ]
     },
     "metadata": {
      "needs_background": "light"
     },
     "output_type": "display_data"
    }
   ],
   "source": [
    "# Predict anomalies/outliers in the training dataset\n",
    "prediction = autoencoder.predict(X_test)\n",
    "# Get the mean absolute error between actual and reconstruction/prediction\n",
    "prediction_loss = tf.keras.losses.mae(prediction, X_test)\n",
    "# Check the prediction loss threshold for 49% of outliers\n",
    "loss_threshold = np.percentile(prediction_loss, 50)\n",
    "print(f'The prediction loss threshold for 49% of outliers is {loss_threshold:.2f}')\n",
    "# Visualize the threshold\n",
    "sns.histplot(prediction_loss, bins=30, alpha=0.8)\n",
    "plt.axvline(x=loss_threshold, color='orange')"
   ]
  },
  {
   "cell_type": "code",
   "execution_count": 393,
   "metadata": {},
   "outputs": [
    {
     "data": {
      "text/plain": [
       "0.04919356556495114"
      ]
     },
     "execution_count": 393,
     "metadata": {},
     "output_type": "execute_result"
    }
   ],
   "source": [
    "loss_threshold"
   ]
  },
  {
   "cell_type": "code",
   "execution_count": 394,
   "metadata": {},
   "outputs": [
    {
     "name": "stdout",
     "output_type": "stream",
     "text": [
      "              precision    recall  f1-score   support\n",
      "\n",
      "           0       0.76      0.75      0.76     14113\n",
      "           1       0.75      0.76      0.76     14018\n",
      "\n",
      "    accuracy                           0.76     28131\n",
      "   macro avg       0.76      0.76      0.76     28131\n",
      "weighted avg       0.76      0.76      0.76     28131\n",
      "\n",
      "\n",
      "confusion_matrix: \n",
      "[[10654  3459]\n",
      " [ 3411 10607]]\n"
     ]
    }
   ],
   "source": [
    "from sklearn.metrics import confusion_matrix\n",
    "\n",
    "\n",
    "# Check the model performance at 2% threshold\n",
    "threshold_prediction = [0 if i < loss_threshold else 1 for i in prediction_loss]\n",
    "# Check the prediction performance\n",
    "print(classification_report(y_test, threshold_prediction))\n",
    "\n",
    "print (\"\")\n",
    "print (\"confusion_matrix: \")\n",
    "print (confusion_matrix(y_test, threshold_prediction))"
   ]
  }
 ],
 "metadata": {
  "kernelspec": {
   "display_name": "base",
   "language": "python",
   "name": "python3"
  },
  "language_info": {
   "codemirror_mode": {
    "name": "ipython",
    "version": 3
   },
   "file_extension": ".py",
   "mimetype": "text/x-python",
   "name": "python",
   "nbconvert_exporter": "python",
   "pygments_lexer": "ipython3",
   "version": "3.8.12"
  },
  "orig_nbformat": 4,
  "vscode": {
   "interpreter": {
    "hash": "cfdbd8c9048ab92b077343f235d6ccc68a76f62a5f525420b39b88fd49e8f01a"
   }
  }
 },
 "nbformat": 4,
 "nbformat_minor": 2
}
