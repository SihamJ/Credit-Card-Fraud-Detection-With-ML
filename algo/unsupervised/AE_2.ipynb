{
 "cells": [
  {
   "cell_type": "code",
   "execution_count": 1,
   "metadata": {},
   "outputs": [
    {
     "name": "stderr",
     "output_type": "stream",
     "text": [
      "2023-05-12 16:07:37.826773: I tensorflow/core/platform/cpu_feature_guard.cc:193] This TensorFlow binary is optimized with oneAPI Deep Neural Network Library (oneDNN) to use the following CPU instructions in performance-critical operations:  AVX2 FMA\n",
      "To enable them in other operations, rebuild TensorFlow with the appropriate compiler flags.\n",
      "2023-05-12 16:07:38.317319: W tensorflow/compiler/xla/stream_executor/platform/default/dso_loader.cc:64] Could not load dynamic library 'libcudart.so.11.0'; dlerror: libcudart.so.11.0: cannot open shared object file: No such file or directory\n",
      "2023-05-12 16:07:38.317346: I tensorflow/compiler/xla/stream_executor/cuda/cudart_stub.cc:29] Ignore above cudart dlerror if you do not have a GPU set up on your machine.\n",
      "2023-05-12 16:07:39.561539: W tensorflow/compiler/xla/stream_executor/platform/default/dso_loader.cc:64] Could not load dynamic library 'libnvinfer.so.7'; dlerror: libnvinfer.so.7: cannot open shared object file: No such file or directory\n",
      "2023-05-12 16:07:39.561801: W tensorflow/compiler/xla/stream_executor/platform/default/dso_loader.cc:64] Could not load dynamic library 'libnvinfer_plugin.so.7'; dlerror: libnvinfer_plugin.so.7: cannot open shared object file: No such file or directory\n",
      "2023-05-12 16:07:39.561818: W tensorflow/compiler/tf2tensorrt/utils/py_utils.cc:38] TF-TRT Warning: Cannot dlopen some TensorRT libraries. If you would like to use Nvidia GPU with TensorRT, please make sure the missing libraries mentioned above are installed properly.\n"
     ]
    }
   ],
   "source": [
    "# Synthetic dataset\n",
    "from sklearn.datasets import make_classification\n",
    "# Data processing\n",
    "import pandas as pd\n",
    "import numpy as np\n",
    "from collections import Counter\n",
    "# Visualization\n",
    "import matplotlib.pyplot as plt\n",
    "import seaborn as sns\n",
    "# Model and performance\n",
    "import tensorflow as tf\n",
    "from tensorflow.keras import layers, losses, regularizers\n",
    "from sklearn.model_selection import train_test_split\n",
    "from sklearn.metrics import classification_report\n",
    "from sklearn import preprocessing "
   ]
  },
  {
   "cell_type": "code",
   "execution_count": 2,
   "metadata": {},
   "outputs": [],
   "source": [
    "root = \"/home/sihartist/Desktop/\"\n",
    "path = root + \"fraud-detection/dataset/preprocessing_data.xlsx\""
   ]
  },
  {
   "cell_type": "code",
   "execution_count": 3,
   "metadata": {},
   "outputs": [
    {
     "data": {
      "text/html": [
       "<div>\n",
       "<style scoped>\n",
       "    .dataframe tbody tr th:only-of-type {\n",
       "        vertical-align: middle;\n",
       "    }\n",
       "\n",
       "    .dataframe tbody tr th {\n",
       "        vertical-align: top;\n",
       "    }\n",
       "\n",
       "    .dataframe thead th {\n",
       "        text-align: right;\n",
       "    }\n",
       "</style>\n",
       "<table border=\"1\" class=\"dataframe\">\n",
       "  <thead>\n",
       "    <tr style=\"text-align: right;\">\n",
       "      <th></th>\n",
       "      <th>V1</th>\n",
       "      <th>V2</th>\n",
       "      <th>V3</th>\n",
       "      <th>V4</th>\n",
       "      <th>V9</th>\n",
       "      <th>V10</th>\n",
       "      <th>V12</th>\n",
       "      <th>V13</th>\n",
       "      <th>V16</th>\n",
       "      <th>V19</th>\n",
       "      <th>...</th>\n",
       "      <th>SIN(V7_day)</th>\n",
       "      <th>SIN(V23_month)</th>\n",
       "      <th>SIN(V23_day)</th>\n",
       "      <th>SIN(V8_month)</th>\n",
       "      <th>SIN(V8_day)</th>\n",
       "      <th>V6_year</th>\n",
       "      <th>V7_year</th>\n",
       "      <th>V23_year</th>\n",
       "      <th>V8_year</th>\n",
       "      <th>CLASS</th>\n",
       "    </tr>\n",
       "  </thead>\n",
       "  <tbody>\n",
       "    <tr>\n",
       "      <th>0</th>\n",
       "      <td>4</td>\n",
       "      <td>2</td>\n",
       "      <td>23</td>\n",
       "      <td>1</td>\n",
       "      <td>517511</td>\n",
       "      <td>478657.0</td>\n",
       "      <td>19</td>\n",
       "      <td>2976</td>\n",
       "      <td>44</td>\n",
       "      <td>20342</td>\n",
       "      <td>...</td>\n",
       "      <td>7.657137e-16</td>\n",
       "      <td>0.201299</td>\n",
       "      <td>0.937752</td>\n",
       "      <td>0.174152</td>\n",
       "      <td>-0.201299</td>\n",
       "      <td>2009</td>\n",
       "      <td>2011</td>\n",
       "      <td>2009</td>\n",
       "      <td>2009</td>\n",
       "      <td>0</td>\n",
       "    </tr>\n",
       "    <tr>\n",
       "      <th>1</th>\n",
       "      <td>4</td>\n",
       "      <td>2</td>\n",
       "      <td>23</td>\n",
       "      <td>1</td>\n",
       "      <td>656609</td>\n",
       "      <td>57651.0</td>\n",
       "      <td>19</td>\n",
       "      <td>2976</td>\n",
       "      <td>44</td>\n",
       "      <td>1351</td>\n",
       "      <td>...</td>\n",
       "      <td>7.657137e-16</td>\n",
       "      <td>0.201299</td>\n",
       "      <td>0.937752</td>\n",
       "      <td>-0.368810</td>\n",
       "      <td>0.937752</td>\n",
       "      <td>2009</td>\n",
       "      <td>2011</td>\n",
       "      <td>2009</td>\n",
       "      <td>2009</td>\n",
       "      <td>0</td>\n",
       "    </tr>\n",
       "    <tr>\n",
       "      <th>2</th>\n",
       "      <td>4</td>\n",
       "      <td>2</td>\n",
       "      <td>23</td>\n",
       "      <td>1</td>\n",
       "      <td>315952</td>\n",
       "      <td>166815.0</td>\n",
       "      <td>19</td>\n",
       "      <td>2976</td>\n",
       "      <td>44</td>\n",
       "      <td>25375</td>\n",
       "      <td>...</td>\n",
       "      <td>7.657137e-16</td>\n",
       "      <td>0.201299</td>\n",
       "      <td>0.937752</td>\n",
       "      <td>0.174152</td>\n",
       "      <td>-0.394356</td>\n",
       "      <td>2008</td>\n",
       "      <td>2009</td>\n",
       "      <td>2009</td>\n",
       "      <td>2009</td>\n",
       "      <td>0</td>\n",
       "    </tr>\n",
       "    <tr>\n",
       "      <th>3</th>\n",
       "      <td>4</td>\n",
       "      <td>2</td>\n",
       "      <td>23</td>\n",
       "      <td>1</td>\n",
       "      <td>475166</td>\n",
       "      <td>604595.0</td>\n",
       "      <td>19</td>\n",
       "      <td>2976</td>\n",
       "      <td>44</td>\n",
       "      <td>24577</td>\n",
       "      <td>...</td>\n",
       "      <td>7.657137e-16</td>\n",
       "      <td>0.201299</td>\n",
       "      <td>0.937752</td>\n",
       "      <td>0.174152</td>\n",
       "      <td>-0.571268</td>\n",
       "      <td>2009</td>\n",
       "      <td>2011</td>\n",
       "      <td>2009</td>\n",
       "      <td>2009</td>\n",
       "      <td>0</td>\n",
       "    </tr>\n",
       "    <tr>\n",
       "      <th>4</th>\n",
       "      <td>4</td>\n",
       "      <td>2</td>\n",
       "      <td>23</td>\n",
       "      <td>1</td>\n",
       "      <td>61685</td>\n",
       "      <td>665491.0</td>\n",
       "      <td>19</td>\n",
       "      <td>2976</td>\n",
       "      <td>44</td>\n",
       "      <td>17010</td>\n",
       "      <td>...</td>\n",
       "      <td>7.657137e-16</td>\n",
       "      <td>0.201299</td>\n",
       "      <td>0.937752</td>\n",
       "      <td>0.174152</td>\n",
       "      <td>-0.571268</td>\n",
       "      <td>2008</td>\n",
       "      <td>2010</td>\n",
       "      <td>2009</td>\n",
       "      <td>2009</td>\n",
       "      <td>0</td>\n",
       "    </tr>\n",
       "  </tbody>\n",
       "</table>\n",
       "<p>5 rows × 37 columns</p>\n",
       "</div>"
      ],
      "text/plain": [
       "   V1  V2  V3  V4      V9       V10  V12   V13  V16    V19  ...   SIN(V7_day)  \\\n",
       "0   4   2  23   1  517511  478657.0   19  2976   44  20342  ...  7.657137e-16   \n",
       "1   4   2  23   1  656609   57651.0   19  2976   44   1351  ...  7.657137e-16   \n",
       "2   4   2  23   1  315952  166815.0   19  2976   44  25375  ...  7.657137e-16   \n",
       "3   4   2  23   1  475166  604595.0   19  2976   44  24577  ...  7.657137e-16   \n",
       "4   4   2  23   1   61685  665491.0   19  2976   44  17010  ...  7.657137e-16   \n",
       "\n",
       "   SIN(V23_month)  SIN(V23_day)  SIN(V8_month)  SIN(V8_day)  V6_year  V7_year  \\\n",
       "0        0.201299      0.937752       0.174152    -0.201299     2009     2011   \n",
       "1        0.201299      0.937752      -0.368810     0.937752     2009     2011   \n",
       "2        0.201299      0.937752       0.174152    -0.394356     2008     2009   \n",
       "3        0.201299      0.937752       0.174152    -0.571268     2009     2011   \n",
       "4        0.201299      0.937752       0.174152    -0.571268     2008     2010   \n",
       "\n",
       "   V23_year  V8_year  CLASS  \n",
       "0      2009     2009      0  \n",
       "1      2009     2009      0  \n",
       "2      2009     2009      0  \n",
       "3      2009     2009      0  \n",
       "4      2009     2009      0  \n",
       "\n",
       "[5 rows x 37 columns]"
      ]
     },
     "execution_count": 3,
     "metadata": {},
     "output_type": "execute_result"
    }
   ],
   "source": [
    "data = pd.read_excel(path)\n",
    "data.head()"
   ]
  },
  {
   "attachments": {},
   "cell_type": "markdown",
   "metadata": {},
   "source": [
    "## Auto Encoder"
   ]
  },
  {
   "cell_type": "code",
   "execution_count": 4,
   "metadata": {},
   "outputs": [],
   "source": [
    "X = data.drop([\"CLASS\"], axis=1).values\n",
    "y = data[\"CLASS\"].values"
   ]
  },
  {
   "cell_type": "code",
   "execution_count": 5,
   "metadata": {},
   "outputs": [],
   "source": [
    "X = preprocessing.MinMaxScaler().fit_transform(X)"
   ]
  },
  {
   "cell_type": "code",
   "execution_count": 6,
   "metadata": {},
   "outputs": [
    {
     "name": "stdout",
     "output_type": "stream",
     "text": [
      "The number of records in the training dataset is 112523\n",
      "The number of records in the test dataset is 28131\n",
      "The training dataset has 56214 records for the majority class and 56309 records for the minority class.\n"
     ]
    }
   ],
   "source": [
    "# Train test split\n",
    "X_train, X_test, y_train, y_test = train_test_split(X, y, test_size=0.2, random_state=42)\n",
    "# Check the number of records\n",
    "print('The number of records in the training dataset is', X_train.shape[0])\n",
    "print('The number of records in the test dataset is', X_test.shape[0])\n",
    "print(f\"The training dataset has {sorted(Counter(y_train).items())[0][1]} records for the majority class and {sorted(Counter(y_train).items())[1][1]} records for the minority class.\")"
   ]
  },
  {
   "cell_type": "code",
   "execution_count": 52,
   "metadata": {},
   "outputs": [],
   "source": [
    "# Keep only the normal data for the training dataset\n",
    "X_train_normal = X_train[np.where(y_train == 0)]\n",
    "X_test_normal = X_test[np.where(y_test == 0)]\n",
    "\n",
    "r_strength = 0.005\n",
    "# Input layer\n",
    "input = tf.keras.layers.Input(shape=(X.shape[1],))\n",
    "# Encoder layers\n",
    "encoder = tf.keras.Sequential([\n",
    "      layers.Dense(32, activation='relu'),\n",
    "      layers.Dense(16, activation='relu'),\n",
    "      layers.Dense(8, activation='relu')])(input)\n",
    "# Decoder layers\n",
    "decoder = tf.keras.Sequential([\n",
    "      layers.Dense(16, activation='relu'),\n",
    "      layers.Dense(32, activation='relu'),\n",
    "      layers.Dense(X.shape[1], activation='sigmoid')])(encoder)\n",
    "# Create the autoencoder\n",
    "autoencoder = tf.keras.Model(inputs=input, outputs=decoder)"
   ]
  },
  {
   "cell_type": "code",
   "execution_count": 53,
   "metadata": {},
   "outputs": [
    {
     "name": "stdout",
     "output_type": "stream",
     "text": [
      "Epoch 1/50\n",
      "454/454 [==============================] - 2s 3ms/step - loss: 0.5232 - val_loss: 0.4898\n",
      "Epoch 2/50\n",
      "454/454 [==============================] - 1s 3ms/step - loss: 0.4740 - val_loss: 0.4783\n",
      "Epoch 3/50\n",
      "454/454 [==============================] - 1s 3ms/step - loss: 0.4677 - val_loss: 0.4751\n",
      "Epoch 4/50\n",
      "454/454 [==============================] - 1s 3ms/step - loss: 0.4651 - val_loss: 0.4737\n",
      "Epoch 5/50\n",
      "454/454 [==============================] - 1s 3ms/step - loss: 0.4634 - val_loss: 0.4733\n",
      "Epoch 6/50\n",
      "454/454 [==============================] - 1s 3ms/step - loss: 0.4619 - val_loss: 0.4722\n",
      "Epoch 7/50\n",
      "454/454 [==============================] - 1s 3ms/step - loss: 0.4607 - val_loss: 0.4712\n",
      "Epoch 8/50\n",
      "454/454 [==============================] - 1s 3ms/step - loss: 0.4598 - val_loss: 0.4706\n",
      "Epoch 9/50\n",
      "454/454 [==============================] - 1s 3ms/step - loss: 0.4591 - val_loss: 0.4703\n",
      "Epoch 10/50\n",
      "454/454 [==============================] - 1s 3ms/step - loss: 0.4587 - val_loss: 0.4701\n",
      "Epoch 11/50\n",
      "454/454 [==============================] - 1s 3ms/step - loss: 0.4583 - val_loss: 0.4696\n",
      "Epoch 12/50\n",
      "454/454 [==============================] - 1s 3ms/step - loss: 0.4579 - val_loss: 0.4699\n",
      "Epoch 13/50\n",
      "454/454 [==============================] - 1s 3ms/step - loss: 0.4576 - val_loss: 0.4695\n",
      "Epoch 14/50\n",
      "454/454 [==============================] - 1s 3ms/step - loss: 0.4573 - val_loss: 0.4691\n",
      "Epoch 15/50\n",
      "454/454 [==============================] - 1s 3ms/step - loss: 0.4570 - val_loss: 0.4694\n",
      "Epoch 16/50\n",
      "454/454 [==============================] - 1s 3ms/step - loss: 0.4568 - val_loss: 0.4692\n",
      "Epoch 17/50\n",
      "454/454 [==============================] - 1s 3ms/step - loss: 0.4565 - val_loss: 0.4691\n",
      "Epoch 18/50\n",
      "454/454 [==============================] - 1s 3ms/step - loss: 0.4563 - val_loss: 0.4691\n",
      "Epoch 19/50\n",
      "454/454 [==============================] - 1s 3ms/step - loss: 0.4558 - val_loss: 0.4690\n",
      "Epoch 20/50\n",
      "454/454 [==============================] - 1s 3ms/step - loss: 0.4551 - val_loss: 0.4682\n",
      "Epoch 21/50\n",
      "454/454 [==============================] - 1s 3ms/step - loss: 0.4540 - val_loss: 0.4660\n",
      "Epoch 22/50\n",
      "454/454 [==============================] - 1s 3ms/step - loss: 0.4512 - val_loss: 0.4632\n",
      "Epoch 23/50\n",
      "454/454 [==============================] - 1s 3ms/step - loss: 0.4487 - val_loss: 0.4621\n",
      "Epoch 24/50\n",
      "454/454 [==============================] - 1s 3ms/step - loss: 0.4476 - val_loss: 0.4613\n",
      "Epoch 25/50\n",
      "454/454 [==============================] - 1s 3ms/step - loss: 0.4469 - val_loss: 0.4616\n",
      "Epoch 26/50\n",
      "454/454 [==============================] - 1s 3ms/step - loss: 0.4465 - val_loss: 0.4616\n",
      "Epoch 27/50\n",
      "454/454 [==============================] - 1s 3ms/step - loss: 0.4461 - val_loss: 0.4611\n",
      "Epoch 28/50\n",
      "454/454 [==============================] - 1s 3ms/step - loss: 0.4458 - val_loss: 0.4607\n",
      "Epoch 29/50\n",
      "454/454 [==============================] - 1s 3ms/step - loss: 0.4455 - val_loss: 0.4604\n",
      "Epoch 30/50\n",
      "454/454 [==============================] - 1s 3ms/step - loss: 0.4452 - val_loss: 0.4600\n",
      "Epoch 31/50\n",
      "454/454 [==============================] - 1s 3ms/step - loss: 0.4448 - val_loss: 0.4592\n",
      "Epoch 32/50\n",
      "454/454 [==============================] - 1s 3ms/step - loss: 0.4445 - val_loss: 0.4596\n",
      "Epoch 33/50\n",
      "454/454 [==============================] - 1s 3ms/step - loss: 0.4442 - val_loss: 0.4588\n",
      "Epoch 34/50\n",
      "454/454 [==============================] - 1s 3ms/step - loss: 0.4439 - val_loss: 0.4577\n",
      "Epoch 35/50\n",
      "454/454 [==============================] - 1s 3ms/step - loss: 0.4437 - val_loss: 0.4574\n",
      "Epoch 36/50\n",
      "454/454 [==============================] - 1s 3ms/step - loss: 0.4435 - val_loss: 0.4574\n",
      "Epoch 37/50\n",
      "454/454 [==============================] - 1s 3ms/step - loss: 0.4433 - val_loss: 0.4569\n",
      "Epoch 38/50\n",
      "454/454 [==============================] - 1s 3ms/step - loss: 0.4431 - val_loss: 0.4569\n",
      "Epoch 39/50\n",
      "454/454 [==============================] - 1s 3ms/step - loss: 0.4430 - val_loss: 0.4569\n",
      "Epoch 40/50\n",
      "454/454 [==============================] - 1s 3ms/step - loss: 0.4429 - val_loss: 0.4564\n",
      "Epoch 41/50\n",
      "454/454 [==============================] - 1s 3ms/step - loss: 0.4428 - val_loss: 0.4571\n",
      "Epoch 42/50\n",
      "454/454 [==============================] - 1s 3ms/step - loss: 0.4427 - val_loss: 0.4575\n",
      "Epoch 43/50\n",
      "454/454 [==============================] - 1s 3ms/step - loss: 0.4427 - val_loss: 0.4570\n",
      "Epoch 44/50\n",
      "454/454 [==============================] - 1s 3ms/step - loss: 0.4426 - val_loss: 0.4571\n",
      "Epoch 45/50\n",
      "454/454 [==============================] - 1s 3ms/step - loss: 0.4426 - val_loss: 0.4570\n",
      "Epoch 46/50\n",
      "454/454 [==============================] - 1s 3ms/step - loss: 0.4425 - val_loss: 0.4573\n",
      "Epoch 47/50\n",
      "454/454 [==============================] - 1s 3ms/step - loss: 0.4425 - val_loss: 0.4572\n",
      "Epoch 48/50\n",
      "454/454 [==============================] - 1s 3ms/step - loss: 0.4424 - val_loss: 0.4571\n",
      "Epoch 49/50\n",
      "454/454 [==============================] - 1s 3ms/step - loss: 0.4424 - val_loss: 0.4571\n",
      "Epoch 50/50\n",
      "454/454 [==============================] - 1s 3ms/step - loss: 0.4423 - val_loss: 0.4573\n"
     ]
    }
   ],
   "source": [
    "# Compile the autoencoder\n",
    "autoencoder.compile(optimizer='adam' , loss=tf.keras.losses.BinaryCrossentropy())\n",
    "# Fit the autoencoder\n",
    "history = autoencoder.fit(X_train_normal, X_train_normal, \n",
    "          epochs=50, \n",
    "          batch_size=124,\n",
    "          validation_data=(X_test, X_test),\n",
    "          shuffle=True)"
   ]
  },
  {
   "cell_type": "code",
   "execution_count": 54,
   "metadata": {},
   "outputs": [
    {
     "data": {
      "image/png": "[encoded data removed]",
      "text/plain": [
       "<Figure size 432x288 with 1 Axes>"
      ]
     },
     "metadata": {
      "needs_background": "light"
     },
     "output_type": "display_data"
    }
   ],
   "source": [
    "plt.plot(history.history['loss'])\n",
    "plt.plot(history.history['val_loss'])\n",
    "plt.title('model loss')\n",
    "plt.ylabel('loss')\n",
    "plt.xlabel('epoch')\n",
    "plt.legend(['train', 'validation'], loc='upper left')\n",
    "plt.show()"
   ]
  },
  {
   "attachments": {},
   "cell_type": "markdown",
   "metadata": {},
   "source": [
    "The training dataset does not provide sufficient information to learn the problem, relative to the validation dataset used to evaluate it.\n",
    "\n",
    "This is shown by the gap that remains between the two curves."
   ]
  },
  {
   "cell_type": "code",
   "execution_count": 55,
   "metadata": {},
   "outputs": [
    {
     "data": {
      "text/plain": [
       "(array([0, 1]), array([14113, 14018]))"
      ]
     },
     "execution_count": 55,
     "metadata": {},
     "output_type": "execute_result"
    }
   ],
   "source": [
    "np.unique(y_test, return_counts=True)"
   ]
  },
  {
   "cell_type": "code",
   "execution_count": 56,
   "metadata": {},
   "outputs": [
    {
     "name": "stdout",
     "output_type": "stream",
     "text": [
      "0.4983114713305606\n"
     ]
    }
   ],
   "source": [
    "print(14018/(14113+14018))"
   ]
  },
  {
   "cell_type": "code",
   "execution_count": 57,
   "metadata": {},
   "outputs": [
    {
     "name": "stdout",
     "output_type": "stream",
     "text": [
      "880/880 [==============================] - 1s 1ms/step\n",
      "The prediction loss threshold for 49% of outliers is 0.06\n"
     ]
    },
    {
     "data": {
      "text/plain": [
       "<matplotlib.lines.Line2D at 0x7f23b3a69790>"
      ]
     },
     "execution_count": 57,
     "metadata": {},
     "output_type": "execute_result"
    },
    {
     "data": {
      "image/png": "[encoded data removed]",
      "text/plain": [
       "<Figure size 432x288 with 1 Axes>"
      ]
     },
     "metadata": {
      "needs_background": "light"
     },
     "output_type": "display_data"
    }
   ],
   "source": [
    "# Predict anomalies/outliers in the training dataset\n",
    "prediction = autoencoder.predict(X_test)\n",
    "# Get the mean absolute error between actual and reconstruction/prediction\n",
    "prediction_loss = tf.keras.losses.mae(prediction, X_test)\n",
    "# Check the prediction loss threshold for 49% of outliers\n",
    "loss_threshold = np.percentile(prediction_loss, 50)\n",
    "print(f'The prediction loss threshold for 49% of outliers is {loss_threshold:.2f}')\n",
    "# Visualize the threshold\n",
    "sns.histplot(prediction_loss, bins=30, alpha=0.8)\n",
    "plt.axvline(x=loss_threshold, color='orange')"
   ]
  },
  {
   "cell_type": "code",
   "execution_count": 58,
   "metadata": {},
   "outputs": [
    {
     "data": {
      "text/plain": [
       "0.05627790491019505"
      ]
     },
     "execution_count": 58,
     "metadata": {},
     "output_type": "execute_result"
    }
   ],
   "source": [
    "loss_threshold"
   ]
  },
  {
   "cell_type": "code",
   "execution_count": 59,
   "metadata": {},
   "outputs": [
    {
     "name": "stdout",
     "output_type": "stream",
     "text": [
      "              precision    recall  f1-score   support\n",
      "\n",
      "           0       0.75      0.75      0.75     14113\n",
      "           1       0.75      0.75      0.75     14018\n",
      "\n",
      "    accuracy                           0.75     28131\n",
      "   macro avg       0.75      0.75      0.75     28131\n",
      "weighted avg       0.75      0.75      0.75     28131\n",
      "\n",
      "\n",
      "confusion_matrix: \n",
      "[[10591  3522]\n",
      " [ 3474 10544]]\n"
     ]
    }
   ],
   "source": [
    "from sklearn.metrics import confusion_matrix\n",
    "\n",
    "\n",
    "# Check the model performance at 2% threshold\n",
    "threshold_prediction = [0 if i < loss_threshold else 1 for i in prediction_loss]\n",
    "# Check the prediction performance\n",
    "print(classification_report(y_test, threshold_prediction))\n",
    "\n",
    "print (\"\")\n",
    "print (\"confusion_matrix: \")\n",
    "print (confusion_matrix(y_test, threshold_prediction))"
   ]
  }
 ],
 "metadata": {
  "kernelspec": {
   "display_name": "base",
   "language": "python",
   "name": "python3"
  },
  "language_info": {
   "codemirror_mode": {
    "name": "ipython",
    "version": 3
   },
   "file_extension": ".py",
   "mimetype": "text/x-python",
   "name": "python",
   "nbconvert_exporter": "python",
   "pygments_lexer": "ipython3",
   "version": "3.8.12"
  },
  "orig_nbformat": 4,
  "vscode": {
   "interpreter": {
    "hash": "cfdbd8c9048ab92b077343f235d6ccc68a76f62a5f525420b39b88fd49e8f01a"
   }
  }
 },
 "nbformat": 4,
 "nbformat_minor": 2
}
