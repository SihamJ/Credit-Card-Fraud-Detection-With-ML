{
 "cells": [
  {
   "cell_type": "code",
   "execution_count": 14,
   "metadata": {},
   "outputs": [],
   "source": [
    "import pandas as pd # data processing\n",
    "import numpy as np # working with arrays\n",
    "import matplotlib.pyplot as plt # visualization\n",
    "import seaborn as sns\n",
    "import tensorflow as tf\n",
    "from tensorflow.keras.callbacks import ModelCheckpoint,History\n",
    "import pickle\n",
    "from sklearn.model_selection import train_test_split\n",
    "from sklearn.ensemble import VotingClassifier\n",
    "from sklearn.tree import DecisionTreeClassifier\n",
    "from sklearn.ensemble import RandomForestClassifier\n",
    "from sklearn.ensemble import ExtraTreesClassifier\n",
    "from sklearn.metrics import accuracy_score,classification_report,precision_score, recall_score\n",
    "from sklearn.metrics import f1_score, matthews_corrcoef,confusion_matrix"
   ]
  },
  {
   "cell_type": "code",
   "execution_count": 15,
   "metadata": {},
   "outputs": [],
   "source": [
    "def load_data(data_url):\n",
    "    print(\"Loading data ...\",end=\" \")\n",
    "    df = pd.read_excel(data_url)\n",
    "    df.drop(['V7_day','V6_day'], axis=1, inplace=True)\n",
    "    X = df.drop(\"CLASS\", axis=1)\n",
    "    y = df[\"CLASS\"]\n",
    "    X = X.values\n",
    "    y = y.values\n",
    "    print('\\033[32m \\u2713 \\033[0m')\n",
    "    return X,y\n",
    "\n",
    "def split_data(X,y):\n",
    "    print(\"Split data ...\",end=\" \")\n",
    "    X_train, X_test, y_train, y_test = train_test_split(X, y, test_size=0.2, random_state=42)\n",
    "    print('\\033[32m \\u2713 \\033[0m')\n",
    "    return X_train, X_test, y_train, y_test\n",
    "\n",
    "def save_model(model,name):\n",
    "    print(\"Saving \"+name+\" model ...\",end=\" \")\n",
    "    pickle.dump(model, open(\"./models/\"+name+\".pkl\",\"wb\"))\n",
    "    print('\\033[32m \\u2713 \\033[0m')\n",
    "\n",
    "def print_metrics(y_test,y_pred):\n",
    "    n_errors = (y_pred != y_test).sum()\n",
    "    #print(\"The model used is Decision Tree  classifier\")\n",
    "\n",
    "    acc = accuracy_score(y_test, y_pred)\n",
    "    print(\"The accuracy is {}\".format(acc))\n",
    "    \n",
    "    prec = precision_score(y_test, y_pred)\n",
    "    print(\"The precision is {}\".format(prec))\n",
    "    \n",
    "    rec = recall_score(y_test, y_pred)\n",
    "    print(\"The recall is {}\".format(rec))\n",
    "    \n",
    "    f1 = f1_score(y_test, y_pred)\n",
    "    print(\"The F1-Score is {}\".format(f1))\n",
    "\n",
    "def confusion_matr(y_test,y_pred):\n",
    "    # printing the confusion matrix\n",
    "    LABELS = ['Normal', 'Fraud']\n",
    "    conf_matrix = confusion_matrix(y_test, y_pred)\n",
    "    plt.figure(figsize =(8, 4))\n",
    "    sns.heatmap(conf_matrix, xticklabels = LABELS,yticklabels = LABELS, annot = True, fmt =\"d\")\n",
    "    plt.title(\"Confusion matrix\")\n",
    "    plt.ylabel('True class')\n",
    "    plt.xlabel('Predicted class')\n",
    "    plt.show()\n",
    "\n",
    "def d_tree(X_train, X_test, y_train, y_test):\n",
    "    print(\"Creating DT model ...\",end=\" \")\n",
    "    clf = DecisionTreeClassifier()\n",
    "    clf.fit(X_train, y_train)\n",
    "    print('\\033[32m \\u2713 \\033[0m')\n",
    "\n",
    "    y_pred = clf.predict(X_test)\n",
    "    print_metrics(y_test,y_pred)\n",
    "    confusion_matr(y_test,y_pred)\n",
    "\n",
    "    return clf\n",
    "\n",
    "def r_forest(X_train, X_test, y_train, y_test):\n",
    "    print(\"Creating RF model ...\",end=\" \")\n",
    "    rfc = RandomForestClassifier()\n",
    "    rfc.fit(X_train, y_train)\n",
    "    print('\\033[32m \\u2713 \\033[0m')\n",
    "\n",
    "    y_pred = rfc.predict(X_test)\n",
    "    print_metrics(y_test,y_pred)\n",
    "    confusion_matr(y_test,y_pred)\n",
    "    \n",
    "    return rfc\n",
    "\n",
    "def ex_tree(X_train, X_test, y_train, y_test):\n",
    "    print(\"Creating Extra_T model ...\",end=\" \")\n",
    "    etc = ExtraTreesClassifier(n_estimators=100, max_depth=4)\n",
    "    etc.fit(X_train, y_train)\n",
    "    print('\\033[32m \\u2713 \\033[0m')\n",
    "    y_pred = etc.predict(X_test)\n",
    "    print_metrics(y_test,y_pred)\n",
    "    confusion_matr(y_test,y_pred)\n",
    "    return etc\n"
   ]
  },
  {
   "cell_type": "code",
   "execution_count": 23,
   "metadata": {},
   "outputs": [],
   "source": [
    "def cnn_md(X,y):\n",
    "    y = tf.keras.utils.to_categorical(y)\n",
    "    X_train, X_test, y_train, y_test = split_data(X,y)\n",
    "\n",
    "    print(\"Creating CNN model ...\",end=\" \")\n",
    "    # Define the CNN model\n",
    "    model = tf.keras.Sequential()\n",
    "    model.add(tf.keras.layers.Reshape((X.shape[1], 1), input_shape=(X.shape[1],)))\n",
    "    model.add(tf.keras.layers.Conv1D(32, 3, activation='relu'))\n",
    "    model.add(tf.keras.layers.MaxPooling1D(2))\n",
    "    model.add(tf.keras.layers.Flatten())\n",
    "    model.add(tf.keras.layers.Dense(64, activation='relu'))\n",
    "    model.add(tf.keras.layers.Dense(2, activation='softmax'))\n",
    "    print('\\033[32m \\u2713 \\033[0m')  \n",
    "\n",
    "    # Compile the model\n",
    "    model.compile(loss='categorical_crossentropy', optimizer='adam', metrics=['accuracy'])\n",
    "    history= History()\n",
    "    \n",
    "    print(\"Training step ...\")\n",
    "    # Train the model\n",
    "    history= model.fit(X_train, y_train, epochs=5, batch_size=32, validation_data=(X_test, y_test))\n",
    "    print('\\033[32m \\u2713 \\033[0m')  \n",
    "\n",
    "    # Evaluate the model on the test data\n",
    "    test_loss, test_accuracy = model.evaluate(X_test, y_test)\n",
    "    print(\"Test Accuracy:\", test_accuracy)\n",
    "\n",
    "    # Make predictions on the test data\n",
    "    # y_pred = model.predict(X_test)\n",
    "    # confusion_matr(y_test,y_pred)\n",
    "\n",
    "    return history,model\n",
    "\n",
    "def ensemble_learning(X_train, X_test, y_train, y_test,mds):\n",
    "    dt,df=mds\n",
    "    # Combine the models into an ensemble\n",
    "    ensemble_clf = VotingClassifier(estimators=[(\"dt\", dt), (\"rf\", rd)], voting='hard')\n",
    "    ensemble_clf.fit(X_train, y_train)\n",
    "    y_pred = ensemble_clf.predict(X_test)\n"
   ]
  },
  {
   "cell_type": "code",
   "execution_count": 20,
   "metadata": {},
   "outputs": [
    {
     "name": "stdout",
     "output_type": "stream",
     "text": [
      "Loading data ... \u001b[32m ✓ \u001b[0m\n",
      "Split data ... \u001b[32m ✓ \u001b[0m\n"
     ]
    },
    {
     "data": {
      "text/plain": [
       "((112523, 26), (28131, 26))"
      ]
     },
     "execution_count": 20,
     "metadata": {},
     "output_type": "execute_result"
    }
   ],
   "source": [
    "data_url='C:/Users/KABYADE/Desktop/Fraud_ML/dataset/preprocessing_data.xlsx'\n",
    "X,y=load_data(data_url)\n",
    "X_train, X_test, y_train, y_test=split_data(X,y)\n",
    "X_train.shape,X_test.shape"
   ]
  },
  {
   "cell_type": "code",
   "execution_count": 24,
   "metadata": {},
   "outputs": [
    {
     "name": "stdout",
     "output_type": "stream",
     "text": [
      "Split data ... \u001b[32m ✓ \u001b[0m\n",
      "Creating CNN model ... \u001b[32m ✓ \u001b[0m\n",
      "Training step ...\n",
      "Epoch 1/5\n",
      "3517/3517 [==============================] - 31s 8ms/step - loss: 432.9403 - accuracy: 0.5956 - val_loss: 178.9382 - val_accuracy: 0.6531\n",
      "Epoch 2/5\n",
      "3517/3517 [==============================] - 18s 5ms/step - loss: 57.3776 - accuracy: 0.6023 - val_loss: 22.5265 - val_accuracy: 0.6572\n",
      "Epoch 3/5\n",
      "3517/3517 [==============================] - 20s 6ms/step - loss: 3.2127 - accuracy: 0.6074 - val_loss: 0.6047 - val_accuracy: 0.6589\n",
      "Epoch 4/5\n",
      "3517/3517 [==============================] - 14s 4ms/step - loss: 0.6064 - accuracy: 0.6625 - val_loss: 0.6071 - val_accuracy: 0.6543\n",
      "Epoch 5/5\n",
      "3517/3517 [==============================] - 18s 5ms/step - loss: 0.6452 - accuracy: 0.6005 - val_loss: 0.6684 - val_accuracy: 0.5474\n",
      "\u001b[32m ✓ \u001b[0m\n",
      "880/880 [==============================] - 3s 3ms/step - loss: 0.6684 - accuracy: 0.5474\n",
      "Test Accuracy: 0.5474032163619995\n"
     ]
    }
   ],
   "source": [
    "cnn=cnn_md(X,y)"
   ]
  },
  {
   "cell_type": "code",
   "execution_count": null,
   "metadata": {},
   "outputs": [],
   "source": []
  },
  {
   "cell_type": "code",
   "execution_count": null,
   "metadata": {},
   "outputs": [],
   "source": []
  },
  {
   "cell_type": "code",
   "execution_count": 38,
   "metadata": {},
   "outputs": [
    {
     "name": "stdout",
     "output_type": "stream",
     "text": [
      "Creating DT model ... \u001b[32m ✓ \u001b[0m\n",
      "The accuracy is 0.9437986562866588\n",
      "The precision is 0.937214371089081\n",
      "The recall is 0.950920245398773\n",
      "The F1-Score is 0.9440175631174532\n"
     ]
    },
    {
     "data": {
      "image/png": "[encoded data removed]",
      "text/plain": [
       "<Figure size 800x400 with 2 Axes>"
      ]
     },
     "metadata": {},
     "output_type": "display_data"
    }
   ],
   "source": [
    "#Decision_Tree\n",
    "dt=d_tree(X_train, X_test, y_train, y_test)"
   ]
  },
  {
   "cell_type": "code",
   "execution_count": 26,
   "metadata": {},
   "outputs": [
    {
     "name": "stdout",
     "output_type": "stream",
     "text": [
      "Creating RF model ... \u001b[32m ✓ \u001b[0m\n",
      "The accuracy is 0.971454978493477\n",
      "The precision is 0.9965431727662133\n",
      "The recall is 0.9459980025681267\n",
      "The F1-Score is 0.9706129917657823\n"
     ]
    },
    {
     "data": {
      "image/png": "[encoded data removed]",
      "text/plain": [
       "<Figure size 800x400 with 2 Axes>"
      ]
     },
     "metadata": {},
     "output_type": "display_data"
    }
   ],
   "source": [
    "rd=r_forest(X_train, X_test, y_train, y_test)"
   ]
  },
  {
   "cell_type": "code",
   "execution_count": 28,
   "metadata": {},
   "outputs": [
    {
     "name": "stdout",
     "output_type": "stream",
     "text": [
      "Saving R_forest model ... \u001b[32m ✓ \u001b[0m\n"
     ]
    }
   ],
   "source": [
    "save_model(rd,\"R_forest\")"
   ]
  },
  {
   "cell_type": "code",
   "execution_count": 33,
   "metadata": {},
   "outputs": [
    {
     "data": {
      "text/plain": [
       "array([0], dtype=int64)"
      ]
     },
     "execution_count": 33,
     "metadata": {},
     "output_type": "execute_result"
    }
   ],
   "source": [
    "test_data=[  4,  2,  23,  1,  410878,  715848.0,  19,  2976,  44,  20339,  3,  1,  621524,  1,  \n",
    "             384,  4,  0.654861,  0.654861, -1.0, -0.5,  0.959493, -0.978148,  2009,  2011,  2009,  2009 \n",
    "           ]\n",
    "to_predict = np.array(test_data).reshape(1,26)\n",
    "\n",
    "rf_model = pickle.load(open(\"models/R_forest.pkl\",\"rb\"))\n",
    "rf_model.predict(to_predict) "
   ]
  }
 ],
 "metadata": {
  "kernelspec": {
   "display_name": "Python 3",
   "language": "python",
   "name": "python3"
  },
  "language_info": {
   "codemirror_mode": {
    "name": "ipython",
    "version": 3
   },
   "file_extension": ".py",
   "mimetype": "text/x-python",
   "name": "python",
   "nbconvert_exporter": "python",
   "pygments_lexer": "ipython3",
   "version": "3.10.9"
  },
  "orig_nbformat": 4,
  "vscode": {
   "interpreter": {
    "hash": "38db7db662a93b92d35804601f8e71aa4f29fb454ddd5b4d70af8eaaf7f2bce7"
   }
  }
 },
 "nbformat": 4,
 "nbformat_minor": 2
}
