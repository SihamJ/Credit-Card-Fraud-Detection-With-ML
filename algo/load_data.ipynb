{
 "cells": [
  {
   "cell_type": "code",
   "execution_count": null,
   "metadata": {},
   "outputs": [],
   "source": [
    "import pandas as pd # data processing\n",
    "import numpy as np # working with arrays\n",
    "import matplotlib.pyplot as plt # visualization\n",
    "import seaborn as sns"
   ]
  },
  {
   "cell_type": "code",
   "execution_count": null,
   "metadata": {},
   "outputs": [],
   "source": [
    "# Load the credit card transaction data\n",
<<<<<<< HEAD
    "df = pd.read_csv('/home/sihartist/Desktop/fraud-detection/algo/dataset/data_balanced.csv')\n",
=======
    "df = pd.read_csv('C:/Users/HP/Desktop/Stage_docs/code/data/data_balanceada.csv')\n",
>>>>>>> cdef8e2f28e71650c5d9b51b8b1e398c769ade72
    "#df.drop('step', axis = 1, inplace = True)\n",
    "df=df.iloc[:,1:]\n",
    "df.head(2)"
   ]
  }
 ],
 "metadata": {
  "kernelspec": {
<<<<<<< HEAD
   "display_name": "my-env",
=======
   "display_name": "Python 3",
>>>>>>> cdef8e2f28e71650c5d9b51b8b1e398c769ade72
   "language": "python",
   "name": "python3"
  },
  "language_info": {
   "name": "python",
<<<<<<< HEAD
   "version": "3.9.11 (main, Mar 29 2022, 19:08:29) \n[GCC 7.5.0]"
=======
   "version": "3.9.0"
>>>>>>> cdef8e2f28e71650c5d9b51b8b1e398c769ade72
  },
  "orig_nbformat": 4,
  "vscode": {
   "interpreter": {
<<<<<<< HEAD
    "hash": "de649f83ae69a157e4075d312a5af8e502ec3c0b3c20b96bc4b78dc2691db007"
=======
    "hash": "f6246b25e200e4c5124e3e61789ac81350562f0761bbcf92ad9e48654207659c"
>>>>>>> cdef8e2f28e71650c5d9b51b8b1e398c769ade72
   }
  }
 },
 "nbformat": 4,
 "nbformat_minor": 2
}
