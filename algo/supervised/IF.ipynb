{
 "cells": [
  {
   "cell_type": "code",
   "execution_count": 1,
   "metadata": {},
   "outputs": [],
   "source": [
    "import os\n",
    "import numpy as np\n",
    "import pandas as pd\n",
    "import matplotlib.pyplot as plt\n",
    "import seaborn as sns"
   ]
  },
  {
   "cell_type": "code",
   "execution_count": 2,
   "metadata": {},
   "outputs": [],
   "source": [
    "root = \"/home/sihartist/Desktop/\"\n",
    "path = root + \"fraud-detection/dataset/preprocessing_data.xlsx\""
   ]
  },
  {
   "cell_type": "code",
   "execution_count": 3,
   "metadata": {},
   "outputs": [
    {
     "data": {
      "text/html": [
       "<div>\n",
       "<style scoped>\n",
       "    .dataframe tbody tr th:only-of-type {\n",
       "        vertical-align: middle;\n",
       "    }\n",
       "\n",
       "    .dataframe tbody tr th {\n",
       "        vertical-align: top;\n",
       "    }\n",
       "\n",
       "    .dataframe thead th {\n",
       "        text-align: right;\n",
       "    }\n",
       "</style>\n",
       "<table border=\"1\" class=\"dataframe\">\n",
       "  <thead>\n",
       "    <tr style=\"text-align: right;\">\n",
       "      <th></th>\n",
       "      <th>V1</th>\n",
       "      <th>V2</th>\n",
       "      <th>V3</th>\n",
       "      <th>V4</th>\n",
       "      <th>V9</th>\n",
       "      <th>V10</th>\n",
       "      <th>V12</th>\n",
       "      <th>V13</th>\n",
       "      <th>V16</th>\n",
       "      <th>V19</th>\n",
       "      <th>...</th>\n",
       "      <th>V7_month</th>\n",
       "      <th>V7_day</th>\n",
       "      <th>V23_month</th>\n",
       "      <th>V23_day</th>\n",
       "      <th>V8_month</th>\n",
       "      <th>V8_day</th>\n",
       "      <th>V6_year</th>\n",
       "      <th>V7_year</th>\n",
       "      <th>V23_year</th>\n",
       "      <th>V8_year</th>\n",
       "    </tr>\n",
       "  </thead>\n",
       "  <tbody>\n",
       "    <tr>\n",
       "      <th>0</th>\n",
       "      <td>4</td>\n",
       "      <td>2</td>\n",
       "      <td>23</td>\n",
       "      <td>1</td>\n",
       "      <td>285328</td>\n",
       "      <td>33443.0</td>\n",
       "      <td>19</td>\n",
       "      <td>2976</td>\n",
       "      <td>44</td>\n",
       "      <td>20238</td>\n",
       "      <td>...</td>\n",
       "      <td>0.201299</td>\n",
       "      <td>0.980307</td>\n",
       "      <td>0.201299</td>\n",
       "      <td>0.980307</td>\n",
       "      <td>-0.525049</td>\n",
       "      <td>-0.937752</td>\n",
       "      <td>2009</td>\n",
       "      <td>2009</td>\n",
       "      <td>2009</td>\n",
       "      <td>2009</td>\n",
       "    </tr>\n",
       "    <tr>\n",
       "      <th>1</th>\n",
       "      <td>4</td>\n",
       "      <td>2</td>\n",
       "      <td>23</td>\n",
       "      <td>1</td>\n",
       "      <td>483993</td>\n",
       "      <td>652487.0</td>\n",
       "      <td>19</td>\n",
       "      <td>2976</td>\n",
       "      <td>44</td>\n",
       "      <td>1352</td>\n",
       "      <td>...</td>\n",
       "      <td>0.201299</td>\n",
       "      <td>0.980307</td>\n",
       "      <td>0.201299</td>\n",
       "      <td>0.980307</td>\n",
       "      <td>-0.368810</td>\n",
       "      <td>0.937752</td>\n",
       "      <td>2009</td>\n",
       "      <td>2009</td>\n",
       "      <td>2009</td>\n",
       "      <td>2009</td>\n",
       "    </tr>\n",
       "    <tr>\n",
       "      <th>2</th>\n",
       "      <td>4</td>\n",
       "      <td>2</td>\n",
       "      <td>23</td>\n",
       "      <td>1</td>\n",
       "      <td>713040</td>\n",
       "      <td>554381.0</td>\n",
       "      <td>19</td>\n",
       "      <td>2976</td>\n",
       "      <td>44</td>\n",
       "      <td>25276</td>\n",
       "      <td>...</td>\n",
       "      <td>0.201299</td>\n",
       "      <td>0.980307</td>\n",
       "      <td>0.201299</td>\n",
       "      <td>0.980307</td>\n",
       "      <td>-0.893709</td>\n",
       "      <td>-0.937752</td>\n",
       "      <td>2009</td>\n",
       "      <td>2009</td>\n",
       "      <td>2009</td>\n",
       "      <td>2009</td>\n",
       "    </tr>\n",
       "    <tr>\n",
       "      <th>3</th>\n",
       "      <td>4</td>\n",
       "      <td>2</td>\n",
       "      <td>23</td>\n",
       "      <td>1</td>\n",
       "      <td>592014</td>\n",
       "      <td>778437.0</td>\n",
       "      <td>19</td>\n",
       "      <td>2976</td>\n",
       "      <td>44</td>\n",
       "      <td>24482</td>\n",
       "      <td>...</td>\n",
       "      <td>0.201299</td>\n",
       "      <td>0.980307</td>\n",
       "      <td>0.201299</td>\n",
       "      <td>0.980307</td>\n",
       "      <td>-0.996172</td>\n",
       "      <td>-0.937752</td>\n",
       "      <td>2009</td>\n",
       "      <td>2009</td>\n",
       "      <td>2009</td>\n",
       "      <td>2009</td>\n",
       "    </tr>\n",
       "    <tr>\n",
       "      <th>4</th>\n",
       "      <td>4</td>\n",
       "      <td>2</td>\n",
       "      <td>23</td>\n",
       "      <td>1</td>\n",
       "      <td>18805</td>\n",
       "      <td>314278.0</td>\n",
       "      <td>19</td>\n",
       "      <td>2976</td>\n",
       "      <td>44</td>\n",
       "      <td>16915</td>\n",
       "      <td>...</td>\n",
       "      <td>0.201299</td>\n",
       "      <td>0.980307</td>\n",
       "      <td>0.201299</td>\n",
       "      <td>0.980307</td>\n",
       "      <td>-0.996172</td>\n",
       "      <td>-0.937752</td>\n",
       "      <td>2009</td>\n",
       "      <td>2009</td>\n",
       "      <td>2009</td>\n",
       "      <td>2009</td>\n",
       "    </tr>\n",
       "  </tbody>\n",
       "</table>\n",
       "<p>5 rows × 29 columns</p>\n",
       "</div>"
      ],
      "text/plain": [
       "   V1  V2  V3  V4      V9       V10  V12   V13  V16    V19  ...  V7_month  \\\n",
       "0   4   2  23   1  285328   33443.0   19  2976   44  20238  ...  0.201299   \n",
       "1   4   2  23   1  483993  652487.0   19  2976   44   1352  ...  0.201299   \n",
       "2   4   2  23   1  713040  554381.0   19  2976   44  25276  ...  0.201299   \n",
       "3   4   2  23   1  592014  778437.0   19  2976   44  24482  ...  0.201299   \n",
       "4   4   2  23   1   18805  314278.0   19  2976   44  16915  ...  0.201299   \n",
       "\n",
       "     V7_day  V23_month   V23_day  V8_month    V8_day  V6_year  V7_year  \\\n",
       "0  0.980307   0.201299  0.980307 -0.525049 -0.937752     2009     2009   \n",
       "1  0.980307   0.201299  0.980307 -0.368810  0.937752     2009     2009   \n",
       "2  0.980307   0.201299  0.980307 -0.893709 -0.937752     2009     2009   \n",
       "3  0.980307   0.201299  0.980307 -0.996172 -0.937752     2009     2009   \n",
       "4  0.980307   0.201299  0.980307 -0.996172 -0.937752     2009     2009   \n",
       "\n",
       "   V23_year  V8_year  \n",
       "0      2009     2009  \n",
       "1      2009     2009  \n",
       "2      2009     2009  \n",
       "3      2009     2009  \n",
       "4      2009     2009  \n",
       "\n",
       "[5 rows x 29 columns]"
      ]
     },
     "execution_count": 3,
     "metadata": {},
     "output_type": "execute_result"
    }
   ],
   "source": [
    "# Load the credit card transaction data\n",
    "df = pd.read_excel(path)\n",
    "#df = pd.read_csv('/home/sihartist/Desktop/fraud-detection/algo/dataset/data_balanced.csv')\n",
    "\n",
    "# df = pd.read_excel('/home/sihartist/Desktop/fraud-detection/algo/dataset/data_raw.xls', index_col=None, header=1) \n",
    "#df = df.iloc[:,1:]\n",
    "#df = df.tail(-1)\n",
    "df.head()"
   ]
  },
  {
   "cell_type": "code",
   "execution_count": 4,
   "metadata": {},
   "outputs": [
    {
     "name": "stdout",
     "output_type": "stream",
     "text": [
      "<class 'pandas.core.frame.DataFrame'>\n",
      "RangeIndex: 140654 entries, 0 to 140653\n",
      "Data columns (total 29 columns):\n",
      " #   Column     Non-Null Count   Dtype  \n",
      "---  ------     --------------   -----  \n",
      " 0   V1         140654 non-null  int64  \n",
      " 1   V2         140654 non-null  int64  \n",
      " 2   V3         140654 non-null  int64  \n",
      " 3   V4         140654 non-null  int64  \n",
      " 4   V9         140654 non-null  int64  \n",
      " 5   V10        140654 non-null  float64\n",
      " 6   V12        140654 non-null  int64  \n",
      " 7   V13        140654 non-null  int64  \n",
      " 8   V16        140654 non-null  int64  \n",
      " 9   V19        140654 non-null  int64  \n",
      " 10  V21        140654 non-null  int64  \n",
      " 11  V22        140654 non-null  int64  \n",
      " 12  V24        140654 non-null  int64  \n",
      " 13  V25        140654 non-null  int64  \n",
      " 14  V26        140654 non-null  int64  \n",
      " 15  V27        140654 non-null  int64  \n",
      " 16  CLASS      140654 non-null  int64  \n",
      " 17  V6_month   140654 non-null  float64\n",
      " 18  V6_day     140654 non-null  float64\n",
      " 19  V7_month   140654 non-null  float64\n",
      " 20  V7_day     140654 non-null  float64\n",
      " 21  V23_month  140654 non-null  float64\n",
      " 22  V23_day    140654 non-null  float64\n",
      " 23  V8_month   140654 non-null  float64\n",
      " 24  V8_day     140654 non-null  float64\n",
      " 25  V6_year    140654 non-null  int64  \n",
      " 26  V7_year    140654 non-null  int64  \n",
      " 27  V23_year   140654 non-null  int64  \n",
      " 28  V8_year    140654 non-null  int64  \n",
      "dtypes: float64(9), int64(20)\n",
      "memory usage: 31.1 MB\n"
     ]
    }
   ],
   "source": [
    "df.info()"
   ]
  },
  {
   "cell_type": "code",
   "execution_count": 5,
   "metadata": {},
   "outputs": [
    {
     "name": "stdout",
     "output_type": "stream",
     "text": [
      "0    70327\n",
      "1    70327\n",
      "Name: CLASS, dtype: int64\n"
     ]
    },
    {
     "data": {
      "text/plain": [
       "<AxesSubplot:>"
      ]
     },
     "execution_count": 5,
     "metadata": {},
     "output_type": "execute_result"
    },
    {
     "data": {
      "image/png": "[encoded data removed]",
      "text/plain": [
       "<Figure size 432x288 with 1 Axes>"
      ]
     },
     "metadata": {
      "needs_background": "light"
     },
     "output_type": "display_data"
    }
   ],
   "source": [
    "print(df.CLASS.value_counts())\n",
    "df.CLASS.value_counts().plot(kind='bar')"
   ]
  },
  {
   "cell_type": "code",
   "execution_count": 6,
   "metadata": {},
   "outputs": [],
   "source": [
    "from sklearn.ensemble import IsolationForest\n",
    "from sklearn.model_selection import train_test_split"
   ]
  },
  {
   "cell_type": "code",
   "execution_count": 11,
   "metadata": {},
   "outputs": [
    {
     "name": "stdout",
     "output_type": "stream",
     "text": [
      "Clean Samples: 70327, Fraud Samples: 70327\n",
      "Train Samples: 112522\n",
      "Test Samples: 28132\n"
     ]
    }
   ],
   "source": [
    "seed = 1337\n",
    "\n",
    "def get_data(df, clean_train=True):\n",
    "    \"\"\"\n",
    "        clean_train=True returns a train sample that only contains clean samples.\n",
    "        Otherwise, it will return a subset of each class in train and test (10% outlier)\n",
    "    \"\"\"\n",
    "    clean = df[df.CLASS == 0].copy().reset_index(drop=True)\n",
    "    fraud = df[df.CLASS == 1].copy().reset_index(drop=True)\n",
    "    print(f'Clean Samples: {len(clean)}, Fraud Samples: {len(fraud)}')\n",
    "\n",
    "    if clean_train:\n",
    "        train, test_clean = train_test_split(clean, test_size=len(fraud), random_state=seed)\n",
    "        print(f'Train Samples: {len(train)}')\n",
    "\n",
    "        test = pd.concat([test_clean, fraud]).reset_index(drop=True)\n",
    "\n",
    "        print(f'Test Samples: {len(test)}')\n",
    "\n",
    "        # shuffle the test data\n",
    "        test.sample(frac=1, random_state=seed).reset_index(drop=True)\n",
    "        \n",
    "        train_X, train_y = train.loc[:, ~train.columns.isin(['CLASS'])], train.loc[:, train.columns.isin(['CLASS'])]\n",
    "        test_X, test_y = test.loc[:, ~test.columns.isin(['CLASS'])], test.loc[:, test.columns.isin(['CLASS'])]\n",
    "    else:\n",
    "        clean_train, clean_test = train_test_split(clean, test_size=0.2, random_state=seed)\n",
    "        fraud_train, fraud_test = train_test_split(fraud, test_size=0.2, random_state=seed)\n",
    "        \n",
    "        train_samples = pd.concat([clean_train, fraud_train]).reset_index(drop=True)\n",
    "        test_samples = pd.concat([clean_test, fraud_test]).reset_index(drop=True)\n",
    "        \n",
    "        # shuffle\n",
    "        train_samples.sample(frac=1, random_state=seed).reset_index(drop=True)\n",
    "        \n",
    "        print(f'Train Samples: {len(train_samples)}')\n",
    "        test_samples.sample(frac=1, random_state=seed).reset_index(drop=True)\n",
    "        \n",
    "        print(f'Test Samples: {len(test_samples)}')\n",
    "        train_X, train_y = train_samples.loc[:, ~train_samples.columns.isin(['CLASS'])], train_samples.loc[:, train_samples.columns.isin(['CLASS'])]\n",
    "        test_X, test_y = test_samples.loc[:, ~test_samples.columns.isin(['CLASS'])], test_samples.loc[:, test_samples.columns.isin(['CLASS'])]\n",
    "    \n",
    "    return train_X, train_y, test_X, test_y\n",
    "\n",
    "train_X, train_y, test_X, test_y = get_data(df, False)"
   ]
  },
  {
   "cell_type": "code",
   "execution_count": 12,
   "metadata": {},
   "outputs": [
    {
     "data": {
      "text/html": [
       "<style>#sk-container-id-1 {color: black;background-color: white;}#sk-container-id-1 pre{padding: 0;}#sk-container-id-1 div.sk-toggleable {background-color: white;}#sk-container-id-1 label.sk-toggleable__label {cursor: pointer;display: block;width: 100%;margin-bottom: 0;padding: 0.3em;box-sizing: border-box;text-align: center;}#sk-container-id-1 label.sk-toggleable__label-arrow:before {content: \"▸\";float: left;margin-right: 0.25em;color: #696969;}#sk-container-id-1 label.sk-toggleable__label-arrow:hover:before {color: black;}#sk-container-id-1 div.sk-estimator:hover label.sk-toggleable__label-arrow:before {color: black;}#sk-container-id-1 div.sk-toggleable__content {max-height: 0;max-width: 0;overflow: hidden;text-align: left;background-color: #f0f8ff;}#sk-container-id-1 div.sk-toggleable__content pre {margin: 0.2em;color: black;border-radius: 0.25em;background-color: #f0f8ff;}#sk-container-id-1 input.sk-toggleable__control:checked~div.sk-toggleable__content {max-height: 200px;max-width: 100%;overflow: auto;}#sk-container-id-1 input.sk-toggleable__control:checked~label.sk-toggleable__label-arrow:before {content: \"▾\";}#sk-container-id-1 div.sk-estimator input.sk-toggleable__control:checked~label.sk-toggleable__label {background-color: #d4ebff;}#sk-container-id-1 div.sk-label input.sk-toggleable__control:checked~label.sk-toggleable__label {background-color: #d4ebff;}#sk-container-id-1 input.sk-hidden--visually {border: 0;clip: rect(1px 1px 1px 1px);clip: rect(1px, 1px, 1px, 1px);height: 1px;margin: -1px;overflow: hidden;padding: 0;position: absolute;width: 1px;}#sk-container-id-1 div.sk-estimator {font-family: monospace;background-color: #f0f8ff;border: 1px dotted black;border-radius: 0.25em;box-sizing: border-box;margin-bottom: 0.5em;}#sk-container-id-1 div.sk-estimator:hover {background-color: #d4ebff;}#sk-container-id-1 div.sk-parallel-item::after {content: \"\";width: 100%;border-bottom: 1px solid gray;flex-grow: 1;}#sk-container-id-1 div.sk-label:hover label.sk-toggleable__label {background-color: #d4ebff;}#sk-container-id-1 div.sk-serial::before {content: \"\";position: absolute;border-left: 1px solid gray;box-sizing: border-box;top: 0;bottom: 0;left: 50%;z-index: 0;}#sk-container-id-1 div.sk-serial {display: flex;flex-direction: column;align-items: center;background-color: white;padding-right: 0.2em;padding-left: 0.2em;position: relative;}#sk-container-id-1 div.sk-item {position: relative;z-index: 1;}#sk-container-id-1 div.sk-parallel {display: flex;align-items: stretch;justify-content: center;background-color: white;position: relative;}#sk-container-id-1 div.sk-item::before, #sk-container-id-1 div.sk-parallel-item::before {content: \"\";position: absolute;border-left: 1px solid gray;box-sizing: border-box;top: 0;bottom: 0;left: 50%;z-index: -1;}#sk-container-id-1 div.sk-parallel-item {display: flex;flex-direction: column;z-index: 1;position: relative;background-color: white;}#sk-container-id-1 div.sk-parallel-item:first-child::after {align-self: flex-end;width: 50%;}#sk-container-id-1 div.sk-parallel-item:last-child::after {align-self: flex-start;width: 50%;}#sk-container-id-1 div.sk-parallel-item:only-child::after {width: 0;}#sk-container-id-1 div.sk-dashed-wrapped {border: 1px dashed gray;margin: 0 0.4em 0.5em 0.4em;box-sizing: border-box;padding-bottom: 0.4em;background-color: white;}#sk-container-id-1 div.sk-label label {font-family: monospace;font-weight: bold;display: inline-block;line-height: 1.2em;}#sk-container-id-1 div.sk-label-container {text-align: center;}#sk-container-id-1 div.sk-container {/* jupyter's `normalize.less` sets `[hidden] { display: none; }` but bootstrap.min.css set `[hidden] { display: none !important; }` so we also need the `!important` here to be able to override the default hidden behavior on the sphinx rendered scikit-learn.org. See: https://github.com/scikit-learn/scikit-learn/issues/21755 */display: inline-block !important;position: relative;}#sk-container-id-1 div.sk-text-repr-fallback {display: none;}</style><div id=\"sk-container-id-1\" class=\"sk-top-container\"><div class=\"sk-text-repr-fallback\"><pre>IsolationForest(random_state=1337)</pre><b>In a Jupyter environment, please rerun this cell to show the HTML representation or trust the notebook. <br />On GitHub, the HTML representation is unable to render, please try loading this page with nbviewer.org.</b></div><div class=\"sk-container\" hidden><div class=\"sk-item\"><div class=\"sk-estimator sk-toggleable\"><input class=\"sk-toggleable__control sk-hidden--visually\" id=\"sk-estimator-id-1\" type=\"checkbox\" checked><label for=\"sk-estimator-id-1\" class=\"sk-toggleable__label sk-toggleable__label-arrow\">IsolationForest</label><div class=\"sk-toggleable__content\"><pre>IsolationForest(random_state=1337)</pre></div></div></div></div></div>"
      ],
      "text/plain": [
       "IsolationForest(random_state=1337)"
      ]
     },
     "execution_count": 12,
     "metadata": {},
     "output_type": "execute_result"
    }
   ],
   "source": [
    "model = IsolationForest(random_state=seed)\n",
    "model.fit(train_X, train_y)"
   ]
  },
  {
   "cell_type": "code",
   "execution_count": 13,
   "metadata": {},
   "outputs": [],
   "source": [
    "from sklearn.metrics import classification_report, confusion_matrix"
   ]
  },
  {
   "cell_type": "code",
   "execution_count": 14,
   "metadata": {},
   "outputs": [],
   "source": [
    "def predict(X):\n",
    "    test_yhat = model.predict(X)\n",
    "    # values are -1 and 1 (-1 for outliers and 1 for inliers), thus we will map it to 0 (inlier) and 1 (outlier) as this is our target variable\n",
    "    test_yhat = np.array([1 if y == -1 else 0 for y in test_yhat])\n",
    "    return test_yhat\n",
    "\n",
    "test_yhat = predict(test_X)"
   ]
  },
  {
   "cell_type": "code",
   "execution_count": 15,
   "metadata": {},
   "outputs": [
    {
     "data": {
      "image/png": "[encoded data removed]",
      "text/plain": [
       "<Figure size 720x720 with 2 Axes>"
      ]
     },
     "metadata": {
      "needs_background": "light"
     },
     "output_type": "display_data"
    }
   ],
   "source": [
    "def get_confusion_matrix(test_y, test_yhat):\n",
    "    cm = confusion_matrix(test_y, test_yhat)\n",
    "\n",
    "    fig, ax = plt.subplots(1, 1,figsize=(10,10))\n",
    "\n",
    "    tick_labels = ['Legitimate','Fraudulent']\n",
    "\n",
    "    # calculate output\n",
    "    total = np.sum(cm)\n",
    "    tp = cm[0][0]\n",
    "    fn = cm[0][1]\n",
    "    fp = cm[1][0]\n",
    "    tn = cm[1][1]\n",
    "    tp_o = np.round((tp / total)*100,3)\n",
    "    fn_o = np.round((fn / total)*100,3)\n",
    "    fp_o = np.round((fp / total)*100,3)\n",
    "    tn_o = np.round((tn / total)*100,3)\n",
    "    tp_c = np.round(max((tp / (tp + fn)), 0.0)*100,3)\n",
    "    fn_c = np.round(max((fn / (tp + fn)), 0.0)*100,3)\n",
    "    fp_c = np.round(max((fp / (fp + tn)), 0.0)*100,3)\n",
    "    tn_c = np.round(max((tn / (fp + tn)), 0.0)*100,3)\n",
    "    labels = np.array([[\n",
    "            f'TP\\nCount: {tp}\\nOverall: {tp_o}%\\nTPR: {tp_c}%', \n",
    "            f'FN (Type 2)\\nCount: {fn}\\nOverall: {fn_o}%\\nFNR: {fn_c}%'\n",
    "        ],[\n",
    "            f'FP (Type 1)\\nCount: {fp}\\nOverall: {fp_o}%\\nFPR: {fp_c}%', \n",
    "            f'TN\\nCount: {tn}\\nOverall: {tn_o}%\\nTNR: {tn_c}%'\n",
    "        ]])\n",
    "    sns.heatmap(cm, ax=ax, annot=labels, fmt='', cmap=plt.cm.RdYlBu)\n",
    "\n",
    "    ax.set_title('Confusion Matrix', fontsize=14)\n",
    "\n",
    "    ax.set_xticklabels(tick_labels, fontsize=14, rotation=0)\n",
    "    ax.set_xlabel('Predicted', fontsize=20)\n",
    "    ax.set_yticklabels(tick_labels, fontsize=14, rotation=0)\n",
    "    ax.set_ylabel('Actual', fontsize=20)\n",
    "    plt.show()\n",
    "\n",
    "get_confusion_matrix(test_y, test_yhat)\n"
   ]
  },
  {
   "cell_type": "code",
   "execution_count": 16,
   "metadata": {},
   "outputs": [
    {
     "name": "stdout",
     "output_type": "stream",
     "text": [
      "              precision    recall  f1-score   support\n",
      "\n",
      "  Legitimate       0.53      0.96      0.68     14066\n",
      "  Fraudulent       0.77      0.13      0.23     14066\n",
      "\n",
      "    accuracy                           0.55     28132\n",
      "   macro avg       0.65      0.55      0.45     28132\n",
      "weighted avg       0.65      0.55      0.45     28132\n",
      "\n"
     ]
    }
   ],
   "source": [
    "def get_classification_report(test_y, test_yhat):\n",
    "    labels = ['Legitimate','Fraudulent']\n",
    "    print(classification_report(test_y, test_yhat, target_names=labels))\n",
    "get_classification_report(test_y, test_yhat)"
   ]
  }
 ],
 "metadata": {
  "kernelspec": {
   "display_name": "base",
   "language": "python",
   "name": "python3"
  },
  "language_info": {
   "codemirror_mode": {
    "name": "ipython",
    "version": 3
   },
   "file_extension": ".py",
   "mimetype": "text/x-python",
   "name": "python",
   "nbconvert_exporter": "python",
   "pygments_lexer": "ipython3",
   "version": "3.8.12"
  },
  "orig_nbformat": 4,
  "vscode": {
   "interpreter": {
    "hash": "cfdbd8c9048ab92b077343f235d6ccc68a76f62a5f525420b39b88fd49e8f01a"
   }
  }
 },
 "nbformat": 4,
 "nbformat_minor": 2
}
