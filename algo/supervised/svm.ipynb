{
 "cells": [
  {
   "cell_type": "code",
   "execution_count": 33,
   "metadata": {},
   "outputs": [],
   "source": [
    "from sklearn2pmml import sklearn2pmml\n",
    "import pandas as pd\n",
    "from sklearn2pmml.pipeline import PMMLPipeline\n",
    "import matplotlib.pyplot as plt # visualization"
   ]
  },
  {
   "attachments": {},
   "cell_type": "markdown",
   "metadata": {},
   "source": [
    "**Don't forget to change root**"
   ]
  },
  {
   "cell_type": "code",
   "execution_count": 34,
   "metadata": {},
   "outputs": [],
   "source": [
    "root = \"/home/sihartist/Desktop/\"\n",
    "path = root + \"fraud-detection/dataset/preprocessing_data.xlsx\""
   ]
  },
  {
   "attachments": {},
   "cell_type": "markdown",
   "metadata": {},
   "source": [
    "Useful function for evaluation"
   ]
  },
  {
   "cell_type": "code",
   "execution_count": 35,
   "metadata": {},
   "outputs": [],
   "source": [
    "from sklearn.metrics import classification_report, confusion_matrix, plot_confusion_matrix\n",
    "from sklearn.metrics import average_precision_score, precision_recall_curve, average_precision_score\n",
    "from sklearn.metrics import balanced_accuracy_score, matthews_corrcoef\n",
    "\n",
    "def performance_report(model, X, y_true, target_names=None):\n",
    "        y_pred = model.predict(X)\n",
    "        \n",
    "        score_tr = model.score(X, y_true)\n",
    "        print('Accuracy Score: ', score_tr)\n",
    "        print(\"\")\n",
    "        bal_acc_te = balanced_accuracy_score(y_true, y_pred)\n",
    "        print('Balanced Accuracy: ', bal_acc_te)\n",
    "        print(\"\")\n",
    "        mat_corr_coeff_te = matthews_corrcoef(y_true, y_pred)\n",
    "        print('Matthews Correlation Coefficient: ', mat_corr_coeff_te)\n",
    "        print(\"\")\n",
    "\n",
    "        print(classification_report(y_true, y_pred, target_names=target_names))\n",
    "        print('--------------------------------------------------------')\n",
    "\n",
    "        matrix = plot_confusion_matrix(model, X, y_true, cmap=plt.cm.Blues, display_labels=target_names)\n",
    "        matrix.ax_.set_title('Confusion Matrix')\n",
    "        plt.xlabel('Predicted Label')\n",
    "        plt.ylabel('True Label')\n",
    "        plt.xticks(rotation=90)\n",
    "        plt.show()\n",
    "        print(\"\")"
   ]
  },
  {
   "attachments": {},
   "cell_type": "markdown",
   "metadata": {},
   "source": [
    "## Model SVM"
   ]
  },
  {
   "cell_type": "code",
   "execution_count": 36,
   "metadata": {},
   "outputs": [
    {
     "data": {
      "text/html": [
       "<div>\n",
       "<style scoped>\n",
       "    .dataframe tbody tr th:only-of-type {\n",
       "        vertical-align: middle;\n",
       "    }\n",
       "\n",
       "    .dataframe tbody tr th {\n",
       "        vertical-align: top;\n",
       "    }\n",
       "\n",
       "    .dataframe thead th {\n",
       "        text-align: right;\n",
       "    }\n",
       "</style>\n",
       "<table border=\"1\" class=\"dataframe\">\n",
       "  <thead>\n",
       "    <tr style=\"text-align: right;\">\n",
       "      <th></th>\n",
       "      <th>V1</th>\n",
       "      <th>V2</th>\n",
       "      <th>V3</th>\n",
       "      <th>V4</th>\n",
       "      <th>V9</th>\n",
       "      <th>V10</th>\n",
       "      <th>V12</th>\n",
       "      <th>V13</th>\n",
       "      <th>V16</th>\n",
       "      <th>V19</th>\n",
       "      <th>...</th>\n",
       "      <th>SIN(V7_day)</th>\n",
       "      <th>SIN(V23_month)</th>\n",
       "      <th>SIN(V23_day)</th>\n",
       "      <th>SIN(V8_month)</th>\n",
       "      <th>SIN(V8_day)</th>\n",
       "      <th>V6_year</th>\n",
       "      <th>V7_year</th>\n",
       "      <th>V23_year</th>\n",
       "      <th>V8_year</th>\n",
       "      <th>CLASS</th>\n",
       "    </tr>\n",
       "  </thead>\n",
       "  <tbody>\n",
       "    <tr>\n",
       "      <th>0</th>\n",
       "      <td>4</td>\n",
       "      <td>2</td>\n",
       "      <td>23</td>\n",
       "      <td>1</td>\n",
       "      <td>285328</td>\n",
       "      <td>33443.0</td>\n",
       "      <td>19</td>\n",
       "      <td>2976</td>\n",
       "      <td>44</td>\n",
       "      <td>20238</td>\n",
       "      <td>...</td>\n",
       "      <td>0.980307</td>\n",
       "      <td>0.201299</td>\n",
       "      <td>0.980307</td>\n",
       "      <td>-0.525049</td>\n",
       "      <td>-0.937752</td>\n",
       "      <td>2009</td>\n",
       "      <td>2009</td>\n",
       "      <td>2009</td>\n",
       "      <td>2009</td>\n",
       "      <td>0</td>\n",
       "    </tr>\n",
       "    <tr>\n",
       "      <th>1</th>\n",
       "      <td>4</td>\n",
       "      <td>2</td>\n",
       "      <td>23</td>\n",
       "      <td>1</td>\n",
       "      <td>483993</td>\n",
       "      <td>652487.0</td>\n",
       "      <td>19</td>\n",
       "      <td>2976</td>\n",
       "      <td>44</td>\n",
       "      <td>1352</td>\n",
       "      <td>...</td>\n",
       "      <td>0.980307</td>\n",
       "      <td>0.201299</td>\n",
       "      <td>0.980307</td>\n",
       "      <td>-0.368810</td>\n",
       "      <td>0.937752</td>\n",
       "      <td>2009</td>\n",
       "      <td>2009</td>\n",
       "      <td>2009</td>\n",
       "      <td>2009</td>\n",
       "      <td>0</td>\n",
       "    </tr>\n",
       "    <tr>\n",
       "      <th>2</th>\n",
       "      <td>4</td>\n",
       "      <td>2</td>\n",
       "      <td>23</td>\n",
       "      <td>1</td>\n",
       "      <td>713040</td>\n",
       "      <td>554381.0</td>\n",
       "      <td>19</td>\n",
       "      <td>2976</td>\n",
       "      <td>44</td>\n",
       "      <td>25276</td>\n",
       "      <td>...</td>\n",
       "      <td>0.980307</td>\n",
       "      <td>0.201299</td>\n",
       "      <td>0.980307</td>\n",
       "      <td>-0.893709</td>\n",
       "      <td>-0.937752</td>\n",
       "      <td>2009</td>\n",
       "      <td>2009</td>\n",
       "      <td>2009</td>\n",
       "      <td>2009</td>\n",
       "      <td>0</td>\n",
       "    </tr>\n",
       "    <tr>\n",
       "      <th>3</th>\n",
       "      <td>4</td>\n",
       "      <td>2</td>\n",
       "      <td>23</td>\n",
       "      <td>1</td>\n",
       "      <td>592014</td>\n",
       "      <td>778437.0</td>\n",
       "      <td>19</td>\n",
       "      <td>2976</td>\n",
       "      <td>44</td>\n",
       "      <td>24482</td>\n",
       "      <td>...</td>\n",
       "      <td>0.980307</td>\n",
       "      <td>0.201299</td>\n",
       "      <td>0.980307</td>\n",
       "      <td>-0.996172</td>\n",
       "      <td>-0.937752</td>\n",
       "      <td>2009</td>\n",
       "      <td>2009</td>\n",
       "      <td>2009</td>\n",
       "      <td>2009</td>\n",
       "      <td>0</td>\n",
       "    </tr>\n",
       "    <tr>\n",
       "      <th>4</th>\n",
       "      <td>4</td>\n",
       "      <td>2</td>\n",
       "      <td>23</td>\n",
       "      <td>1</td>\n",
       "      <td>18805</td>\n",
       "      <td>314278.0</td>\n",
       "      <td>19</td>\n",
       "      <td>2976</td>\n",
       "      <td>44</td>\n",
       "      <td>16915</td>\n",
       "      <td>...</td>\n",
       "      <td>0.980307</td>\n",
       "      <td>0.201299</td>\n",
       "      <td>0.980307</td>\n",
       "      <td>-0.996172</td>\n",
       "      <td>-0.937752</td>\n",
       "      <td>2009</td>\n",
       "      <td>2009</td>\n",
       "      <td>2009</td>\n",
       "      <td>2009</td>\n",
       "      <td>0</td>\n",
       "    </tr>\n",
       "  </tbody>\n",
       "</table>\n",
       "<p>5 rows × 37 columns</p>\n",
       "</div>"
      ],
      "text/plain": [
       "   V1  V2  V3  V4      V9       V10  V12   V13  V16    V19  ...  SIN(V7_day)  \\\n",
       "0   4   2  23   1  285328   33443.0   19  2976   44  20238  ...     0.980307   \n",
       "1   4   2  23   1  483993  652487.0   19  2976   44   1352  ...     0.980307   \n",
       "2   4   2  23   1  713040  554381.0   19  2976   44  25276  ...     0.980307   \n",
       "3   4   2  23   1  592014  778437.0   19  2976   44  24482  ...     0.980307   \n",
       "4   4   2  23   1   18805  314278.0   19  2976   44  16915  ...     0.980307   \n",
       "\n",
       "   SIN(V23_month)  SIN(V23_day)  SIN(V8_month)  SIN(V8_day)  V6_year  V7_year  \\\n",
       "0        0.201299      0.980307      -0.525049    -0.937752     2009     2009   \n",
       "1        0.201299      0.980307      -0.368810     0.937752     2009     2009   \n",
       "2        0.201299      0.980307      -0.893709    -0.937752     2009     2009   \n",
       "3        0.201299      0.980307      -0.996172    -0.937752     2009     2009   \n",
       "4        0.201299      0.980307      -0.996172    -0.937752     2009     2009   \n",
       "\n",
       "   V23_year  V8_year  CLASS  \n",
       "0      2009     2009      0  \n",
       "1      2009     2009      0  \n",
       "2      2009     2009      0  \n",
       "3      2009     2009      0  \n",
       "4      2009     2009      0  \n",
       "\n",
       "[5 rows x 37 columns]"
      ]
     },
     "execution_count": 36,
     "metadata": {},
     "output_type": "execute_result"
    }
   ],
   "source": [
    "df = pd.read_excel(path)\n",
    "df.head()"
   ]
  },
  {
   "cell_type": "code",
   "execution_count": 37,
   "metadata": {},
   "outputs": [
    {
     "name": "stdout",
     "output_type": "stream",
     "text": [
      "<class 'pandas.core.frame.DataFrame'>\n",
      "RangeIndex: 140654 entries, 0 to 140653\n",
      "Data columns (total 37 columns):\n",
      " #   Column          Non-Null Count   Dtype  \n",
      "---  ------          --------------   -----  \n",
      " 0   V1              140654 non-null  int64  \n",
      " 1   V2              140654 non-null  int64  \n",
      " 2   V3              140654 non-null  int64  \n",
      " 3   V4              140654 non-null  int64  \n",
      " 4   V9              140654 non-null  int64  \n",
      " 5   V10             140654 non-null  float64\n",
      " 6   V12             140654 non-null  int64  \n",
      " 7   V13             140654 non-null  int64  \n",
      " 8   V16             140654 non-null  int64  \n",
      " 9   V19             140654 non-null  int64  \n",
      " 10  V21             140654 non-null  int64  \n",
      " 11  V22             140654 non-null  int64  \n",
      " 12  V24             140654 non-null  int64  \n",
      " 13  V25             140654 non-null  int64  \n",
      " 14  V26             140654 non-null  int64  \n",
      " 15  V27             140654 non-null  int64  \n",
      " 16  COS(V6_month)   140654 non-null  float64\n",
      " 17  COS(V6_day)     140654 non-null  float64\n",
      " 18  COS(V7_month)   140654 non-null  float64\n",
      " 19  COS(V7_day)     140654 non-null  float64\n",
      " 20  COS(V23_month)  140654 non-null  float64\n",
      " 21  COS(V23_day)    140654 non-null  float64\n",
      " 22  COS(V8_month)   140654 non-null  float64\n",
      " 23  COS(V8_day)     140654 non-null  float64\n",
      " 24  SIN(V6_month)   140654 non-null  float64\n",
      " 25  SIN(V6_day)     140654 non-null  float64\n",
      " 26  SIN(V7_month)   140654 non-null  float64\n",
      " 27  SIN(V7_day)     140654 non-null  float64\n",
      " 28  SIN(V23_month)  140654 non-null  float64\n",
      " 29  SIN(V23_day)    140654 non-null  float64\n",
      " 30  SIN(V8_month)   140654 non-null  float64\n",
      " 31  SIN(V8_day)     140654 non-null  float64\n",
      " 32  V6_year         140654 non-null  int64  \n",
      " 33  V7_year         140654 non-null  int64  \n",
      " 34  V23_year        140654 non-null  int64  \n",
      " 35  V8_year         140654 non-null  int64  \n",
      " 36  CLASS           140654 non-null  int64  \n",
      "dtypes: float64(17), int64(20)\n",
      "memory usage: 39.7 MB\n"
     ]
    }
   ],
   "source": [
    "df.info()"
   ]
  },
  {
   "cell_type": "code",
   "execution_count": 38,
   "metadata": {},
   "outputs": [
    {
     "name": "stdout",
     "output_type": "stream",
     "text": [
      "(140654, 36)\n",
      "(140654,)\n"
     ]
    }
   ],
   "source": [
    "# Split the data into features and target variable\n",
    "X = df.drop(\"CLASS\", axis=1)\n",
    "X_cols = df.drop(\"CLASS\", axis=1).columns.values\n",
    "y = df[\"CLASS\"]\n",
    "\n",
    "X = X.values\n",
    "y = y.values\n",
    "\n",
    "print(X.shape)\n",
    "print(y.shape)"
   ]
  },
  {
   "cell_type": "code",
   "execution_count": 39,
   "metadata": {},
   "outputs": [],
   "source": [
    "from sklearn.model_selection import train_test_split\n",
    "X_train, X_test, y_train, y_test = train_test_split(X, y, test_size=0.33, random_state=42)"
   ]
  },
  {
   "cell_type": "code",
   "execution_count": 40,
   "metadata": {},
   "outputs": [
    {
     "data": {
      "text/plain": [
       "94238"
      ]
     },
     "execution_count": 40,
     "metadata": {},
     "output_type": "execute_result"
    }
   ],
   "source": [
    "len(X_train)"
   ]
  },
  {
   "cell_type": "code",
   "execution_count": 41,
   "metadata": {},
   "outputs": [
    {
     "data": {
      "text/html": [
       "<style>#sk-container-id-2 {color: black;background-color: white;}#sk-container-id-2 pre{padding: 0;}#sk-container-id-2 div.sk-toggleable {background-color: white;}#sk-container-id-2 label.sk-toggleable__label {cursor: pointer;display: block;width: 100%;margin-bottom: 0;padding: 0.3em;box-sizing: border-box;text-align: center;}#sk-container-id-2 label.sk-toggleable__label-arrow:before {content: \"▸\";float: left;margin-right: 0.25em;color: #696969;}#sk-container-id-2 label.sk-toggleable__label-arrow:hover:before {color: black;}#sk-container-id-2 div.sk-estimator:hover label.sk-toggleable__label-arrow:before {color: black;}#sk-container-id-2 div.sk-toggleable__content {max-height: 0;max-width: 0;overflow: hidden;text-align: left;background-color: #f0f8ff;}#sk-container-id-2 div.sk-toggleable__content pre {margin: 0.2em;color: black;border-radius: 0.25em;background-color: #f0f8ff;}#sk-container-id-2 input.sk-toggleable__control:checked~div.sk-toggleable__content {max-height: 200px;max-width: 100%;overflow: auto;}#sk-container-id-2 input.sk-toggleable__control:checked~label.sk-toggleable__label-arrow:before {content: \"▾\";}#sk-container-id-2 div.sk-estimator input.sk-toggleable__control:checked~label.sk-toggleable__label {background-color: #d4ebff;}#sk-container-id-2 div.sk-label input.sk-toggleable__control:checked~label.sk-toggleable__label {background-color: #d4ebff;}#sk-container-id-2 input.sk-hidden--visually {border: 0;clip: rect(1px 1px 1px 1px);clip: rect(1px, 1px, 1px, 1px);height: 1px;margin: -1px;overflow: hidden;padding: 0;position: absolute;width: 1px;}#sk-container-id-2 div.sk-estimator {font-family: monospace;background-color: #f0f8ff;border: 1px dotted black;border-radius: 0.25em;box-sizing: border-box;margin-bottom: 0.5em;}#sk-container-id-2 div.sk-estimator:hover {background-color: #d4ebff;}#sk-container-id-2 div.sk-parallel-item::after {content: \"\";width: 100%;border-bottom: 1px solid gray;flex-grow: 1;}#sk-container-id-2 div.sk-label:hover label.sk-toggleable__label {background-color: #d4ebff;}#sk-container-id-2 div.sk-serial::before {content: \"\";position: absolute;border-left: 1px solid gray;box-sizing: border-box;top: 0;bottom: 0;left: 50%;z-index: 0;}#sk-container-id-2 div.sk-serial {display: flex;flex-direction: column;align-items: center;background-color: white;padding-right: 0.2em;padding-left: 0.2em;position: relative;}#sk-container-id-2 div.sk-item {position: relative;z-index: 1;}#sk-container-id-2 div.sk-parallel {display: flex;align-items: stretch;justify-content: center;background-color: white;position: relative;}#sk-container-id-2 div.sk-item::before, #sk-container-id-2 div.sk-parallel-item::before {content: \"\";position: absolute;border-left: 1px solid gray;box-sizing: border-box;top: 0;bottom: 0;left: 50%;z-index: -1;}#sk-container-id-2 div.sk-parallel-item {display: flex;flex-direction: column;z-index: 1;position: relative;background-color: white;}#sk-container-id-2 div.sk-parallel-item:first-child::after {align-self: flex-end;width: 50%;}#sk-container-id-2 div.sk-parallel-item:last-child::after {align-self: flex-start;width: 50%;}#sk-container-id-2 div.sk-parallel-item:only-child::after {width: 0;}#sk-container-id-2 div.sk-dashed-wrapped {border: 1px dashed gray;margin: 0 0.4em 0.5em 0.4em;box-sizing: border-box;padding-bottom: 0.4em;background-color: white;}#sk-container-id-2 div.sk-label label {font-family: monospace;font-weight: bold;display: inline-block;line-height: 1.2em;}#sk-container-id-2 div.sk-label-container {text-align: center;}#sk-container-id-2 div.sk-container {/* jupyter's `normalize.less` sets `[hidden] { display: none; }` but bootstrap.min.css set `[hidden] { display: none !important; }` so we also need the `!important` here to be able to override the default hidden behavior on the sphinx rendered scikit-learn.org. See: https://github.com/scikit-learn/scikit-learn/issues/21755 */display: inline-block !important;position: relative;}#sk-container-id-2 div.sk-text-repr-fallback {display: none;}</style><div id=\"sk-container-id-2\" class=\"sk-top-container\"><div class=\"sk-text-repr-fallback\"><pre>PMMLPipeline(steps=[(&#x27;Standard Scaler&#x27;, StandardScaler()),\n",
       "       (&#x27;SVM&#x27;, SVC(gamma=&#x27;auto&#x27;))])</pre><b>In a Jupyter environment, please rerun this cell to show the HTML representation or trust the notebook. <br />On GitHub, the HTML representation is unable to render, please try loading this page with nbviewer.org.</b></div><div class=\"sk-container\" hidden><div class=\"sk-item sk-dashed-wrapped\"><div class=\"sk-label-container\"><div class=\"sk-label sk-toggleable\"><input class=\"sk-toggleable__control sk-hidden--visually\" id=\"sk-estimator-id-4\" type=\"checkbox\" ><label for=\"sk-estimator-id-4\" class=\"sk-toggleable__label sk-toggleable__label-arrow\">PMMLPipeline</label><div class=\"sk-toggleable__content\"><pre>PMMLPipeline(steps=[(&#x27;Standard Scaler&#x27;, StandardScaler()),\n",
       "       (&#x27;SVM&#x27;, SVC(gamma=&#x27;auto&#x27;))])</pre></div></div></div><div class=\"sk-serial\"><div class=\"sk-item\"><div class=\"sk-estimator sk-toggleable\"><input class=\"sk-toggleable__control sk-hidden--visually\" id=\"sk-estimator-id-5\" type=\"checkbox\" ><label for=\"sk-estimator-id-5\" class=\"sk-toggleable__label sk-toggleable__label-arrow\">StandardScaler</label><div class=\"sk-toggleable__content\"><pre>StandardScaler()</pre></div></div></div><div class=\"sk-item\"><div class=\"sk-estimator sk-toggleable\"><input class=\"sk-toggleable__control sk-hidden--visually\" id=\"sk-estimator-id-6\" type=\"checkbox\" ><label for=\"sk-estimator-id-6\" class=\"sk-toggleable__label sk-toggleable__label-arrow\">SVC</label><div class=\"sk-toggleable__content\"><pre>SVC(gamma=&#x27;auto&#x27;)</pre></div></div></div></div></div></div></div>"
      ],
      "text/plain": [
       "PMMLPipeline(steps=[('Standard Scaler', StandardScaler()),\n",
       "       ('SVM', SVC(gamma='auto'))])"
      ]
     },
     "execution_count": 41,
     "metadata": {},
     "output_type": "execute_result"
    }
   ],
   "source": [
    "from sklearn.pipeline import make_pipeline\n",
    "from sklearn.preprocessing import StandardScaler\n",
    "from sklearn.svm import SVC\n",
    "\n",
    "## Train the model with PMML wraper\n",
    "clf = PMMLPipeline(\n",
    "    [\n",
    "        (\n",
    "            \"Standard Scaler\",\n",
    "            StandardScaler()\n",
    "        )\n",
    "        ,\n",
    "        (\n",
    "            \"SVM\",\n",
    "            SVC(gamma='auto')\n",
    "        )\n",
    "    ]\n",
    ")\n",
    "\n",
    "X_train = pd.DataFrame(X_train, columns = list(X_cols))\n",
    "y_train = pd.Series(y_train, name = \"isFraud\")\n",
    "X_test = pd.DataFrame(X_test, columns = list(X_cols))\n",
    "y_test = pd.Series(y_test, name = \"isFraud\")\n",
    "\n",
    "# Train the model\n",
    "clf.fit(X_train, y_train)"
   ]
  },
  {
   "attachments": {},
   "cell_type": "markdown",
   "metadata": {},
   "source": [
    "### testing model"
   ]
  },
  {
   "cell_type": "code",
   "execution_count": 42,
   "metadata": {},
   "outputs": [
    {
     "name": "stdout",
     "output_type": "stream",
     "text": [
      "Accuracy Score:  0.8961349534643226\n",
      "\n",
      "Balanced Accuracy:  0.8959376216165691\n",
      "\n",
      "Matthews Correlation Coefficient:  0.8057659129477599\n",
      "\n",
      "              precision    recall  f1-score   support\n",
      "\n",
      "           0       0.84      0.99      0.91     23258\n",
      "           1       0.98      0.80      0.89     23158\n",
      "\n",
      "    accuracy                           0.90     46416\n",
      "   macro avg       0.91      0.90      0.90     46416\n",
      "weighted avg       0.91      0.90      0.90     46416\n",
      "\n",
      "--------------------------------------------------------\n"
     ]
    },
    {
     "name": "stderr",
     "output_type": "stream",
     "text": [
      "/home/sihartist/.local/lib/python3.8/site-packages/sklearn/utils/deprecation.py:87: FutureWarning: Function plot_confusion_matrix is deprecated; Function `plot_confusion_matrix` is deprecated in 1.0 and will be removed in 1.2. Use one of the class methods: ConfusionMatrixDisplay.from_predictions or ConfusionMatrixDisplay.from_estimator.\n",
      "  warnings.warn(msg, category=FutureWarning)\n"
     ]
    },
    {
     "data": {
      "image/png": "[encoded data removed]",
      "text/plain": [
       "<Figure size 432x288 with 2 Axes>"
      ]
     },
     "metadata": {
      "needs_background": "light"
     },
     "output_type": "display_data"
    },
    {
     "name": "stdout",
     "output_type": "stream",
     "text": [
      "\n"
     ]
    }
   ],
   "source": [
    "performance_report(clf, X_test, y_test, target_names=None)"
   ]
  },
  {
   "attachments": {},
   "cell_type": "markdown",
   "metadata": {},
   "source": [
    "## saving model"
   ]
  },
  {
   "attachments": {},
   "cell_type": "markdown",
   "metadata": {},
   "source": [
    "Pickle"
   ]
  },
  {
   "cell_type": "code",
   "execution_count": 43,
   "metadata": {},
   "outputs": [],
   "source": [
    "import pickle\n",
    "\n",
    "filename = root + \"fraud-detection/models/svm.pkl\"\n",
    "pickle.dump(clf, open(filename, \"wb\"))"
   ]
  },
  {
   "attachments": {},
   "cell_type": "markdown",
   "metadata": {},
   "source": [
    "PMML"
   ]
  },
  {
   "cell_type": "code",
   "execution_count": 44,
   "metadata": {},
   "outputs": [],
   "source": [
    "filename = root + \"fraud-detection/models/svm.pmml\"\n",
    "filename_java = root + \"SpringAPI/src/main/resources/models/svm.pmml\"\n",
    "\n",
    "sklearn2pmml(clf, filename, with_repr = True)\n",
    "sklearn2pmml(clf, filename_java, with_repr = True)"
   ]
  },
  {
   "attachments": {},
   "cell_type": "markdown",
   "metadata": {},
   "source": [
    "## loading model"
   ]
  },
  {
   "cell_type": "code",
   "execution_count": 45,
   "metadata": {},
   "outputs": [],
   "source": [
    "from pypmml import Model"
   ]
  },
  {
   "cell_type": "code",
   "execution_count": 46,
   "metadata": {},
   "outputs": [
    {
     "data": {
      "text/plain": [
       "predicted_isFraud    0.0\n",
       "probability          1.0\n",
       "probability_0        1.0\n",
       "probability_1        0.0\n",
       "Name: 0, dtype: float64"
      ]
     },
     "execution_count": 46,
     "metadata": {},
     "output_type": "execute_result"
    }
   ],
   "source": [
    "loaded_model = Model.load(filename)\n",
    "loaded_model.predict(X_test.iloc[0])"
   ]
  }
 ],
 "metadata": {
  "kernelspec": {
   "display_name": "base",
   "language": "python",
   "name": "python3"
  },
  "language_info": {
   "codemirror_mode": {
    "name": "ipython",
    "version": 3
   },
   "file_extension": ".py",
   "mimetype": "text/x-python",
   "name": "python",
   "nbconvert_exporter": "python",
   "pygments_lexer": "ipython3",
   "version": "3.8.12"
  },
  "orig_nbformat": 4,
  "vscode": {
   "interpreter": {
    "hash": "cfdbd8c9048ab92b077343f235d6ccc68a76f62a5f525420b39b88fd49e8f01a"
   }
  }
 },
 "nbformat": 4,
 "nbformat_minor": 2
}
