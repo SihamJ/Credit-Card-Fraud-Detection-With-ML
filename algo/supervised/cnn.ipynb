{
 "cells": [
  {
   "attachments": {},
   "cell_type": "markdown",
   "metadata": {},
   "source": [
    "## Import Dataset"
   ]
  },
  {
   "cell_type": "code",
   "execution_count": 1,
   "metadata": {},
   "outputs": [],
   "source": [
    "import pandas as pd"
   ]
  },
  {
   "cell_type": "code",
   "execution_count": 2,
   "metadata": {},
   "outputs": [],
   "source": [
    "root = \"/home/sihartist/Desktop/\"\n",
    "path = root + \"fraud-detection/dataset/preprocessing_data.xlsx\""
   ]
  },
  {
   "cell_type": "code",
   "execution_count": 3,
   "metadata": {},
   "outputs": [
    {
     "data": {
      "text/html": [
       "<div>\n",
       "<style scoped>\n",
       "    .dataframe tbody tr th:only-of-type {\n",
       "        vertical-align: middle;\n",
       "    }\n",
       "\n",
       "    .dataframe tbody tr th {\n",
       "        vertical-align: top;\n",
       "    }\n",
       "\n",
       "    .dataframe thead th {\n",
       "        text-align: right;\n",
       "    }\n",
       "</style>\n",
       "<table border=\"1\" class=\"dataframe\">\n",
       "  <thead>\n",
       "    <tr style=\"text-align: right;\">\n",
       "      <th></th>\n",
       "      <th>V1</th>\n",
       "      <th>V2</th>\n",
       "      <th>V3</th>\n",
       "      <th>V4</th>\n",
       "      <th>V9</th>\n",
       "      <th>V10</th>\n",
       "      <th>V12</th>\n",
       "      <th>V13</th>\n",
       "      <th>V16</th>\n",
       "      <th>V19</th>\n",
       "      <th>...</th>\n",
       "      <th>SIN(V7_day)</th>\n",
       "      <th>SIN(V23_month)</th>\n",
       "      <th>SIN(V23_day)</th>\n",
       "      <th>SIN(V8_month)</th>\n",
       "      <th>SIN(V8_day)</th>\n",
       "      <th>V6_year</th>\n",
       "      <th>V7_year</th>\n",
       "      <th>V23_year</th>\n",
       "      <th>V8_year</th>\n",
       "      <th>CLASS</th>\n",
       "    </tr>\n",
       "  </thead>\n",
       "  <tbody>\n",
       "    <tr>\n",
       "      <th>0</th>\n",
       "      <td>4</td>\n",
       "      <td>2</td>\n",
       "      <td>23</td>\n",
       "      <td>1</td>\n",
       "      <td>517511</td>\n",
       "      <td>478657.0</td>\n",
       "      <td>19</td>\n",
       "      <td>2976</td>\n",
       "      <td>44</td>\n",
       "      <td>20342</td>\n",
       "      <td>...</td>\n",
       "      <td>7.657137e-16</td>\n",
       "      <td>0.201299</td>\n",
       "      <td>0.937752</td>\n",
       "      <td>0.174152</td>\n",
       "      <td>-0.201299</td>\n",
       "      <td>2009</td>\n",
       "      <td>2011</td>\n",
       "      <td>2009</td>\n",
       "      <td>2009</td>\n",
       "      <td>0</td>\n",
       "    </tr>\n",
       "    <tr>\n",
       "      <th>1</th>\n",
       "      <td>4</td>\n",
       "      <td>2</td>\n",
       "      <td>23</td>\n",
       "      <td>1</td>\n",
       "      <td>656609</td>\n",
       "      <td>57651.0</td>\n",
       "      <td>19</td>\n",
       "      <td>2976</td>\n",
       "      <td>44</td>\n",
       "      <td>1351</td>\n",
       "      <td>...</td>\n",
       "      <td>7.657137e-16</td>\n",
       "      <td>0.201299</td>\n",
       "      <td>0.937752</td>\n",
       "      <td>-0.368810</td>\n",
       "      <td>0.937752</td>\n",
       "      <td>2009</td>\n",
       "      <td>2011</td>\n",
       "      <td>2009</td>\n",
       "      <td>2009</td>\n",
       "      <td>0</td>\n",
       "    </tr>\n",
       "    <tr>\n",
       "      <th>2</th>\n",
       "      <td>4</td>\n",
       "      <td>2</td>\n",
       "      <td>23</td>\n",
       "      <td>1</td>\n",
       "      <td>315952</td>\n",
       "      <td>166815.0</td>\n",
       "      <td>19</td>\n",
       "      <td>2976</td>\n",
       "      <td>44</td>\n",
       "      <td>25375</td>\n",
       "      <td>...</td>\n",
       "      <td>7.657137e-16</td>\n",
       "      <td>0.201299</td>\n",
       "      <td>0.937752</td>\n",
       "      <td>0.174152</td>\n",
       "      <td>-0.394356</td>\n",
       "      <td>2008</td>\n",
       "      <td>2009</td>\n",
       "      <td>2009</td>\n",
       "      <td>2009</td>\n",
       "      <td>0</td>\n",
       "    </tr>\n",
       "    <tr>\n",
       "      <th>3</th>\n",
       "      <td>4</td>\n",
       "      <td>2</td>\n",
       "      <td>23</td>\n",
       "      <td>1</td>\n",
       "      <td>475166</td>\n",
       "      <td>604595.0</td>\n",
       "      <td>19</td>\n",
       "      <td>2976</td>\n",
       "      <td>44</td>\n",
       "      <td>24577</td>\n",
       "      <td>...</td>\n",
       "      <td>7.657137e-16</td>\n",
       "      <td>0.201299</td>\n",
       "      <td>0.937752</td>\n",
       "      <td>0.174152</td>\n",
       "      <td>-0.571268</td>\n",
       "      <td>2009</td>\n",
       "      <td>2011</td>\n",
       "      <td>2009</td>\n",
       "      <td>2009</td>\n",
       "      <td>0</td>\n",
       "    </tr>\n",
       "    <tr>\n",
       "      <th>4</th>\n",
       "      <td>4</td>\n",
       "      <td>2</td>\n",
       "      <td>23</td>\n",
       "      <td>1</td>\n",
       "      <td>61685</td>\n",
       "      <td>665491.0</td>\n",
       "      <td>19</td>\n",
       "      <td>2976</td>\n",
       "      <td>44</td>\n",
       "      <td>17010</td>\n",
       "      <td>...</td>\n",
       "      <td>7.657137e-16</td>\n",
       "      <td>0.201299</td>\n",
       "      <td>0.937752</td>\n",
       "      <td>0.174152</td>\n",
       "      <td>-0.571268</td>\n",
       "      <td>2008</td>\n",
       "      <td>2010</td>\n",
       "      <td>2009</td>\n",
       "      <td>2009</td>\n",
       "      <td>0</td>\n",
       "    </tr>\n",
       "  </tbody>\n",
       "</table>\n",
       "<p>5 rows × 37 columns</p>\n",
       "</div>"
      ],
      "text/plain": [
       "   V1  V2  V3  V4      V9       V10  V12   V13  V16    V19  ...   SIN(V7_day)  \\\n",
       "0   4   2  23   1  517511  478657.0   19  2976   44  20342  ...  7.657137e-16   \n",
       "1   4   2  23   1  656609   57651.0   19  2976   44   1351  ...  7.657137e-16   \n",
       "2   4   2  23   1  315952  166815.0   19  2976   44  25375  ...  7.657137e-16   \n",
       "3   4   2  23   1  475166  604595.0   19  2976   44  24577  ...  7.657137e-16   \n",
       "4   4   2  23   1   61685  665491.0   19  2976   44  17010  ...  7.657137e-16   \n",
       "\n",
       "   SIN(V23_month)  SIN(V23_day)  SIN(V8_month)  SIN(V8_day)  V6_year  V7_year  \\\n",
       "0        0.201299      0.937752       0.174152    -0.201299     2009     2011   \n",
       "1        0.201299      0.937752      -0.368810     0.937752     2009     2011   \n",
       "2        0.201299      0.937752       0.174152    -0.394356     2008     2009   \n",
       "3        0.201299      0.937752       0.174152    -0.571268     2009     2011   \n",
       "4        0.201299      0.937752       0.174152    -0.571268     2008     2010   \n",
       "\n",
       "   V23_year  V8_year  CLASS  \n",
       "0      2009     2009      0  \n",
       "1      2009     2009      0  \n",
       "2      2009     2009      0  \n",
       "3      2009     2009      0  \n",
       "4      2009     2009      0  \n",
       "\n",
       "[5 rows x 37 columns]"
      ]
     },
     "execution_count": 3,
     "metadata": {},
     "output_type": "execute_result"
    }
   ],
   "source": [
    "# Load the credit card transaction data\n",
    "df = pd.read_excel(path)\n",
    "\n",
    "df.head()"
   ]
  },
  {
   "attachments": {},
   "cell_type": "markdown",
   "metadata": {},
   "source": [
    "## Prepare Training And Testing Data"
   ]
  },
  {
   "cell_type": "code",
   "execution_count": 4,
   "metadata": {},
   "outputs": [
    {
     "name": "stderr",
     "output_type": "stream",
     "text": [
      "2023-04-13 15:45:48.557550: I tensorflow/core/platform/cpu_feature_guard.cc:193] This TensorFlow binary is optimized with oneAPI Deep Neural Network Library (oneDNN) to use the following CPU instructions in performance-critical operations:  AVX2 FMA\n",
      "To enable them in other operations, rebuild TensorFlow with the appropriate compiler flags.\n",
      "2023-04-13 15:45:48.676616: W tensorflow/compiler/xla/stream_executor/platform/default/dso_loader.cc:64] Could not load dynamic library 'libcudart.so.11.0'; dlerror: libcudart.so.11.0: cannot open shared object file: No such file or directory\n",
      "2023-04-13 15:45:48.676632: I tensorflow/compiler/xla/stream_executor/cuda/cudart_stub.cc:29] Ignore above cudart dlerror if you do not have a GPU set up on your machine.\n",
      "2023-04-13 15:45:49.098177: W tensorflow/compiler/xla/stream_executor/platform/default/dso_loader.cc:64] Could not load dynamic library 'libnvinfer.so.7'; dlerror: libnvinfer.so.7: cannot open shared object file: No such file or directory\n",
      "2023-04-13 15:45:49.098227: W tensorflow/compiler/xla/stream_executor/platform/default/dso_loader.cc:64] Could not load dynamic library 'libnvinfer_plugin.so.7'; dlerror: libnvinfer_plugin.so.7: cannot open shared object file: No such file or directory\n",
      "2023-04-13 15:45:49.098232: W tensorflow/compiler/tf2tensorrt/utils/py_utils.cc:38] TF-TRT Warning: Cannot dlopen some TensorRT libraries. If you would like to use Nvidia GPU with TensorRT, please make sure the missing libraries mentioned above are installed properly.\n"
     ]
    }
   ],
   "source": [
    "import numpy as np\n",
    "import tensorflow as tf\n",
    "from sklearn.model_selection import train_test_split\n",
    "from sklearn.preprocessing import StandardScaler"
   ]
  },
  {
   "cell_type": "code",
   "execution_count": 5,
   "metadata": {},
   "outputs": [
    {
     "name": "stdout",
     "output_type": "stream",
     "text": [
      "(112523, 36)\n"
     ]
    }
   ],
   "source": [
    "# Split the data into training and test sets\n",
    "X = df.drop('CLASS', axis=1).values\n",
    "y = df['CLASS'].values\n",
    "X_train, X_test, y_train, y_test = train_test_split(X, y, test_size=0.2, random_state=42)\n",
    "# Standardize the data\n",
    "scaler = StandardScaler()\n",
    "X_train = scaler.fit_transform(X_train)\n",
    "X_test = scaler.transform(X_test)\n",
    "\n",
    "# Reshape the data for input into the CNN\n",
    "X_train = np.reshape(X_train, (X_train.shape[0], X_train.shape[1]))\n",
    "X_test = np.reshape(X_test, (X_test.shape[0], X_test.shape[1]))\n",
    "print(X_train.shape)\n"
   ]
  },
  {
   "attachments": {},
   "cell_type": "markdown",
   "metadata": {},
   "source": [
    "## Build & Train Model"
   ]
  },
  {
   "cell_type": "code",
   "execution_count": 6,
   "metadata": {},
   "outputs": [
    {
     "name": "stdout",
     "output_type": "stream",
     "text": [
      "Epoch 1/10\n"
     ]
    },
    {
     "name": "stderr",
     "output_type": "stream",
     "text": [
      "2023-04-13 15:45:58.000338: I tensorflow/compiler/xla/stream_executor/cuda/cuda_gpu_executor.cc:981] successful NUMA node read from SysFS had negative value (-1), but there must be at least one NUMA node, so returning NUMA node zero\n",
      "2023-04-13 15:45:58.000523: W tensorflow/compiler/xla/stream_executor/platform/default/dso_loader.cc:64] Could not load dynamic library 'libcudart.so.11.0'; dlerror: libcudart.so.11.0: cannot open shared object file: No such file or directory\n",
      "2023-04-13 15:45:58.000557: W tensorflow/compiler/xla/stream_executor/platform/default/dso_loader.cc:64] Could not load dynamic library 'libcublas.so.11'; dlerror: libcublas.so.11: cannot open shared object file: No such file or directory\n",
      "2023-04-13 15:45:58.000585: W tensorflow/compiler/xla/stream_executor/platform/default/dso_loader.cc:64] Could not load dynamic library 'libcublasLt.so.11'; dlerror: libcublasLt.so.11: cannot open shared object file: No such file or directory\n",
      "2023-04-13 15:45:58.000612: W tensorflow/compiler/xla/stream_executor/platform/default/dso_loader.cc:64] Could not load dynamic library 'libcufft.so.10'; dlerror: libcufft.so.10: cannot open shared object file: No such file or directory\n",
      "2023-04-13 15:45:58.000639: W tensorflow/compiler/xla/stream_executor/platform/default/dso_loader.cc:64] Could not load dynamic library 'libcurand.so.10'; dlerror: libcurand.so.10: cannot open shared object file: No such file or directory\n",
      "2023-04-13 15:45:58.000666: W tensorflow/compiler/xla/stream_executor/platform/default/dso_loader.cc:64] Could not load dynamic library 'libcusolver.so.11'; dlerror: libcusolver.so.11: cannot open shared object file: No such file or directory\n",
      "2023-04-13 15:45:58.000694: W tensorflow/compiler/xla/stream_executor/platform/default/dso_loader.cc:64] Could not load dynamic library 'libcusparse.so.11'; dlerror: libcusparse.so.11: cannot open shared object file: No such file or directory\n",
      "2023-04-13 15:45:58.000790: W tensorflow/core/common_runtime/gpu/gpu_device.cc:1934] Cannot dlopen some GPU libraries. Please make sure the missing libraries mentioned above are installed properly if you would like to use GPU. Follow the guide at https://www.tensorflow.org/install/gpu for how to download and setup the required libraries for your platform.\n",
      "Skipping registering GPU devices...\n",
      "2023-04-13 15:45:58.001425: I tensorflow/core/platform/cpu_feature_guard.cc:193] This TensorFlow binary is optimized with oneAPI Deep Neural Network Library (oneDNN) to use the following CPU instructions in performance-critical operations:  AVX2 FMA\n",
      "To enable them in other operations, rebuild TensorFlow with the appropriate compiler flags.\n"
     ]
    },
    {
     "name": "stdout",
     "output_type": "stream",
     "text": [
      "3517/3517 [==============================] - 12s 3ms/step - loss: 0.2307 - accuracy: 0.9159\n",
      "Epoch 2/10\n",
      "3517/3517 [==============================] - 11s 3ms/step - loss: 0.1827 - accuracy: 0.9400\n",
      "Epoch 3/10\n",
      "3517/3517 [==============================] - 11s 3ms/step - loss: 0.1691 - accuracy: 0.9454\n",
      "Epoch 4/10\n",
      "3517/3517 [==============================] - 11s 3ms/step - loss: 0.1621 - accuracy: 0.9482\n",
      "Epoch 5/10\n",
      "3517/3517 [==============================] - 11s 3ms/step - loss: 0.1563 - accuracy: 0.9502\n",
      "Epoch 6/10\n",
      "3517/3517 [==============================] - 11s 3ms/step - loss: 0.1534 - accuracy: 0.9508\n",
      "Epoch 7/10\n",
      "3517/3517 [==============================] - 11s 3ms/step - loss: 0.1497 - accuracy: 0.9521\n",
      "Epoch 8/10\n",
      "3517/3517 [==============================] - 11s 3ms/step - loss: 0.1470 - accuracy: 0.9535\n",
      "Epoch 9/10\n",
      "3517/3517 [==============================] - 11s 3ms/step - loss: 0.1443 - accuracy: 0.9540\n",
      "Epoch 10/10\n",
      "3517/3517 [==============================] - 11s 3ms/step - loss: 0.1424 - accuracy: 0.9551\n"
     ]
    },
    {
     "data": {
      "text/plain": [
       "<keras.callbacks.History at 0x7f46e43f84f0>"
      ]
     },
     "execution_count": 6,
     "metadata": {},
     "output_type": "execute_result"
    }
   ],
   "source": [
    "# Build the deep CNN model\n",
    "model = tf.keras.Sequential([\n",
    "    tf.keras.layers.Conv1D(32, 2, activation='relu', input_shape=(X_train.shape[1], 1)),\n",
    "    tf.keras.layers.MaxPool1D(2),\n",
    "    tf.keras.layers.Flatten(),\n",
    "    tf.keras.layers.Dense(64, activation='relu'),\n",
    "    tf.keras.layers.Dense(1, activation='sigmoid', name='isFraud')\n",
    "])\n",
    "\n",
    "# Compile the model\n",
    "model.compile(optimizer='adam', loss='binary_crossentropy', metrics=['accuracy'])\n",
    "\n",
    "\n",
    "# Train the model\n",
    "model.fit(X_train, y_train, epochs=10, batch_size=32)"
   ]
  },
  {
   "attachments": {},
   "cell_type": "markdown",
   "metadata": {},
   "source": [
    "## Evaluate Model"
   ]
  },
  {
   "cell_type": "code",
   "execution_count": 7,
   "metadata": {},
   "outputs": [
    {
     "name": "stdout",
     "output_type": "stream",
     "text": [
      "880/880 [==============================] - 2s 2ms/step - loss: 0.1372 - accuracy: 0.9586\n",
      "Test Accuracy: 0.9586221575737\n"
     ]
    }
   ],
   "source": [
    "# Evaluate the model on the test data\n",
    "test_loss, test_acc = model.evaluate(X_test, y_test)\n",
    "print('Test Accuracy:', test_acc)"
   ]
  },
  {
   "attachments": {},
   "cell_type": "markdown",
   "metadata": {},
   "source": [
    "## Save CNN Model To HDF5 Format"
   ]
  },
  {
   "cell_type": "code",
   "execution_count": 8,
   "metadata": {},
   "outputs": [],
   "source": [
    "model.save(\"models/cnn.h5\")"
   ]
  },
  {
   "attachments": {},
   "cell_type": "markdown",
   "metadata": {},
   "source": [
    "## Save CNN Model To ONNX Format"
   ]
  },
  {
   "cell_type": "code",
   "execution_count": 9,
   "metadata": {},
   "outputs": [
    {
     "name": "stderr",
     "output_type": "stream",
     "text": [
      "2023-04-13 15:48:03.533726: I tensorflow/compiler/xla/stream_executor/cuda/cuda_gpu_executor.cc:981] successful NUMA node read from SysFS had negative value (-1), but there must be at least one NUMA node, so returning NUMA node zero\n",
      "2023-04-13 15:48:03.533867: I tensorflow/core/grappler/devices.cc:66] Number of eligible GPUs (core count >= 8, compute capability >= 0.0): 1\n",
      "2023-04-13 15:48:03.534107: I tensorflow/core/grappler/clusters/single_machine.cc:358] Starting new session\n",
      "2023-04-13 15:48:03.534880: I tensorflow/compiler/xla/stream_executor/cuda/cuda_gpu_executor.cc:981] successful NUMA node read from SysFS had negative value (-1), but there must be at least one NUMA node, so returning NUMA node zero\n",
      "2023-04-13 15:48:03.535124: W tensorflow/core/common_runtime/gpu/gpu_device.cc:1934] Cannot dlopen some GPU libraries. Please make sure the missing libraries mentioned above are installed properly if you would like to use GPU. Follow the guide at https://www.tensorflow.org/install/gpu for how to download and setup the required libraries for your platform.\n",
      "Skipping registering GPU devices...\n",
      "2023-04-13 15:48:03.674861: I tensorflow/compiler/xla/stream_executor/cuda/cuda_gpu_executor.cc:981] successful NUMA node read from SysFS had negative value (-1), but there must be at least one NUMA node, so returning NUMA node zero\n",
      "2023-04-13 15:48:03.675099: I tensorflow/core/grappler/devices.cc:66] Number of eligible GPUs (core count >= 8, compute capability >= 0.0): 1\n",
      "2023-04-13 15:48:03.675265: I tensorflow/core/grappler/clusters/single_machine.cc:358] Starting new session\n",
      "2023-04-13 15:48:03.675808: I tensorflow/compiler/xla/stream_executor/cuda/cuda_gpu_executor.cc:981] successful NUMA node read from SysFS had negative value (-1), but there must be at least one NUMA node, so returning NUMA node zero\n",
      "2023-04-13 15:48:03.675927: W tensorflow/core/common_runtime/gpu/gpu_device.cc:1934] Cannot dlopen some GPU libraries. Please make sure the missing libraries mentioned above are installed properly if you would like to use GPU. Follow the guide at https://www.tensorflow.org/install/gpu for how to download and setup the required libraries for your platform.\n",
      "Skipping registering GPU devices...\n"
     ]
    }
   ],
   "source": [
    "import tensorflow as tf\n",
    "import tf2onnx\n",
    "import onnx\n",
    "\n",
    "loaded_model = tf.keras.models.load_model('models/cnn.h5')\n",
    "onnx_model, _ = tf2onnx.convert.from_keras(loaded_model)\n",
    "onnx.save(onnx_model, \"models/cnn.onnx\")\n",
    "onnx.save(onnx_model, root + \"SpringAPI/src/main/resources/models/cnn.onnx\")\n"
   ]
  },
  {
   "attachments": {},
   "cell_type": "markdown",
   "metadata": {},
   "source": [
    "## Load Model And Test A Prediction"
   ]
  },
  {
   "cell_type": "code",
   "execution_count": 12,
   "metadata": {},
   "outputs": [
    {
     "name": "stdout",
     "output_type": "stream",
     "text": [
      "1/1 [==============================] - 0s 51ms/step\n",
      "1/1 [==============================] - 0s 19ms/step\n",
      "Result 1: False\n",
      "Result 2: True\n"
     ]
    }
   ],
   "source": [
    "test=X_test[0]\n",
    "test1=X_test[1000]\n",
    "\n",
    "to_predict1 = np.array(test).reshape(1,X_test.shape[1])\n",
    "to_predict2 = np.array(test1).reshape(1,X_test.shape[1])\n",
    "\n",
    "loaded_model = tf.keras.models.load_model(\"models/cnn.h5\")\n",
    "result1 = loaded_model.predict(to_predict1)\n",
    "result2 = loaded_model.predict(to_predict2)\n",
    "print(\"Result 1: \" + str(result1[0][0] > 0.5))\n",
    "print(\"Result 2: \" + str(result2[0][0] > 0.5))"
   ]
  }
 ],
 "metadata": {
  "kernelspec": {
   "display_name": "base",
   "language": "python",
   "name": "python3"
  },
  "language_info": {
   "codemirror_mode": {
    "name": "ipython",
    "version": 3
   },
   "file_extension": ".py",
   "mimetype": "text/x-python",
   "name": "python",
   "nbconvert_exporter": "python",
   "pygments_lexer": "ipython3",
   "version": "3.8.12"
  },
  "orig_nbformat": 4,
  "vscode": {
   "interpreter": {
    "hash": "cfdbd8c9048ab92b077343f235d6ccc68a76f62a5f525420b39b88fd49e8f01a"
   }
  }
 },
 "nbformat": 4,
 "nbformat_minor": 2
}
