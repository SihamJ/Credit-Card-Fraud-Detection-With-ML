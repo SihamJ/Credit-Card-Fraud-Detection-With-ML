{
 "cells": [
  {
   "cell_type": "code",
   "execution_count": null,
   "metadata": {},
   "outputs": [],
   "source": [
    "import pandas as pd # data processing\n",
    "import numpy as np # working with arrays\n",
    "import matplotlib.pyplot as plt # visualization\n",
    "import seaborn as sns\n",
    "import pickle\n",
    "from sklearn.model_selection import train_test_split\n",
    "from sklearn.tree import DecisionTreeClassifier\n",
    "from sklearn.metrics import accuracy_score\n",
    "from sklearn.metrics import classification_report \n",
    "from sklearn.metrics import precision_score, recall_score\n",
    "from sklearn.metrics import f1_score, matthews_corrcoef\n",
    "from sklearn.metrics import confusion_matrix"
   ]
  },
  {
   "cell_type": "code",
   "execution_count": 2,
   "metadata": {},
   "outputs": [
    {
     "data": {
      "text/html": [
       "<div>\n",
       "<style scoped>\n",
       "    .dataframe tbody tr th:only-of-type {\n",
       "        vertical-align: middle;\n",
       "    }\n",
       "\n",
       "    .dataframe tbody tr th {\n",
       "        vertical-align: top;\n",
       "    }\n",
       "\n",
       "    .dataframe thead th {\n",
       "        text-align: right;\n",
       "    }\n",
       "</style>\n",
       "<table border=\"1\" class=\"dataframe\">\n",
       "  <thead>\n",
       "    <tr style=\"text-align: right;\">\n",
       "      <th></th>\n",
       "      <th>V1</th>\n",
       "      <th>V2</th>\n",
       "      <th>V3</th>\n",
       "      <th>V4</th>\n",
       "      <th>V9</th>\n",
       "      <th>V10</th>\n",
       "      <th>V12</th>\n",
       "      <th>V13</th>\n",
       "      <th>V16</th>\n",
       "      <th>V19</th>\n",
       "      <th>...</th>\n",
       "      <th>V7_month</th>\n",
       "      <th>V7_day</th>\n",
       "      <th>V23_month</th>\n",
       "      <th>V23_day</th>\n",
       "      <th>V8_month</th>\n",
       "      <th>V8_day</th>\n",
       "      <th>V6_year</th>\n",
       "      <th>V7_year</th>\n",
       "      <th>V23_year</th>\n",
       "      <th>V8_year</th>\n",
       "    </tr>\n",
       "  </thead>\n",
       "  <tbody>\n",
       "    <tr>\n",
       "      <th>0</th>\n",
       "      <td>4</td>\n",
       "      <td>2</td>\n",
       "      <td>23</td>\n",
       "      <td>1</td>\n",
       "      <td>410878</td>\n",
       "      <td>715848.0</td>\n",
       "      <td>19</td>\n",
       "      <td>2976</td>\n",
       "      <td>44</td>\n",
       "      <td>20339</td>\n",
       "      <td>...</td>\n",
       "      <td>0.654861</td>\n",
       "      <td>-1</td>\n",
       "      <td>-1.0</td>\n",
       "      <td>-0.5</td>\n",
       "      <td>0.959493</td>\n",
       "      <td>-0.978148</td>\n",
       "      <td>2009</td>\n",
       "      <td>2011</td>\n",
       "      <td>2009</td>\n",
       "      <td>2009</td>\n",
       "    </tr>\n",
       "    <tr>\n",
       "      <th>1</th>\n",
       "      <td>4</td>\n",
       "      <td>2</td>\n",
       "      <td>23</td>\n",
       "      <td>1</td>\n",
       "      <td>187304</td>\n",
       "      <td>252113.0</td>\n",
       "      <td>19</td>\n",
       "      <td>2976</td>\n",
       "      <td>44</td>\n",
       "      <td>1339</td>\n",
       "      <td>...</td>\n",
       "      <td>0.959493</td>\n",
       "      <td>-1</td>\n",
       "      <td>-1.0</td>\n",
       "      <td>-0.5</td>\n",
       "      <td>0.959493</td>\n",
       "      <td>-0.500000</td>\n",
       "      <td>2009</td>\n",
       "      <td>2011</td>\n",
       "      <td>2009</td>\n",
       "      <td>2009</td>\n",
       "    </tr>\n",
       "  </tbody>\n",
       "</table>\n",
       "<p>2 rows × 29 columns</p>\n",
       "</div>"
      ],
      "text/plain": [
       "   V1  V2  V3  V4      V9       V10  V12   V13  V16    V19  ...  V7_month  \\\n",
       "0   4   2  23   1  410878  715848.0   19  2976   44  20339  ...  0.654861   \n",
       "1   4   2  23   1  187304  252113.0   19  2976   44   1339  ...  0.959493   \n",
       "\n",
       "   V7_day  V23_month  V23_day  V8_month    V8_day  V6_year  V7_year  V23_year  \\\n",
       "0      -1       -1.0     -0.5  0.959493 -0.978148     2009     2011      2009   \n",
       "1      -1       -1.0     -0.5  0.959493 -0.500000     2009     2011      2009   \n",
       "\n",
       "   V8_year  \n",
       "0     2009  \n",
       "1     2009  \n",
       "\n",
       "[2 rows x 29 columns]"
      ]
     },
     "execution_count": 2,
     "metadata": {},
     "output_type": "execute_result"
    }
   ],
   "source": [
    "# Load the credit card transaction data \n",
    "df = pd.read_excel(r'C:\\Users\\KABYADE\\Desktop\\Fraud_ML\\dataset\\preprocessing_data.xlsx')\n",
    "df.head(2)"
   ]
  },
  {
   "cell_type": "code",
   "execution_count": null,
   "metadata": {},
   "outputs": [],
   "source": [
    "list=['V1','V2','V3','V4','V12','V13','V16','V19','V21','V22','V25' ,'V26','V27'  ]\n",
    "df_b=df.filter(list)\n",
    "\n",
    "for d in df_b:\n",
    "    print(d,\" \",df_b[d].unique())"
   ]
  },
  {
   "cell_type": "code",
   "execution_count": 6,
   "metadata": {},
   "outputs": [],
   "source": [
    "fraud=df[df.CLASS==1]"
   ]
  },
  {
   "cell_type": "code",
   "execution_count": 12,
   "metadata": {},
   "outputs": [
    {
     "data": {
      "text/html": [
       "<div>\n",
       "<style scoped>\n",
       "    .dataframe tbody tr th:only-of-type {\n",
       "        vertical-align: middle;\n",
       "    }\n",
       "\n",
       "    .dataframe tbody tr th {\n",
       "        vertical-align: top;\n",
       "    }\n",
       "\n",
       "    .dataframe thead th {\n",
       "        text-align: right;\n",
       "    }\n",
       "</style>\n",
       "<table border=\"1\" class=\"dataframe\">\n",
       "  <thead>\n",
       "    <tr style=\"text-align: right;\">\n",
       "      <th></th>\n",
       "      <th>V1</th>\n",
       "      <th>V2</th>\n",
       "      <th>V3</th>\n",
       "      <th>V4</th>\n",
       "      <th>V9</th>\n",
       "      <th>V10</th>\n",
       "      <th>V12</th>\n",
       "      <th>V13</th>\n",
       "      <th>V16</th>\n",
       "      <th>V19</th>\n",
       "      <th>...</th>\n",
       "      <th>V7_month</th>\n",
       "      <th>V7_day</th>\n",
       "      <th>V23_month</th>\n",
       "      <th>V23_day</th>\n",
       "      <th>V8_month</th>\n",
       "      <th>V8_day</th>\n",
       "      <th>V6_year</th>\n",
       "      <th>V7_year</th>\n",
       "      <th>V23_year</th>\n",
       "      <th>V8_year</th>\n",
       "    </tr>\n",
       "  </thead>\n",
       "  <tbody>\n",
       "    <tr>\n",
       "      <th>70327</th>\n",
       "      <td>1</td>\n",
       "      <td>1</td>\n",
       "      <td>23</td>\n",
       "      <td>1</td>\n",
       "      <td>2000</td>\n",
       "      <td>132.79608</td>\n",
       "      <td>19</td>\n",
       "      <td>2976</td>\n",
       "      <td>60</td>\n",
       "      <td>36689</td>\n",
       "      <td>...</td>\n",
       "      <td>0.959493</td>\n",
       "      <td>-1</td>\n",
       "      <td>-1.0</td>\n",
       "      <td>-0.5</td>\n",
       "      <td>0.959493</td>\n",
       "      <td>0.5</td>\n",
       "      <td>2009</td>\n",
       "      <td>2011</td>\n",
       "      <td>2009</td>\n",
       "      <td>2009</td>\n",
       "    </tr>\n",
       "  </tbody>\n",
       "</table>\n",
       "<p>1 rows × 29 columns</p>\n",
       "</div>"
      ],
      "text/plain": [
       "       V1  V2  V3  V4    V9        V10  V12   V13  V16    V19  ...  V7_month  \\\n",
       "70327   1   1  23   1  2000  132.79608   19  2976   60  36689  ...  0.959493   \n",
       "\n",
       "       V7_day  V23_month  V23_day  V8_month  V8_day  V6_year  V7_year  \\\n",
       "70327      -1       -1.0     -0.5  0.959493     0.5     2009     2011   \n",
       "\n",
       "       V23_year  V8_year  \n",
       "70327      2009     2009  \n",
       "\n",
       "[1 rows x 29 columns]"
      ]
     },
     "execution_count": 12,
     "metadata": {},
     "output_type": "execute_result"
    }
   ],
   "source": [
    "fraud.head(1)"
   ]
  },
  {
   "cell_type": "code",
   "execution_count": null,
   "metadata": {},
   "outputs": [],
   "source": [
    "d=fraud.head(1)\n",
    "\n",
    "for i in d:\n",
    "    print(d[i])"
   ]
  },
  {
   "cell_type": "code",
   "execution_count": null,
   "metadata": {},
   "outputs": [],
   "source": [
    "fraud=[  \n",
    "   1,  1,  23,  1,  2000,  132.79608,  19,  2976,  60,  36689,  2,  0,  2000,  1,  384,\n",
    "   6,  0.959493,  0.959493, -1.0, -0.5,  0.959493,  0.5,  2009,  2011,  2009,  2009\n",
    "]\n",
    "\n",
    "normal=[ \n",
    "  4,  2,  23,  1,  410878,  715848.0,  19,  2976,  44,  20339,  3,  1,  621524,  1,  \n",
    "  384,  4,  0.654861,  0.654861, -1.0, -0.5,  0.959493, -0.978148,  2009,  2011,  2009,  2009\n",
    "]\n"
   ]
  },
  {
   "cell_type": "code",
   "execution_count": null,
   "metadata": {},
   "outputs": [],
   "source": [
    "def load_data():\n",
    "    df = pd.read_excel(r'C:\\Users\\KABYADE\\Desktop\\Fraud_ML\\dataset\\preprocessing_data.xlsx')\n",
    "    df.drop(['V7_day','V6_day'], axis=1, inplace=True)\n",
    "    X = df.drop(\"CLASS\", axis=1)\n",
    "    y = df[\"CLASS\"]\n",
    "    X = X.values\n",
    "    y = y.values\n",
    "    return X,y\n",
    "\n",
    "def split_data(X,y):\n",
    "    X_train, X_test, y_train, y_test = train_test_split(X, y, test_size=0.2, random_state=42)\n",
    "    return X_train, X_test, y_train, y_test\n",
    "\n",
    "def save_model(model,name):\n",
    "    pickle.dump(model, open(\"./models/\"+name+\".pkl\",\"wb\"))\n",
    "\n",
    "def print_metrics(y_test,y_pred):\n",
    "    n_errors = (y_pred != y_test).sum()\n",
    "    print(\"The model used is Decision Tree  classifier\")\n",
    "\n",
    "    acc = accuracy_score(y_test, y_pred)\n",
    "    print(\"The accuracy is {}\".format(acc))\n",
    "    \n",
    "    prec = precision_score(y_test, y_pred)\n",
    "    print(\"The precision is {}\".format(prec))\n",
    "    \n",
    "    rec = recall_score(y_test, y_pred)\n",
    "    print(\"The recall is {}\".format(rec))\n",
    "    \n",
    "    f1 = f1_score(y_test, y_pred)\n",
    "    print(\"The F1-Score is {}\".format(f1))\n",
    "\n",
    "def confusion_matr(y_test,y_pred):\n",
    "    # printing the confusion matrix\n",
    "    LABELS = ['Normal', 'Fraud']\n",
    "    conf_matrix = confusion_matrix(y_test, y_pred)\n",
    "    plt.figure(figsize =(8, 4))\n",
    "    sns.heatmap(conf_matrix, xticklabels = LABELS,yticklabels = LABELS, annot = True, fmt =\"d\")\n",
    "    plt.title(\"Confusion matrix\")\n",
    "    plt.ylabel('True class')\n",
    "    plt.xlabel('Predicted class')\n",
    "    plt.show()\n",
    "\n",
    "def d_tree():\n",
    "\n",
    "    X,y=load_data()\n",
    "    X_train, X_test, y_train, y_test=split_data(X,y)\n",
    "    clf = DecisionTreeClassifier()\n",
    "    clf.fit(X_train, y_train)\n",
    "\n",
    "    y_pred = clf.predict(X_test)\n",
    "    print_metrics(y_test,y_pred)\n",
    "    confusion_matr(y_test,y_pred)\n",
    "    \n",
    "    return clf"
   ]
  },
  {
   "cell_type": "code",
   "execution_count": 35,
   "metadata": {},
   "outputs": [],
   "source": [
    "#REMOVE due to fixed value prb\n",
    "df.drop(['V7_day','V6_day'], axis=1, inplace=True)"
   ]
  },
  {
   "cell_type": "code",
   "execution_count": 36,
   "metadata": {},
   "outputs": [],
   "source": [
    "# Split the data into features and target variable\n",
    "X = df.drop(\"CLASS\", axis=1)\n",
    "y = df[\"CLASS\"]\n",
    "\n",
    "X = X.values\n",
    "y = y.values"
   ]
  },
  {
   "cell_type": "code",
   "execution_count": 37,
   "metadata": {},
   "outputs": [],
   "source": [
    "# Split the data into training and testing sets\n",
    "X_train, X_test, y_train, y_test = train_test_split(X, y, test_size=0.2, random_state=42)"
   ]
  },
  {
   "cell_type": "code",
   "execution_count": null,
   "metadata": {},
   "outputs": [],
   "source": [
    "# Train the decision tree model\n",
    "clf = DecisionTreeClassifier()\n",
    "clf.fit(X_train, y_train)"
   ]
  },
  {
   "cell_type": "code",
   "execution_count": 39,
   "metadata": {},
   "outputs": [
    {
     "name": "stdout",
     "output_type": "stream",
     "text": [
      "Accuracy: 0.94436742383847\n"
     ]
    }
   ],
   "source": [
    "# Make predictions on the test data\n",
    "y_pred = clf.predict(X_test)\n",
    "\n",
    "# Evaluate the model accuracy\n",
    "accuracy = accuracy_score(y_test, y_pred)\n",
    "print(\"Accuracy:\", accuracy)"
   ]
  },
  {
   "cell_type": "code",
   "execution_count": 44,
   "metadata": {},
   "outputs": [
    {
     "name": "stdout",
     "output_type": "stream",
     "text": [
      "The model used is Decision Tree  classifier\n",
      "The accuracy is 0.94436742383847\n",
      "The precision is 0.9377768403290445\n",
      "The recall is 0.9514909402197175\n",
      "The F1-Score is 0.9445841152933678\n"
     ]
    }
   ],
   "source": [
    "n_errors = (y_pred != y_test).sum()\n",
    "print(\"The model used is Decision Tree  classifier\")\n",
    "  \n",
    "acc = accuracy_score(y_test, y_pred)\n",
    "print(\"The accuracy is {}\".format(acc))\n",
    "  \n",
    "prec = precision_score(y_test, y_pred)\n",
    "print(\"The precision is {}\".format(prec))\n",
    "  \n",
    "rec = recall_score(y_test, y_pred)\n",
    "print(\"The recall is {}\".format(rec))\n",
    "  \n",
    "f1 = f1_score(y_test, y_pred)\n",
    "print(\"The F1-Score is {}\".format(f1))\n",
    "  "
   ]
  },
  {
   "cell_type": "code",
   "execution_count": null,
   "metadata": {},
   "outputs": [],
   "source": [
    "# printing the confusion matrix\n",
    "LABELS = ['Normal', 'Fraud']\n",
    "conf_matrix = confusion_matrix(y_test, y_pred)\n",
    "plt.figure(figsize =(8, 4))\n",
    "sns.heatmap(conf_matrix, xticklabels = LABELS, \n",
    "            yticklabels = LABELS, annot = True, fmt =\"d\");\n",
    "plt.title(\"Confusion matrix\")\n",
    "plt.ylabel('True class')\n",
    "plt.xlabel('Predicted class')\n",
    "plt.show()"
   ]
  },
  {
   "cell_type": "code",
   "execution_count": 42,
   "metadata": {},
   "outputs": [],
   "source": [
    "import pickle\n",
    "\n",
    "#serializing our model to a file called model.pkl\n",
    "pickle.dump(clf, open(\"./models/D_Tree.pkl\",\"wb\"))"
   ]
  },
  {
   "cell_type": "code",
   "execution_count": null,
   "metadata": {},
   "outputs": [],
   "source": []
  },
  {
   "cell_type": "code",
   "execution_count": 29,
   "metadata": {},
   "outputs": [
    {
     "data": {
      "text/plain": [
       "array([0], dtype=int64)"
      ]
     },
     "execution_count": 29,
     "metadata": {},
     "output_type": "execute_result"
    }
   ],
   "source": [
    "import joblib\n",
    "# save\n",
    "joblib.dump(clf, \"./models/tree_decision.joblib\")\n",
    "\n",
    "# load, no need to initialize the loaded_rf\n",
    "loaded_rf = joblib.load(\"./models/tree_decision.joblib\")\n",
    "\n",
    "test1=[139,265803.35,0.00,0.00,751669.39,1017472.74,0,1,0,0,0 ,0 ]\n",
    "to_predict = np.array(test1).reshape(1,12)\n",
    "\n",
    "loaded_rf.predict(to_predict) "
   ]
  },
  {
   "cell_type": "code",
   "execution_count": null,
   "metadata": {},
   "outputs": [],
   "source": [
    "import pandas as pd\n",
    "from sklearn.model_selection import train_test_split\n",
    "from sklearn.tree import DecisionTreeClassifier\n",
    "from sklearn.metrics import accuracy_score\n",
    "\n",
    "# Load the credit card transaction data\n",
    "df = pd.read_csv(\"credit_card_transactions.csv\")\n",
    "\n",
    "# Split the data into features and target variable\n",
    "X = df.drop(\"is_fraud\", axis=1)\n",
    "y = df[\"is_fraud\"]\n",
    "\n",
    "# Split the data into training and testing sets\n",
    "X_train, X_test, y_train, y_test = train_test_split(X, y, test_size=0.2, random_state=42)\n",
    "\n",
    "# Train the decision tree model\n",
    "clf = DecisionTreeClassifier()\n",
    "clf.fit(X_train, y_train)\n",
    "\n",
    "# Make predictions on the test data\n",
    "y_pred = clf.predict(X_test)\n",
    "\n",
    "# Evaluate the model accuracy\n",
    "accuracy = accuracy_score(y_test, y_pred)\n",
    "print(\"Accuracy:\", accuracy)\n"
   ]
  }
 ],
 "metadata": {
  "kernelspec": {
   "display_name": "Python 3",
   "language": "python",
   "name": "python3"
  },
  "language_info": {
   "codemirror_mode": {
    "name": "ipython",
    "version": 3
   },
   "file_extension": ".py",
   "mimetype": "text/x-python",
   "name": "python",
   "nbconvert_exporter": "python",
   "pygments_lexer": "ipython3",
   "version": "3.10.11"
  },
  "orig_nbformat": 4,
  "vscode": {
   "interpreter": {
    "hash": "9dce4b41c3dab15c9b172253d5926c6876aa54e726307ae26a963b8959ab689a"
   }
  }
 },
 "nbformat": 4,
 "nbformat_minor": 2
}
