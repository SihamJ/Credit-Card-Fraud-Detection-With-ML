{
 "cells": [
  {
   "cell_type": "code",
   "execution_count": 1,
   "metadata": {},
   "outputs": [],
   "source": [
    "import pickle\n",
    "import pandas as pd\n",
    "import numpy as np\n",
    "from sklearn.preprocessing import MinMaxScaler\n",
    "import math"
   ]
  },
  {
   "attachments": {},
   "cell_type": "markdown",
   "metadata": {},
   "source": [
    "## function"
   ]
  },
  {
   "cell_type": "code",
   "execution_count": 21,
   "metadata": {},
   "outputs": [],
   "source": [
    "def preprocess(row):\n",
    "\n",
    "    root = \"/home/sihartist/Desktop/\"\n",
    "    \n",
    "    encoder_path = \"fraud-detection/preprocessing/dict_all.obj\"\n",
    "    scalerfile = 'fraud-detection/preprocessing/scaler.sav'\n",
    "\n",
    "    # loading scaler\n",
    "    min_max_scaler = pickle.load(open(root + scalerfile, 'rb'))\n",
    "\n",
    "    # loading encoder dictionary\n",
    "    file = open(root + encoder_path,'rb')\n",
    "    dict_encoder = pickle.load(file)\n",
    "    file.close()\n",
    "\n",
    "    # treating nan values\n",
    "    row.drop(['V11','V14','V20','V5','V17','V18','V15','CLASS'], inplace=True)\n",
    "\n",
    "    # updating types\n",
    "    row['V10'] = float(row['V10'])\n",
    "    row['V9'] = float(row['V9'])\n",
    "    row['V24'] = float(row['V24'])\n",
    "\n",
    "    row['V23'] = pd.to_datetime(row['V23'],format=\"%d/%m/%Y\")\n",
    "    row['V8'] = pd.to_datetime(row['V8'],format=\"%d/%m/%Y %H:%M:%S\")\n",
    "\n",
    "    row['V6'] = pd.to_datetime(row['V6'],format=\"%d/%m/%Y\")\n",
    "    row['V7'] = pd.to_datetime(row['V7'],format=\"%d/%m/%Y\")\n",
    "\n",
    "    # preprocess dates\n",
    "    date_cols = ['V6','V7','V23','V8']\n",
    "    years = {}\n",
    "    date_rows = {}\n",
    "\n",
    "    for l in date_cols:\n",
    "        date_rows[l+'_month'] = row[l].month\n",
    "        date_rows[l+'_day'] = row[l].day\n",
    "        years[l+'_year'] = row[l].year\n",
    "        row.pop(l)\n",
    "\n",
    "    cos_cols = list(date_rows.keys())\n",
    "    sin_cols = list(date_rows.keys())\n",
    "\n",
    "\n",
    "    for i in range(len(cos_cols)):\n",
    "        cos_cols[i] = 'COS(' + cos_cols[i] + ')'\n",
    "        sin_cols[i] = 'SIN(' + sin_cols[i] + ')'\n",
    "\n",
    "    # Normalize date cols\n",
    "    date_row_scaled = min_max_scaler.transform(np.array(list(date_rows.values())).reshape(-1,8))\n",
    "    date_row_scaled = date_row_scaled.reshape(8)\n",
    "\n",
    "    cos_row_scaled = dict(zip(cos_cols, date_row_scaled))\n",
    "    sin_row_scaled = dict(zip(sin_cols, date_row_scaled))\n",
    "\n",
    "    date_row_cos = pd.Series(cos_row_scaled)\n",
    "    date_row_sin = pd.Series(sin_row_scaled)\n",
    "    date_row_cos = date_row_cos.apply(lambda x: math.cos(x))\n",
    "    date_row_sin = date_row_sin.apply(lambda x: math.sin(x))\n",
    "\n",
    "    year_row = pd.Series(years)\n",
    "\n",
    "    new_row = pd.concat([row, date_row_cos, date_row_sin, year_row], axis=0)\n",
    "\n",
    "    # encoding\n",
    "    for col in dict_encoder.keys():\n",
    "        if(new_row[col] in dict_encoder[col].keys()):\n",
    "            new_row.replace(dict_encoder[col], inplace=True)\n",
    "        else:\n",
    "            new_row[col] = -1\n",
    "\n",
    "    return new_row"
   ]
  },
  {
   "cell_type": "code",
   "execution_count": 3,
   "metadata": {},
   "outputs": [],
   "source": [
    "root = '/home/sihartist/Desktop/'\n",
    "path = root + 'fraud-detection/dataset/final.xlsx'"
   ]
  },
  {
   "cell_type": "code",
   "execution_count": 17,
   "metadata": {},
   "outputs": [],
   "source": [
    "df = pd.read_excel(path, dtype = str)"
   ]
  },
  {
   "cell_type": "code",
   "execution_count": 58,
   "metadata": {},
   "outputs": [],
   "source": [
    "row = df.iloc[1]\n",
    "row['V10'] = 100.0\n",
    "row['V9'] = 100.0\n",
    "row['V24'] = 100.0\n",
    "file = open( root + \"fraud-detection/dataset/row.obj\",\"wb\")\n",
    "pickle.dump(row, file)\n",
    "file.close()"
   ]
  },
  {
   "cell_type": "code",
   "execution_count": 54,
   "metadata": {},
   "outputs": [],
   "source": [
    "row = pickle.load(open(root + \"fraud-detection/dataset/row.obj\", \"rb\"))"
   ]
  },
  {
   "cell_type": "code",
   "execution_count": 55,
   "metadata": {},
   "outputs": [
    {
     "data": {
      "text/plain": [
       "pandas.core.series.Series"
      ]
     },
     "execution_count": 55,
     "metadata": {},
     "output_type": "execute_result"
    }
   ],
   "source": [
    "type(row)"
   ]
  },
  {
   "cell_type": "code",
   "execution_count": 56,
   "metadata": {},
   "outputs": [
    {
     "data": {
      "text/plain": [
       "V1                                           31\n",
       "V2                                          281\n",
       "V3                                           22\n",
       "V4                                       010112\n",
       "V5                                          500\n",
       "V6                                   01/06/2009\n",
       "V7                                   01/06/2011\n",
       "V8                          26/06/2009 11:16:47\n",
       "V9                                          NaN\n",
       "V10                                         NaN\n",
       "V11                                         NaN\n",
       "V12                                      010112\n",
       "V13                                        6011\n",
       "V14                                         NaN\n",
       "V15                                         NaN\n",
       "V16                                21140121124C\n",
       "V17                                         NaN\n",
       "V18                                           6\n",
       "V19                                      004737\n",
       "V20                                           0\n",
       "V21                                    01000001\n",
       "V22                                    01000001\n",
       "V23                                  26/12/2009\n",
       "V24                                         NaN\n",
       "V25                                         952\n",
       "V26                                         384\n",
       "V27      VERSUS BANK PLATEAU    REGION LAGUNECI\n",
       "CLASS                                         0\n",
       "Name: 1, dtype: object"
      ]
     },
     "execution_count": 56,
     "metadata": {},
     "output_type": "execute_result"
    }
   ],
   "source": [
    "row"
   ]
  },
  {
   "cell_type": "code",
   "execution_count": 82,
   "metadata": {},
   "outputs": [
    {
     "data": {
      "text/plain": [
       "V1                4.000000e+00\n",
       "V2                2.000000e+00\n",
       "V3                2.300000e+01\n",
       "V4                1.000000e+00\n",
       "V9                1.000000e+02\n",
       "V10               1.000000e+02\n",
       "V12              -1.000000e+00\n",
       "V13               2.976000e+03\n",
       "V16               4.400000e+01\n",
       "V19               1.351000e+03\n",
       "V21               2.000000e+00\n",
       "V22              -1.000000e+00\n",
       "V24               1.000000e+02\n",
       "V25               1.000000e+00\n",
       "V26               3.840000e+02\n",
       "V27               6.000000e+00\n",
       "COS(V6_month)     9.295049e-01\n",
       "COS(V6_day)      -1.000000e+00\n",
       "COS(V7_month)     9.295049e-01\n",
       "COS(V7_day)      -1.000000e+00\n",
       "COS(V23_month)   -9.795299e-01\n",
       "COS(V23_day)     -3.473053e-01\n",
       "COS(V8_month)     9.295049e-01\n",
       "COS(V8_day)      -3.473053e-01\n",
       "SIN(V6_month)    -3.688097e-01\n",
       "SIN(V6_day)       7.657137e-16\n",
       "SIN(V7_month)    -3.688097e-01\n",
       "SIN(V7_day)       7.657137e-16\n",
       "SIN(V23_month)    2.012985e-01\n",
       "SIN(V23_day)      9.377521e-01\n",
       "SIN(V8_month)    -3.688097e-01\n",
       "SIN(V8_day)       9.377521e-01\n",
       "V6_year           2.009000e+03\n",
       "V7_year           2.011000e+03\n",
       "V23_year          2.009000e+03\n",
       "V8_year           2.009000e+03\n",
       "dtype: float64"
      ]
     },
     "execution_count": 82,
     "metadata": {},
     "output_type": "execute_result"
    }
   ],
   "source": [
    "new_row = preprocess(row)\n",
    "new_row"
   ]
  },
  {
   "cell_type": "code",
   "execution_count": 83,
   "metadata": {},
   "outputs": [],
   "source": [
    "new_file = open( root + \"fraud-detection/dataset/new_row.obj\",\"wb\")\n",
    "pickle.dump(new_row, new_file)\n",
    "new_file.close()"
   ]
  },
  {
   "cell_type": "code",
   "execution_count": 70,
   "metadata": {},
   "outputs": [],
   "source": [
    "from pypmml import Model\n",
    "\n",
    "filename = \"fraud-detection/models/svm.pmml\"\n",
    "SVM = Model.load(root + filename)"
   ]
  },
  {
   "cell_type": "code",
   "execution_count": 72,
   "metadata": {},
   "outputs": [],
   "source": [
    "res = SVM.predict(new_row)"
   ]
  },
  {
   "cell_type": "code",
   "execution_count": 77,
   "metadata": {},
   "outputs": [
    {
     "data": {
      "text/plain": [
       "predicted_isFraud    1.0\n",
       "probability          1.0\n",
       "probability_0        0.0\n",
       "probability_1        1.0\n",
       "Name: 0, dtype: float64"
      ]
     },
     "execution_count": 77,
     "metadata": {},
     "output_type": "execute_result"
    }
   ],
   "source": [
    "res"
   ]
  }
 ],
 "metadata": {
  "kernelspec": {
   "display_name": "base",
   "language": "python",
   "name": "python3"
  },
  "language_info": {
   "codemirror_mode": {
    "name": "ipython",
    "version": 3
   },
   "file_extension": ".py",
   "mimetype": "text/x-python",
   "name": "python",
   "nbconvert_exporter": "python",
   "pygments_lexer": "ipython3",
   "version": "3.8.12"
  },
  "orig_nbformat": 4,
  "vscode": {
   "interpreter": {
    "hash": "cfdbd8c9048ab92b077343f235d6ccc68a76f62a5f525420b39b88fd49e8f01a"
   }
  }
 },
 "nbformat": 4,
 "nbformat_minor": 2
}
