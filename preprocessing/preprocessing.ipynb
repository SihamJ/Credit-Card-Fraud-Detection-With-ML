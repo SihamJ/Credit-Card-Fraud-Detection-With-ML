{
 "cells": [
  {
   "cell_type": "code",
   "execution_count": 9,
   "metadata": {},
   "outputs": [],
   "source": [
    "import pandas as pd # data processing\n",
    "import numpy as np # working with arrays\n",
    "import matplotlib.pyplot as plt # visualization\n",
    "import seaborn as sns\n",
    "import random\n",
    "import string\n",
    "from termcolor import colored as cl # text customizationsize=len(R_7['V26'])"
   ]
  },
  {
   "cell_type": "code",
   "execution_count": 31,
   "metadata": {},
   "outputs": [],
   "source": [
    "path = 'C:/Users/KABYADE/Desktop/Fraud_ML/dataset/final_fraud.xlsx'"
   ]
  },
  {
   "cell_type": "code",
   "execution_count": 32,
   "metadata": {},
   "outputs": [],
   "source": [
    "# Load the credit card transaction data \n",
    "df = pd.read_excel(path, dtype = str)"
   ]
  },
  {
   "cell_type": "code",
   "execution_count": 33,
   "metadata": {},
   "outputs": [
    {
     "data": {
      "text/plain": [
       "array(['1', '2', '3', '4', '5', '6', '7', '8', '9', '10', '11', '12',\n",
       "       '13', '14', '15', '16', '17', '18', '19', '20', '21', '22', '23',\n",
       "       '24', '25', '26', '27', '28', '29', '30', '31', '32', '33', '34',\n",
       "       '35', '36', '37', '38', '39', '40', '41', '42', '43', '44', '45',\n",
       "       '46', '47', '48', '49', '50', '51', '52', '53', '54', '55', '56',\n",
       "       '57', '58', '59', '60', '61', '62', '63'], dtype=object)"
      ]
     },
     "execution_count": 33,
     "metadata": {},
     "output_type": "execute_result"
    }
   ],
   "source": [
    "df.CLASS.unique()"
   ]
  },
  {
   "cell_type": "code",
   "execution_count": 45,
   "metadata": {},
   "outputs": [],
   "source": [
    "cp = pd.DataFrame.copy(df)"
   ]
  },
  {
   "cell_type": "code",
   "execution_count": 63,
   "metadata": {},
   "outputs": [],
   "source": [
    "import pickle\n",
    "\n",
    "row = df.iloc[1]\n",
    "row['V10'] = 643212\n",
    "row['V9'] = 239806.0\n",
    "row['V24'] = 777541\n",
    "\n",
    "\n",
    "file = open(\"output/row_test.obj\",\"wb\")\n",
    "pickle.dump(row, file)\n",
    "file.close()"
   ]
  },
  {
   "cell_type": "code",
   "execution_count": null,
   "metadata": {},
   "outputs": [],
   "source": [
    "data={\n",
    "        \"V1\": \"31\",\n",
    "        \"V2\": \"281\",\n",
    "        \"V3\": \"22\",\n",
    "        \"V4\": \"010112\",\n",
    "        \"V5\": \"500\",\n",
    "        \"V6\": \"01/06/2009\",\n",
    "        \"V7\": \"01/06/2011\",\n",
    "        \"V8\": \"26/06/2009 11:16:47\",\n",
    "        \"V9\": \"239806.0\",\n",
    "        \"V10\": \"643212\",\n",
    "        \"V11\": None,\n",
    "        \"V12\": \"010112\",\n",
    "        \"V13\": \"6011\",\n",
    "        \"V14\": None,\n",
    "        \"V15\": None,\n",
    "        \"V16\": \"21140121124C\" ,\n",
    "        \"V17\": None,\n",
    "        \"V18\": \"6\",\n",
    "        \"V19\": \"004737\",\n",
    "        \"V20\":  \"0\",\n",
    "        \"V21\": \"01000001\",\n",
    "        \"V22\": \"01000001\",\n",
    "        \"V23\": \"26/12/2009\",\n",
    "        \"V24\": \"777541\",\n",
    "        \"V25\": \"952\",\n",
    "        \"V26\": \"384\",\n",
    "        \"V27\": \"VERSUS BANK PLATEAU    REGION LAGUNECI\"\n",
    "}\n",
    "\n",
    "pd.Series(data)"
   ]
  },
  {
   "cell_type": "code",
   "execution_count": 62,
   "metadata": {},
   "outputs": [
    {
     "data": {
      "text/plain": [
       "True"
      ]
     },
     "execution_count": 62,
     "metadata": {},
     "output_type": "execute_result"
    }
   ],
   "source": [
    "test=1\n",
    "\n",
    "t=bool(1)\n",
    "t"
   ]
  },
  {
   "attachments": {},
   "cell_type": "markdown",
   "metadata": {},
   "source": [
    "## Cleaning"
   ]
  },
  {
   "cell_type": "code",
   "execution_count": 34,
   "metadata": {},
   "outputs": [],
   "source": [
    "def clean_data(df):\n",
    "    #Date\n",
    "    count_V3 = df.loc[df['CLASS'] != 0,'V3'].isnull().sum()\n",
    "    \n",
    "    df['V23'] = pd.to_datetime(df['V23'],format=\"%d/%m/%Y\")\n",
    "    df['V8'] = pd.to_datetime(df['V8'],format=\"%d/%m/%Y %H:%M:%S\")\n",
    "    \n",
    "    df['V6'] = pd.to_datetime(df['V6'],format=\"%d/%m/%Y\")\n",
    "    df['V7'] = pd.to_datetime(df['V7'],format=\"%d/%m/%Y\")\n",
    "    df['V6']=df['V6'].fillna(value=df['V7'] - pd.Timedelta(days=2*365))\n",
    "   \n",
    "    #String\n",
    "    df['V4']=df['V4'].fillna(value='010112')\n",
    "    df.loc[df['V1'] == 31, 'V10'] = '00'  \n",
    "    values_V3 =  np.random.choice([\"002\", \"003\"],size=count_V3).tolist()\n",
    "    df['V3'] = df['V3'].apply(lambda x: values_V3.pop(0) if pd.isna(x) else x)\n",
    "    df['V19'] = df['V19'].apply(lambda x: ''.join(random.choices(string.digits, k=6)) if pd.isna(x) else x)\n",
    "    #Float\n",
    "    df = add_amount_values(pd.DataFrame.copy(df))\n",
    "    return df\n",
    "\n",
    "def add_amount_values(df):\n",
    "    fload_cols=['V9','V10','V24']\n",
    "    for el in fload_cols:\n",
    "        df[el] = df[el].astype(float)\n",
    "        max_V10 = df[el].max()\n",
    "        values = [random.randint(0, max_V10) for i in range(df[el].isnull().sum() )]\n",
    "        df[el] = df[el].apply(lambda x: values.pop(0) if pd.isna(x) else x)\n",
    "    return df\n"
   ]
  },
  {
   "cell_type": "code",
   "execution_count": 35,
   "metadata": {},
   "outputs": [],
   "source": [
    "df['CLASS'] = df['CLASS'].astype(int)\n",
    "df.drop(['V11','V14','V20','V5','V17','V18','V15'], axis=1, inplace=True)"
   ]
  },
  {
   "cell_type": "code",
   "execution_count": 36,
   "metadata": {},
   "outputs": [],
   "source": [
    "df = clean_data(df)"
   ]
  },
  {
   "cell_type": "code",
   "execution_count": 37,
   "metadata": {},
   "outputs": [
    {
     "name": "stdout",
     "output_type": "stream",
     "text": [
      "<class 'pandas.core.frame.DataFrame'>\n",
      "RangeIndex: 99999 entries, 0 to 99998\n",
      "Data columns (total 21 columns):\n",
      " #   Column  Non-Null Count  Dtype         \n",
      "---  ------  --------------  -----         \n",
      " 0   V1      99999 non-null  object        \n",
      " 1   V2      99999 non-null  object        \n",
      " 2   V3      99999 non-null  object        \n",
      " 3   V4      99999 non-null  object        \n",
      " 4   V6      99999 non-null  datetime64[ns]\n",
      " 5   V7      99999 non-null  datetime64[ns]\n",
      " 6   V8      99999 non-null  datetime64[ns]\n",
      " 7   V9      99999 non-null  float64       \n",
      " 8   V10     99999 non-null  float64       \n",
      " 9   V12     99999 non-null  object        \n",
      " 10  V13     99999 non-null  object        \n",
      " 11  V16     99999 non-null  object        \n",
      " 12  V19     99999 non-null  object        \n",
      " 13  V21     99999 non-null  object        \n",
      " 14  V22     99999 non-null  object        \n",
      " 15  V23     99999 non-null  datetime64[ns]\n",
      " 16  V24     99999 non-null  float64       \n",
      " 17  V25     99999 non-null  object        \n",
      " 18  V26     99999 non-null  object        \n",
      " 19  V27     99999 non-null  object        \n",
      " 20  CLASS   99999 non-null  int32         \n",
      "dtypes: datetime64[ns](4), float64(3), int32(1), object(13)\n",
      "memory usage: 15.6+ MB\n"
     ]
    }
   ],
   "source": [
    "df.info()"
   ]
  },
  {
   "cell_type": "code",
   "execution_count": 38,
   "metadata": {},
   "outputs": [],
   "source": [
    "import os\n",
    "\n",
    "try:\n",
    "    os.remove(\"C:/Users/KABYADE/Desktop/Fraud_ML/dataset/clean_data.xlsx\")\n",
    "except:\n",
    "    pass\n",
    "\n",
    "df.to_excel(\"C:/Users/KABYADE/Desktop/Fraud_ML/dataset/clean_data.xlsx\", index=False)"
   ]
  },
  {
   "attachments": {},
   "cell_type": "markdown",
   "metadata": {},
   "source": [
    "## Preprocessing"
   ]
  },
  {
   "cell_type": "code",
   "execution_count": 45,
   "metadata": {},
   "outputs": [],
   "source": [
    "from sklearn.preprocessing import LabelEncoder, OrdinalEncoder, MinMaxScaler\n",
    "import math, pickle\n",
    "\n",
    "def update_dtype(df):\n",
    "    df['CLASS'] = df['CLASS'].astype(int)\n",
    "    df['V10'] = df['V10'].astype(float)\n",
    "    df['V9'] = df['V9'].astype(float)\n",
    "    df['V24'] = df['V24'].astype(float)\n",
    "    return df\n",
    "\n",
    "#Object preprocessing \n",
    "def to_categorical(v_df):\n",
    "    cols= v_df.select_dtypes(include=['object'])\n",
    "    obj_cols=cols.columns.to_list()\n",
    "\n",
    "    for col in obj_cols:\n",
    "        check=len(v_df[col].unique())\n",
    "        print(str(col)+\" \",check)\n",
    "        le = LabelEncoder()\n",
    "        v_df[col] = le.fit_transform(v_df[col])\n",
    "    return v_df\n",
    "\n",
    "shape=99999\n",
    "#Object preprocessing \n",
    "def to_labels(v_df):\n",
    "    \n",
    "    cols = v_df.select_dtypes(include=['object'])\n",
    "    obj_cols = cols.columns.to_list()\n",
    "    dict_all = dict(zip([], []))\n",
    "    ordinal_encoder = OrdinalEncoder(handle_unknown='use_encoded_value',\n",
    "                                    unknown_value=-1)\n",
    "    \n",
    "    for col in obj_cols:\n",
    "        # Fit & Transform features + save encoder as dict for future saving\n",
    "        temp_keys = v_df[col].values\n",
    "        temp_values = ordinal_encoder.fit_transform(v_df[col].values.reshape(-1, 1))\n",
    "        temp_values = temp_values.reshape(shape).astype(int)\n",
    "        v_df[col] = np.array(temp_values)\n",
    "        dict_temp = dict(zip(temp_keys, temp_values))\n",
    "        dict_all[col] = dict_temp\n",
    "    \n",
    "    for col in obj_cols:\n",
    "        v_df.replace(dict_all[col], inplace=True)\n",
    "    \n",
    "    # saving dictionary for deploy use\n",
    "    file = open( \"C:/Users/KABYADE/Desktop/Fraud_ML/fraud-detection/preprocessing/output/dict_all.obj\",\"wb\")\n",
    "    pickle.dump(dict_all,file)\n",
    "    file.close()\n",
    "\n",
    "    return v_df, dict_all\n",
    "\n",
    "def process_date(df):\n",
    "    #DATETIME\n",
    "    list=['V6','V7','V23','V8']\n",
    "    date_columns = df.filter(list)\n",
    "    year_columns = pd.DataFrame()\n",
    "    \n",
    "    for l in list:\n",
    "        date_columns[l] = pd.to_datetime(date_columns[l])\n",
    "        date_columns[l+'_month'] = date_columns[l].dt.month    \n",
    "        date_columns[l+'_day'] = date_columns[l].dt.day.astype(int)\n",
    "        year_columns[l+'_year'] = date_columns[l].dt.year\n",
    "\n",
    "    #print(date_columns.columns)\n",
    "    date_columns.drop(list, axis=1, inplace=True)\n",
    "    df.drop(list, axis=1, inplace=True)\n",
    "\n",
    "    cos_cols = np.array(date_columns.columns.values)\n",
    "    sin_cols = np.array(date_columns.columns.values)\n",
    "\n",
    "    for i in range(len(cos_cols)):\n",
    "        cos_cols[i] = 'COS(' + cos_cols[i] + ')'\n",
    "        sin_cols[i] = 'SIN(' + sin_cols[i] + ')'\n",
    "\n",
    "    # Normalize date cols\n",
    "    min_max_scaler = MinMaxScaler(feature_range=(-math.pi, math.pi - (2*math.pi)/31 ))\n",
    "    date_columns_scaled = min_max_scaler.fit_transform(date_columns.values)\n",
    "    date_columns_cos = pd.DataFrame(date_columns_scaled, columns=cos_cols)\n",
    "    date_columns_sin = pd.DataFrame(date_columns_scaled, columns=sin_cols)\n",
    "    date_columns_cos = date_columns_cos.applymap(lambda x: math.cos(x))\n",
    "    date_columns_sin = date_columns_sin.applymap(lambda x: math.sin(x))\n",
    "\n",
    "    # saving scaler for deploy use\n",
    "    scalerfile = \"C:/Users/KABYADE/Desktop/Fraud_ML/fraud-detection/preprocessing/output/scaler.sav\"\n",
    "    pickle.dump(min_max_scaler, open(scalerfile, 'wb'))\n",
    "\n",
    "    new_df = pd.concat([df, date_columns_cos, date_columns_sin, year_columns], axis=1)\n",
    "    return new_df, min_max_scaler"
   ]
  },
  {
   "cell_type": "code",
   "execution_count": 44,
   "metadata": {},
   "outputs": [],
   "source": [
    "clean_file=\"C:/Users/KABYADE/Desktop/Fraud_ML/dataset/clean_data.xlsx\"\n",
    "df = pd.read_excel(clean_file, dtype = str)"
   ]
  },
  {
   "cell_type": "code",
   "execution_count": 47,
   "metadata": {},
   "outputs": [
    {
     "data": {
      "text/plain": [
       "(99999, 21)"
      ]
     },
     "execution_count": 47,
     "metadata": {},
     "output_type": "execute_result"
    }
   ],
   "source": [
    "df.shape"
   ]
  },
  {
   "cell_type": "code",
   "execution_count": 48,
   "metadata": {},
   "outputs": [],
   "source": [
    "df_final = update_dtype(pd.DataFrame.copy(df))\n",
    "df_final, _ = process_date(pd.DataFrame.copy(df_final))"
   ]
  },
  {
   "cell_type": "code",
   "execution_count": 49,
   "metadata": {},
   "outputs": [],
   "source": [
    "df_final, _ = to_labels(df_final)"
   ]
  },
  {
   "cell_type": "code",
   "execution_count": 50,
   "metadata": {},
   "outputs": [
    {
     "data": {
      "text/html": [
       "<div>\n",
       "<style scoped>\n",
       "    .dataframe tbody tr th:only-of-type {\n",
       "        vertical-align: middle;\n",
       "    }\n",
       "\n",
       "    .dataframe tbody tr th {\n",
       "        vertical-align: top;\n",
       "    }\n",
       "\n",
       "    .dataframe thead th {\n",
       "        text-align: right;\n",
       "    }\n",
       "</style>\n",
       "<table border=\"1\" class=\"dataframe\">\n",
       "  <thead>\n",
       "    <tr style=\"text-align: right;\">\n",
       "      <th></th>\n",
       "      <th>V1</th>\n",
       "      <th>V2</th>\n",
       "      <th>V3</th>\n",
       "      <th>V4</th>\n",
       "      <th>V9</th>\n",
       "      <th>V10</th>\n",
       "      <th>V12</th>\n",
       "      <th>V13</th>\n",
       "      <th>V16</th>\n",
       "      <th>V19</th>\n",
       "      <th>...</th>\n",
       "      <th>SIN(V7_day)</th>\n",
       "      <th>SIN(V23_month)</th>\n",
       "      <th>SIN(V23_day)</th>\n",
       "      <th>SIN(V8_month)</th>\n",
       "      <th>SIN(V8_day)</th>\n",
       "      <th>V6_year</th>\n",
       "      <th>V7_year</th>\n",
       "      <th>V23_year</th>\n",
       "      <th>V8_year</th>\n",
       "      <th>CLASS</th>\n",
       "    </tr>\n",
       "  </thead>\n",
       "  <tbody>\n",
       "    <tr>\n",
       "      <th>0</th>\n",
       "      <td>1</td>\n",
       "      <td>1</td>\n",
       "      <td>23</td>\n",
       "      <td>1</td>\n",
       "      <td>2000.0</td>\n",
       "      <td>104.519354</td>\n",
       "      <td>10</td>\n",
       "      <td>3715</td>\n",
       "      <td>60</td>\n",
       "      <td>56668</td>\n",
       "      <td>...</td>\n",
       "      <td>7.657137e-16</td>\n",
       "      <td>0.201299</td>\n",
       "      <td>0.937752</td>\n",
       "      <td>0.174152</td>\n",
       "      <td>-0.897805</td>\n",
       "      <td>2009</td>\n",
       "      <td>2011</td>\n",
       "      <td>2009</td>\n",
       "      <td>2009</td>\n",
       "      <td>1</td>\n",
       "    </tr>\n",
       "    <tr>\n",
       "      <th>1</th>\n",
       "      <td>1</td>\n",
       "      <td>1</td>\n",
       "      <td>23</td>\n",
       "      <td>1</td>\n",
       "      <td>150000.0</td>\n",
       "      <td>623643.310763</td>\n",
       "      <td>10</td>\n",
       "      <td>3660</td>\n",
       "      <td>45</td>\n",
       "      <td>41628</td>\n",
       "      <td>...</td>\n",
       "      <td>7.657137e-16</td>\n",
       "      <td>0.201299</td>\n",
       "      <td>0.937752</td>\n",
       "      <td>-0.801919</td>\n",
       "      <td>-0.998717</td>\n",
       "      <td>2009</td>\n",
       "      <td>2011</td>\n",
       "      <td>2010</td>\n",
       "      <td>2010</td>\n",
       "      <td>2</td>\n",
       "    </tr>\n",
       "    <tr>\n",
       "      <th>2</th>\n",
       "      <td>1</td>\n",
       "      <td>1</td>\n",
       "      <td>23</td>\n",
       "      <td>1</td>\n",
       "      <td>2000.0</td>\n",
       "      <td>269042.020672</td>\n",
       "      <td>10</td>\n",
       "      <td>3660</td>\n",
       "      <td>45</td>\n",
       "      <td>66100</td>\n",
       "      <td>...</td>\n",
       "      <td>7.657137e-16</td>\n",
       "      <td>0.201299</td>\n",
       "      <td>0.937752</td>\n",
       "      <td>0.174152</td>\n",
       "      <td>-0.968077</td>\n",
       "      <td>2009</td>\n",
       "      <td>2011</td>\n",
       "      <td>2009</td>\n",
       "      <td>2009</td>\n",
       "      <td>3</td>\n",
       "    </tr>\n",
       "    <tr>\n",
       "      <th>3</th>\n",
       "      <td>3</td>\n",
       "      <td>1</td>\n",
       "      <td>23</td>\n",
       "      <td>1</td>\n",
       "      <td>150000.0</td>\n",
       "      <td>606883.631345</td>\n",
       "      <td>10</td>\n",
       "      <td>5553</td>\n",
       "      <td>45</td>\n",
       "      <td>15621</td>\n",
       "      <td>...</td>\n",
       "      <td>7.657137e-16</td>\n",
       "      <td>0.201299</td>\n",
       "      <td>0.937752</td>\n",
       "      <td>-0.368810</td>\n",
       "      <td>0.848644</td>\n",
       "      <td>2009</td>\n",
       "      <td>2011</td>\n",
       "      <td>2009</td>\n",
       "      <td>2009</td>\n",
       "      <td>4</td>\n",
       "    </tr>\n",
       "    <tr>\n",
       "      <th>4</th>\n",
       "      <td>1</td>\n",
       "      <td>1</td>\n",
       "      <td>23</td>\n",
       "      <td>1</td>\n",
       "      <td>150000.0</td>\n",
       "      <td>150000.000000</td>\n",
       "      <td>10</td>\n",
       "      <td>2811</td>\n",
       "      <td>54</td>\n",
       "      <td>54370</td>\n",
       "      <td>...</td>\n",
       "      <td>7.657137e-16</td>\n",
       "      <td>0.201299</td>\n",
       "      <td>0.937752</td>\n",
       "      <td>-0.368810</td>\n",
       "      <td>0.848644</td>\n",
       "      <td>2009</td>\n",
       "      <td>2011</td>\n",
       "      <td>2009</td>\n",
       "      <td>2009</td>\n",
       "      <td>5</td>\n",
       "    </tr>\n",
       "  </tbody>\n",
       "</table>\n",
       "<p>5 rows × 37 columns</p>\n",
       "</div>"
      ],
      "text/plain": [
       "   V1  V2  V3  V4        V9            V10  V12   V13  V16    V19  ...  \\\n",
       "0   1   1  23   1    2000.0     104.519354   10  3715   60  56668  ...   \n",
       "1   1   1  23   1  150000.0  623643.310763   10  3660   45  41628  ...   \n",
       "2   1   1  23   1    2000.0  269042.020672   10  3660   45  66100  ...   \n",
       "3   3   1  23   1  150000.0  606883.631345   10  5553   45  15621  ...   \n",
       "4   1   1  23   1  150000.0  150000.000000   10  2811   54  54370  ...   \n",
       "\n",
       "    SIN(V7_day)  SIN(V23_month)  SIN(V23_day)  SIN(V8_month)  SIN(V8_day)  \\\n",
       "0  7.657137e-16        0.201299      0.937752       0.174152    -0.897805   \n",
       "1  7.657137e-16        0.201299      0.937752      -0.801919    -0.998717   \n",
       "2  7.657137e-16        0.201299      0.937752       0.174152    -0.968077   \n",
       "3  7.657137e-16        0.201299      0.937752      -0.368810     0.848644   \n",
       "4  7.657137e-16        0.201299      0.937752      -0.368810     0.848644   \n",
       "\n",
       "   V6_year  V7_year  V23_year  V8_year  CLASS  \n",
       "0     2009     2011      2009     2009      1  \n",
       "1     2009     2011      2010     2010      2  \n",
       "2     2009     2011      2009     2009      3  \n",
       "3     2009     2011      2009     2009      4  \n",
       "4     2009     2011      2009     2009      5  \n",
       "\n",
       "[5 rows x 37 columns]"
      ]
     },
     "execution_count": 50,
     "metadata": {},
     "output_type": "execute_result"
    }
   ],
   "source": [
    "# putting CLASS column at the end\n",
    "isFraud = df_final.filter(['CLASS'],  axis=1)\n",
    "df_final.drop(['CLASS'], axis=1, inplace=True)\n",
    "df_final = pd.concat([df_final, isFraud], axis=1)\n",
    "df_final.head()"
   ]
  },
  {
   "cell_type": "code",
   "execution_count": 51,
   "metadata": {},
   "outputs": [
    {
     "data": {
      "text/plain": [
       "Index(['V1', 'V2', 'V3', 'V4', 'V9', 'V10', 'V12', 'V13', 'V16', 'V19', 'V21',\n",
       "       'V22', 'V24', 'V25', 'V26', 'V27', 'COS(V6_month)', 'COS(V6_day)',\n",
       "       'COS(V7_month)', 'COS(V7_day)', 'COS(V23_month)', 'COS(V23_day)',\n",
       "       'COS(V8_month)', 'COS(V8_day)', 'SIN(V6_month)', 'SIN(V6_day)',\n",
       "       'SIN(V7_month)', 'SIN(V7_day)', 'SIN(V23_month)', 'SIN(V23_day)',\n",
       "       'SIN(V8_month)', 'SIN(V8_day)', 'V6_year', 'V7_year', 'V23_year',\n",
       "       'V8_year', 'CLASS'],\n",
       "      dtype='object')"
      ]
     },
     "execution_count": 51,
     "metadata": {},
     "output_type": "execute_result"
    }
   ],
   "source": [
    "df_final.columns"
   ]
  },
  {
   "cell_type": "code",
   "execution_count": 53,
   "metadata": {},
   "outputs": [],
   "source": [
    "root=\"C:/Users/KABYADE/Desktop/Fraud_ML/dataset/\"\n",
    "try:\n",
    "    os.remove(root + \"preprocessing_data.xlsx\")\n",
    "except:\n",
    "    pass\n",
    "\n",
    "df_final.to_excel(root + \"preprocessing_data.xlsx\", index=False)"
   ]
  }
 ],
 "metadata": {
  "kernelspec": {
   "display_name": "Python 3",
   "language": "python",
   "name": "python3"
  },
  "language_info": {
   "codemirror_mode": {
    "name": "ipython",
    "version": 3
   },
   "file_extension": ".py",
   "mimetype": "text/x-python",
   "name": "python",
   "nbconvert_exporter": "python",
   "pygments_lexer": "ipython3",
   "version": "3.10.11"
  },
  "orig_nbformat": 4,
  "vscode": {
   "interpreter": {
    "hash": "9dce4b41c3dab15c9b172253d5926c6876aa54e726307ae26a963b8959ab689a"
   }
  }
 },
 "nbformat": 4,
 "nbformat_minor": 2
}
