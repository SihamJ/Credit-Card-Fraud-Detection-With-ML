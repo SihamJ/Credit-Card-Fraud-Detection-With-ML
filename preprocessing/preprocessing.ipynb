{
 "cells": [
  {
   "cell_type": "code",
   "execution_count": 1,
   "metadata": {},
   "outputs": [],
   "source": [
    "import pandas as pd # data processing\n",
    "import numpy as np # working with arrays\n",
    "import matplotlib.pyplot as plt # visualization\n",
    "import seaborn as sns\n",
    "from sklearn.preprocessing import LabelEncoder , OneHotEncoder\n",
    "from sklearn import preprocessing\n",
    "import math "
   ]
  },
  {
   "cell_type": "code",
   "execution_count": 179,
   "metadata": {},
   "outputs": [],
   "source": [
    "# Load the credit card transaction data\n",
    "df = pd.read_excel(r'C:\\Users\\KABYADE\\Desktop\\Fraud_ML\\dataset\\clean_data.xlsx',dtype = str)"
   ]
  },
  {
   "cell_type": "code",
   "execution_count": 178,
   "metadata": {},
   "outputs": [],
   "source": [
    "def update_dtype():\n",
    "    df['CLASS'] = df['CLASS'].astype(int)\n",
    "    df['V10'] = df['V10'].astype(float)\n",
    "    df['V9'] = df['V9'].astype(float)\n",
    "    df['V24'] = df['V24'].astype(float)\n",
    "\n",
    "#Object preprocessing \n",
    "def to_categorical(v_df):\n",
    "    cols= v_df.select_dtypes(include=['object'])\n",
    "    obj_cols=cols.columns.to_list()\n",
    "\n",
    "    for col in obj_cols:\n",
    "        check=len(v_df[col].unique())\n",
    "        print(str(col)+\" \",check)\n",
    "        le = LabelEncoder()\n",
    "        v_df[col] = le.fit_transform(v_df[col])\n",
    "    return v_df\n",
    "\n",
    "def process_date():\n",
    "    #DATETIME\n",
    "    list=['V6','V7','V23','V8']\n",
    "    date_columns=df.filter(list)\n",
    "    year_columns = pd.DataFrame()\n",
    "    \n",
    "    for l in list:\n",
    "        date_columns[l] = pd.to_datetime(date_columns[l])\n",
    "        date_columns[l+'_month'] = date_columns[l].dt.month    \n",
    "        date_columns[l+'_day'] = date_columns[l].dt.day.astype(int)\n",
    "        year_columns[l+'_year'] = date_columns[l].dt.year\n",
    "\n",
    "    date_columns.drop(list, axis=1, inplace=True)\n",
    "    df.drop(list, axis=1, inplace=True)\n",
    "\n",
    "    #Normalize date cols\n",
    "    min_max_scaler = preprocessing.MinMaxScaler(feature_range=(-math.pi, math.pi))\n",
    "    date_columns_scaled = min_max_scaler.fit_transform(date_columns.values)\n",
    "    date_columns_normalized = pd.DataFrame(date_columns_scaled, columns=date_columns.columns)\n",
    "    date_columns_normalized = date_columns_normalized.applymap(lambda x: math.cos(x))\n",
    "\n",
    "    new_df = pd.concat([df, date_columns_normalized, year_columns], axis=1)\n",
    "    return new_df"
   ]
  },
  {
   "cell_type": "code",
   "execution_count": 181,
   "metadata": {},
   "outputs": [
    {
     "name": "stdout",
     "output_type": "stream",
     "text": [
      "V1  7\n",
      "V2  4\n",
      "V3  101\n",
      "V4  3\n",
      "V12  1119\n",
      "V13  4937\n",
      "V16  124\n",
      "V19  68943\n",
      "V21  12\n",
      "V22  6\n",
      "V25  3\n",
      "V26  999\n",
      "V27  8\n"
     ]
    }
   ],
   "source": [
    "update_dtype()\n",
    "df_final=process_date()\n",
    "df_final=to_categorical(df_final)"
   ]
  },
  {
   "cell_type": "code",
   "execution_count": 183,
   "metadata": {},
   "outputs": [],
   "source": [
    "df_final.to_excel('output/preprocessing_data.xlsx', index=False)"
   ]
  },
  {
   "cell_type": "code",
   "execution_count": null,
   "metadata": {},
   "outputs": [],
   "source": [
    "#unique value per col\n",
    "for col in df.columns:\n",
    "    check=df[col].unique()\n",
    "    print(str(col)+\" \",len(check),check)\n",
    "\n",
    "df.loc[df['CLASS'] == '0'].V6.describe()\n",
    "# normal '010112', '101010'\n",
    "# fraud '000010', '010112', '101010'"
   ]
  }
 ],
 "metadata": {
  "kernelspec": {
   "display_name": "Python 3",
   "language": "python",
   "name": "python3"
  },
  "language_info": {
   "codemirror_mode": {
    "name": "ipython",
    "version": 3
   },
   "file_extension": ".py",
   "mimetype": "text/x-python",
   "name": "python",
   "nbconvert_exporter": "python",
   "pygments_lexer": "ipython3",
   "version": "3.10.10"
  },
  "orig_nbformat": 4,
  "vscode": {
   "interpreter": {
    "hash": "9dce4b41c3dab15c9b172253d5926c6876aa54e726307ae26a963b8959ab689a"
   }
  }
 },
 "nbformat": 4,
 "nbformat_minor": 2
}
