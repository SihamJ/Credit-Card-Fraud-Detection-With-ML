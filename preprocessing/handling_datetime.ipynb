{
 "cells": [
  {
   "cell_type": "code",
   "execution_count": 1,
   "metadata": {},
   "outputs": [],
   "source": [
    "import pandas as pd # data processing"
   ]
  },
  {
   "attachments": {},
   "cell_type": "markdown",
   "metadata": {},
   "source": [
    "## Handling dates"
   ]
  },
  {
   "cell_type": "code",
   "execution_count": 4,
   "metadata": {},
   "outputs": [],
   "source": [
    "root = '/home/sihartist/Desktop/fraud-detection/'\n",
    "path = root + \"dataset/final.xlsx\""
   ]
  },
  {
   "cell_type": "code",
   "execution_count": 6,
   "metadata": {},
   "outputs": [],
   "source": [
    "clean_data = pd.read_excel(path, dtype=str)"
   ]
  },
  {
   "cell_type": "code",
   "execution_count": 7,
   "metadata": {},
   "outputs": [
    {
     "name": "stdout",
     "output_type": "stream",
     "text": [
      "<class 'pandas.core.frame.DataFrame'>\n",
      "RangeIndex: 140654 entries, 0 to 140653\n",
      "Data columns (total 28 columns):\n",
      " #   Column  Non-Null Count   Dtype \n",
      "---  ------  --------------   ----- \n",
      " 0   V1      140654 non-null  object\n",
      " 1   V2      140654 non-null  object\n",
      " 2   V3      139696 non-null  object\n",
      " 3   V4      140645 non-null  object\n",
      " 4   V5      140654 non-null  object\n",
      " 5   V6      124864 non-null  object\n",
      " 6   V7      140654 non-null  object\n",
      " 7   V8      140654 non-null  object\n",
      " 8   V9      28907 non-null   object\n",
      " 9   V10     51372 non-null   object\n",
      " 10  V11     0 non-null       object\n",
      " 11  V12     140654 non-null  object\n",
      " 12  V13     140654 non-null  object\n",
      " 13  V14     0 non-null       object\n",
      " 14  V15     11162 non-null   object\n",
      " 15  V16     140654 non-null  object\n",
      " 16  V17     0 non-null       object\n",
      " 17  V18     140616 non-null  object\n",
      " 18  V19     110978 non-null  object\n",
      " 19  V20     139679 non-null  object\n",
      " 20  V21     140654 non-null  object\n",
      " 21  V22     140654 non-null  object\n",
      " 22  V23     140654 non-null  object\n",
      " 23  V24     27868 non-null   object\n",
      " 24  V25     140654 non-null  object\n",
      " 25  V26     140654 non-null  object\n",
      " 26  V27     140654 non-null  object\n",
      " 27  CLASS   140654 non-null  object\n",
      "dtypes: object(28)\n",
      "memory usage: 30.0+ MB\n"
     ]
    }
   ],
   "source": [
    "clean_data.info()"
   ]
  },
  {
   "cell_type": "code",
   "execution_count": null,
   "metadata": {},
   "outputs": [],
   "source": [
    "date_columns = clean_data.filter(['V6', 'V7', 'V8', 'V23'])\n",
    "date_columns['V6'] = pd.to_datetime(date_columns['V6'])\n",
    "date_columns['V7'] = pd.to_datetime(date_columns['V7'])\n",
    "date_columns['V8'] = pd.to_datetime(date_columns['V8'])\n",
    "date_columns['V23'] = pd.to_datetime(date_columns['V23'])\n",
    "\n",
    "## we will fill this with year values\n",
    "year_columns = pd.DataFrame()"
   ]
  },
  {
   "cell_type": "code",
   "execution_count": 92,
   "metadata": {},
   "outputs": [],
   "source": [
    "date_columns['SE month'] = date_columns['V6'].dt.month\n",
    "date_columns['SE day'] = date_columns['V6'].dt.day\n",
    "\n",
    "date_columns['EE month'] = date_columns['V7'].dt.month\n",
    "date_columns['EE day'] = date_columns['V7'].dt.day\n",
    "\n",
    "date_columns['TR month'] = date_columns['V8'].dt.month\n",
    "date_columns['TR day'] = date_columns['V8'].dt.day\n",
    "date_columns['TR hour'] = date_columns['V8'].dt.hour\n",
    "date_columns['TR minute'] = date_columns['V8'].dt.minute\n",
    "date_columns['TR second'] = date_columns['V8'].dt.second\n",
    "\n",
    "date_columns['ISS month'] = date_columns['V23'].dt.month\n",
    "date_columns['ISS day'] = date_columns['V23'].dt.day\n",
    "\n",
    "## We treat years separately as they are not periodic\n",
    "year_columns['SE year'] = date_columns['V6'].dt.year\n",
    "year_columns['EE year'] = date_columns['V7'].dt.year\n",
    "year_columns['TR year'] = date_columns['V8'].dt.year\n",
    "year_columns['ISS year'] = date_columns['V23'].dt.year\n",
    "\n",
    "date_columns = date_columns.drop(['V6', 'V7', 'V8', 'V23'], axis=1)\n",
    "clean_data = clean_data.drop(['V6', 'V7', 'V8', 'V23'], axis=1)"
   ]
  },
  {
   "cell_type": "code",
   "execution_count": 93,
   "metadata": {},
   "outputs": [
    {
     "data": {
      "text/html": [
       "<div>\n",
       "<style scoped>\n",
       "    .dataframe tbody tr th:only-of-type {\n",
       "        vertical-align: middle;\n",
       "    }\n",
       "\n",
       "    .dataframe tbody tr th {\n",
       "        vertical-align: top;\n",
       "    }\n",
       "\n",
       "    .dataframe thead th {\n",
       "        text-align: right;\n",
       "    }\n",
       "</style>\n",
       "<table border=\"1\" class=\"dataframe\">\n",
       "  <thead>\n",
       "    <tr style=\"text-align: right;\">\n",
       "      <th></th>\n",
       "      <th>SE month</th>\n",
       "      <th>SE day</th>\n",
       "      <th>EE month</th>\n",
       "      <th>EE day</th>\n",
       "      <th>TR month</th>\n",
       "      <th>TR day</th>\n",
       "      <th>TR hour</th>\n",
       "      <th>TR minute</th>\n",
       "      <th>TR second</th>\n",
       "      <th>ISS month</th>\n",
       "      <th>ISS day</th>\n",
       "    </tr>\n",
       "  </thead>\n",
       "  <tbody>\n",
       "    <tr>\n",
       "      <th>0</th>\n",
       "      <td>-1.0</td>\n",
       "      <td>0.500000</td>\n",
       "      <td>-1.0</td>\n",
       "      <td>0.654861</td>\n",
       "      <td>-0.841254</td>\n",
       "      <td>-0.309017</td>\n",
       "      <td>-0.854419</td>\n",
       "      <td>0.617525</td>\n",
       "      <td>0.237327</td>\n",
       "      <td>-1.0</td>\n",
       "      <td>-0.354605</td>\n",
       "    </tr>\n",
       "    <tr>\n",
       "      <th>1</th>\n",
       "      <td>-1.0</td>\n",
       "      <td>0.866025</td>\n",
       "      <td>-1.0</td>\n",
       "      <td>0.959493</td>\n",
       "      <td>0.959493</td>\n",
       "      <td>-0.500000</td>\n",
       "      <td>0.990686</td>\n",
       "      <td>0.132726</td>\n",
       "      <td>-0.288692</td>\n",
       "      <td>-1.0</td>\n",
       "      <td>-0.354605</td>\n",
       "    </tr>\n",
       "  </tbody>\n",
       "</table>\n",
       "</div>"
      ],
      "text/plain": [
       "   SE month    SE day  EE month    EE day  TR month    TR day   TR hour  \\\n",
       "0      -1.0  0.500000      -1.0  0.654861 -0.841254 -0.309017 -0.854419   \n",
       "1      -1.0  0.866025      -1.0  0.959493  0.959493 -0.500000  0.990686   \n",
       "\n",
       "   TR minute  TR second  ISS month   ISS day  \n",
       "0   0.617525   0.237327       -1.0 -0.354605  \n",
       "1   0.132726  -0.288692       -1.0 -0.354605  "
      ]
     },
     "execution_count": 93,
     "metadata": {},
     "output_type": "execute_result"
    }
   ],
   "source": [
    "from sklearn import preprocessing\n",
    "import math \n",
    "\n",
    "min_max_scaler = preprocessing.MinMaxScaler(feature_range=(-math.pi, math.pi))\n",
    "date_columns_scaled = min_max_scaler.fit_transform(date_columns.values)\n",
    "date_columns_normalized = pd.DataFrame(date_columns_scaled, columns=date_columns.columns)\n",
    "date_columns_normalized = date_columns_normalized.applymap(lambda x: math.cos(x))\n",
    "date_columns_normalized.head(2)"
   ]
  },
  {
   "cell_type": "code",
   "execution_count": 95,
   "metadata": {},
   "outputs": [
    {
     "data": {
      "text/html": [
       "<div>\n",
       "<style scoped>\n",
       "    .dataframe tbody tr th:only-of-type {\n",
       "        vertical-align: middle;\n",
       "    }\n",
       "\n",
       "    .dataframe tbody tr th {\n",
       "        vertical-align: top;\n",
       "    }\n",
       "\n",
       "    .dataframe thead th {\n",
       "        text-align: right;\n",
       "    }\n",
       "</style>\n",
       "<table border=\"1\" class=\"dataframe\">\n",
       "  <thead>\n",
       "    <tr style=\"text-align: right;\">\n",
       "      <th></th>\n",
       "      <th>V1</th>\n",
       "      <th>V2</th>\n",
       "      <th>V3</th>\n",
       "      <th>V4</th>\n",
       "      <th>V9</th>\n",
       "      <th>V10</th>\n",
       "      <th>V12</th>\n",
       "      <th>V13</th>\n",
       "      <th>V16</th>\n",
       "      <th>V19</th>\n",
       "      <th>...</th>\n",
       "      <th>TR day</th>\n",
       "      <th>TR hour</th>\n",
       "      <th>TR minute</th>\n",
       "      <th>TR second</th>\n",
       "      <th>ISS month</th>\n",
       "      <th>ISS day</th>\n",
       "      <th>SE year</th>\n",
       "      <th>EE year</th>\n",
       "      <th>TR year</th>\n",
       "      <th>ISS year</th>\n",
       "    </tr>\n",
       "  </thead>\n",
       "  <tbody>\n",
       "    <tr>\n",
       "      <th>0</th>\n",
       "      <td>31</td>\n",
       "      <td>281</td>\n",
       "      <td>22</td>\n",
       "      <td>010112</td>\n",
       "      <td>221227.7498691767</td>\n",
       "      <td>221227.7498691767</td>\n",
       "      <td>010112</td>\n",
       "      <td>6011</td>\n",
       "      <td>21140121124C</td>\n",
       "      <td>071181</td>\n",
       "      <td>...</td>\n",
       "      <td>-0.309017</td>\n",
       "      <td>-0.854419</td>\n",
       "      <td>0.617525</td>\n",
       "      <td>0.237327</td>\n",
       "      <td>-1.0</td>\n",
       "      <td>-0.354605</td>\n",
       "      <td>2009</td>\n",
       "      <td>2011</td>\n",
       "      <td>2009</td>\n",
       "      <td>2009</td>\n",
       "    </tr>\n",
       "    <tr>\n",
       "      <th>1</th>\n",
       "      <td>31</td>\n",
       "      <td>281</td>\n",
       "      <td>22</td>\n",
       "      <td>010112</td>\n",
       "      <td>221227.7498691767</td>\n",
       "      <td>221227.7498691767</td>\n",
       "      <td>010112</td>\n",
       "      <td>6011</td>\n",
       "      <td>21140121124C</td>\n",
       "      <td>004737</td>\n",
       "      <td>...</td>\n",
       "      <td>-0.500000</td>\n",
       "      <td>0.990686</td>\n",
       "      <td>0.132726</td>\n",
       "      <td>-0.288692</td>\n",
       "      <td>-1.0</td>\n",
       "      <td>-0.354605</td>\n",
       "      <td>2009</td>\n",
       "      <td>2011</td>\n",
       "      <td>2009</td>\n",
       "      <td>2009</td>\n",
       "    </tr>\n",
       "  </tbody>\n",
       "</table>\n",
       "<p>2 rows × 32 columns</p>\n",
       "</div>"
      ],
      "text/plain": [
       "   V1   V2  V3      V4                 V9                V10     V12   V13  \\\n",
       "0  31  281  22  010112  221227.7498691767  221227.7498691767  010112  6011   \n",
       "1  31  281  22  010112  221227.7498691767  221227.7498691767  010112  6011   \n",
       "\n",
       "            V16     V19  ...    TR day   TR hour TR minute TR second  \\\n",
       "0  21140121124C  071181  ... -0.309017 -0.854419  0.617525  0.237327   \n",
       "1  21140121124C  004737  ... -0.500000  0.990686  0.132726 -0.288692   \n",
       "\n",
       "  ISS month   ISS day SE year  EE year  TR year  ISS year  \n",
       "0      -1.0 -0.354605    2009     2011     2009      2009  \n",
       "1      -1.0 -0.354605    2009     2011     2009      2009  \n",
       "\n",
       "[2 rows x 32 columns]"
      ]
     },
     "execution_count": 95,
     "metadata": {},
     "output_type": "execute_result"
    }
   ],
   "source": [
    "new_df = pd.concat([clean_data, date_columns_normalized, year_columns], axis=1)\n",
    "new_df.head(2)"
   ]
  },
  {
   "cell_type": "code",
   "execution_count": 73,
   "metadata": {},
   "outputs": [],
   "source": [
    "new_df.to_excel(root + 'dataset/clean_datetime.xlsx')"
   ]
  }
 ],
 "metadata": {
  "kernelspec": {
   "display_name": "base",
   "language": "python",
   "name": "python3"
  },
  "language_info": {
   "codemirror_mode": {
    "name": "ipython",
    "version": 3
   },
   "file_extension": ".py",
   "mimetype": "text/x-python",
   "name": "python",
   "nbconvert_exporter": "python",
   "pygments_lexer": "ipython3",
   "version": "3.8.12"
  },
  "orig_nbformat": 4,
  "vscode": {
   "interpreter": {
    "hash": "cfdbd8c9048ab92b077343f235d6ccc68a76f62a5f525420b39b88fd49e8f01a"
   }
  }
 },
 "nbformat": 4,
 "nbformat_minor": 2
}
