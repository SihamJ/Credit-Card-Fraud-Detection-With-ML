{
 "cells": [
  {
   "cell_type": "code",
   "execution_count": 2,
   "metadata": {},
   "outputs": [],
   "source": [
    "import pandas as pd # data processing\n",
    "import numpy as np # working with arrays\n",
    "import matplotlib.pyplot as plt # visualization\n",
    "import seaborn as sns\n",
    "import random\n",
    "import string\n",
    "from termcolor import colored as cl # text customizationsize=len(R_7['V26'])"
   ]
  },
  {
   "cell_type": "code",
   "execution_count": 3,
   "metadata": {},
   "outputs": [],
   "source": [
    "# Load the credit card transaction data \n",
    "df = pd.read_excel(r'C:\\Users\\KABYADE\\Desktop\\Fraud_ML\\dataset\\final.xlsx',dtype = str)"
   ]
  },
  {
   "cell_type": "code",
   "execution_count": 41,
   "metadata": {},
   "outputs": [],
   "source": [
    "df['CLASS'] = df['CLASS'].astype(int)\n",
    "df.drop(['V11','V14','V20','V5','V17','V18','V15'], axis=1, inplace=True)\n",
    "count_V3=df.loc[df['CLASS'] == 1,'V3'].isnull().sum()\n",
    "\n",
    "def clean_data(df):\n",
    "    #Date\n",
    "    df['V23'] = pd.to_datetime(df['V23'],format=\"%d/%m/%Y\")\n",
    "    df['V8'] = pd.to_datetime(df['V8'],format=\"%d/%m/%Y %H:%M:%S\")\n",
    "    \n",
    "    df['V6'] = pd.to_datetime(df['V6'],format=\"%d/%m/%Y\")\n",
    "    df['V7'] = pd.to_datetime(df['V7'],format=\"%d/%m/%Y\")\n",
    "    df['V6']=df['V6'].fillna(value=df['V7'] - pd.Timedelta(days=2*365))\n",
    "   \n",
    "    #String\n",
    "    df['V4']=df['V4'].fillna(value='010112')\n",
    "    df.loc[df['V1'] == 31, 'V10'] = '00'  \n",
    "    values_V3 =  np.random.choice([\"002\", \"003\"],size=count_V3).tolist()\n",
    "    df['V3'] = df['V3'].apply(lambda x: values_V3.pop(0) if pd.isna(x) else x)\n",
    "    df['V19'] = df['V19'].apply(lambda x: ''.join(random.choices(string.digits, k=6)) if pd.isna(x) else x)\n",
    "    #Float\n",
    "    add_amount_values()\n",
    "    return df\n",
    "\n",
    "def add_amount_values():\n",
    "    fload_cols=['V9','V10','V24']\n",
    "    for el in fload_cols:\n",
    "        df[el] = df[el].astype(float)\n",
    "        max_V10 = df[el].max()\n",
    "        values = [random.randint(0, max_V10) for i in range(df[el].isnull().sum() )]\n",
    "        df[el] = df[el].apply(lambda x: values.pop(0) if pd.isna(x) else x)\n"
   ]
  },
  {
   "cell_type": "code",
   "execution_count": 42,
   "metadata": {},
   "outputs": [],
   "source": [
    "clean_data = clean_data(df)\n",
    "clean_data.to_excel('output/clean_data.xlsx', index=False)"
   ]
  },
  {
   "cell_type": "code",
   "execution_count": 43,
   "metadata": {},
   "outputs": [
    {
     "name": "stdout",
     "output_type": "stream",
     "text": [
      "<class 'pandas.core.frame.DataFrame'>\n",
      "RangeIndex: 140654 entries, 0 to 140653\n",
      "Data columns (total 21 columns):\n",
      " #   Column  Non-Null Count   Dtype         \n",
      "---  ------  --------------   -----         \n",
      " 0   V1      140654 non-null  object        \n",
      " 1   V2      140654 non-null  object        \n",
      " 2   V3      140654 non-null  object        \n",
      " 3   V4      140654 non-null  object        \n",
      " 4   V6      140654 non-null  datetime64[ns]\n",
      " 5   V7      140654 non-null  datetime64[ns]\n",
      " 6   V8      140654 non-null  datetime64[ns]\n",
      " 7   V9      140654 non-null  float64       \n",
      " 8   V10     140654 non-null  float64       \n",
      " 9   V12     140654 non-null  object        \n",
      " 10  V13     140654 non-null  object        \n",
      " 11  V16     140654 non-null  object        \n",
      " 12  V19     140654 non-null  object        \n",
      " 13  V21     140654 non-null  object        \n",
      " 14  V22     140654 non-null  object        \n",
      " 15  V23     140654 non-null  datetime64[ns]\n",
      " 16  V24     140654 non-null  float64       \n",
      " 17  V25     140654 non-null  object        \n",
      " 18  V26     140654 non-null  object        \n",
      " 19  V27     140654 non-null  object        \n",
      " 20  CLASS   140654 non-null  int32         \n",
      "dtypes: datetime64[ns](4), float64(3), int32(1), object(13)\n",
      "memory usage: 22.0+ MB\n"
     ]
    }
   ],
   "source": [
    "clean_data.info()\n",
    "#verify data nulls values after datacleaning_V1\n",
    "# V9, V10, V24 ==> N-fraud 67500  &  Fraud   21782\n",
    "# Solutions => Zeros / Mean or random(0,mean)"
   ]
  }
 ],
 "metadata": {
  "kernelspec": {
   "display_name": "Python 3",
   "language": "python",
   "name": "python3"
  },
  "language_info": {
   "codemirror_mode": {
    "name": "ipython",
    "version": 3
   },
   "file_extension": ".py",
   "mimetype": "text/x-python",
   "name": "python",
   "nbconvert_exporter": "python",
   "pygments_lexer": "ipython3",
   "version": "3.10.10"
  },
  "orig_nbformat": 4,
  "vscode": {
   "interpreter": {
    "hash": "9dce4b41c3dab15c9b172253d5926c6876aa54e726307ae26a963b8959ab689a"
   }
  }
 },
 "nbformat": 4,
 "nbformat_minor": 2
}
