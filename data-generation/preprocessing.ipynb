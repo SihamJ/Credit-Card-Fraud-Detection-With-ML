{
 "cells": [
  {
   "cell_type": "code",
   "execution_count": 1,
   "metadata": {},
   "outputs": [],
   "source": [
    "import pandas as pd\n",
    "import numpy as np"
   ]
  },
  {
   "cell_type": "code",
   "execution_count": 2,
   "metadata": {},
   "outputs": [],
   "source": [
    "root = '/home/sihartist/Desktop/'"
   ]
  },
  {
   "cell_type": "code",
   "execution_count": 4,
   "metadata": {},
   "outputs": [
    {
     "data": {
      "text/html": [
       "<div>\n",
       "<style scoped>\n",
       "    .dataframe tbody tr th:only-of-type {\n",
       "        vertical-align: middle;\n",
       "    }\n",
       "\n",
       "    .dataframe tbody tr th {\n",
       "        vertical-align: top;\n",
       "    }\n",
       "\n",
       "    .dataframe thead th {\n",
       "        text-align: right;\n",
       "    }\n",
       "</style>\n",
       "<table border=\"1\" class=\"dataframe\">\n",
       "  <thead>\n",
       "    <tr style=\"text-align: right;\">\n",
       "      <th></th>\n",
       "      <th>V1</th>\n",
       "      <th>V2</th>\n",
       "      <th>V3</th>\n",
       "      <th>V4</th>\n",
       "      <th>V5</th>\n",
       "      <th>V6</th>\n",
       "      <th>V7</th>\n",
       "      <th>V8</th>\n",
       "      <th>V9</th>\n",
       "      <th>V10</th>\n",
       "      <th>...</th>\n",
       "      <th>V19</th>\n",
       "      <th>V20</th>\n",
       "      <th>V21</th>\n",
       "      <th>V22</th>\n",
       "      <th>V23</th>\n",
       "      <th>V24</th>\n",
       "      <th>V25</th>\n",
       "      <th>V26</th>\n",
       "      <th>V27</th>\n",
       "      <th>CLASS</th>\n",
       "    </tr>\n",
       "  </thead>\n",
       "  <tbody>\n",
       "    <tr>\n",
       "      <th>0</th>\n",
       "      <td>31</td>\n",
       "      <td>281</td>\n",
       "      <td>22</td>\n",
       "      <td>010112</td>\n",
       "      <td>500</td>\n",
       "      <td>01/05/2009</td>\n",
       "      <td>01/05/2011</td>\n",
       "      <td>02/07/2009 21:21:42</td>\n",
       "      <td>NaN</td>\n",
       "      <td>NaN</td>\n",
       "      <td>...</td>\n",
       "      <td>071181</td>\n",
       "      <td>0</td>\n",
       "      <td>01000002</td>\n",
       "      <td>01000002</td>\n",
       "      <td>26/12/2009</td>\n",
       "      <td>NaN</td>\n",
       "      <td>952</td>\n",
       "      <td>384</td>\n",
       "      <td>VERSUS BANK 2 PLATEAUX REGION LAGUNECI</td>\n",
       "      <td>0</td>\n",
       "    </tr>\n",
       "    <tr>\n",
       "      <th>1</th>\n",
       "      <td>31</td>\n",
       "      <td>281</td>\n",
       "      <td>22</td>\n",
       "      <td>010112</td>\n",
       "      <td>500</td>\n",
       "      <td>01/06/2009</td>\n",
       "      <td>01/06/2011</td>\n",
       "      <td>26/06/2009 11:16:47</td>\n",
       "      <td>NaN</td>\n",
       "      <td>NaN</td>\n",
       "      <td>...</td>\n",
       "      <td>004737</td>\n",
       "      <td>0</td>\n",
       "      <td>01000001</td>\n",
       "      <td>01000001</td>\n",
       "      <td>26/12/2009</td>\n",
       "      <td>NaN</td>\n",
       "      <td>952</td>\n",
       "      <td>384</td>\n",
       "      <td>VERSUS BANK PLATEAU    REGION LAGUNECI</td>\n",
       "      <td>0</td>\n",
       "    </tr>\n",
       "    <tr>\n",
       "      <th>2</th>\n",
       "      <td>31</td>\n",
       "      <td>281</td>\n",
       "      <td>22</td>\n",
       "      <td>010112</td>\n",
       "      <td>500</td>\n",
       "      <td>01/09/2008</td>\n",
       "      <td>01/09/2009</td>\n",
       "      <td>03/07/2009 19:09:31</td>\n",
       "      <td>NaN</td>\n",
       "      <td>NaN</td>\n",
       "      <td>...</td>\n",
       "      <td>088399</td>\n",
       "      <td>0</td>\n",
       "      <td>01000002</td>\n",
       "      <td>01000002</td>\n",
       "      <td>26/12/2009</td>\n",
       "      <td>NaN</td>\n",
       "      <td>952</td>\n",
       "      <td>384</td>\n",
       "      <td>VERSUS BANK 2 PLATEAUX REGION LAGUNECI</td>\n",
       "      <td>0</td>\n",
       "    </tr>\n",
       "    <tr>\n",
       "      <th>3</th>\n",
       "      <td>31</td>\n",
       "      <td>281</td>\n",
       "      <td>22</td>\n",
       "      <td>010112</td>\n",
       "      <td>500</td>\n",
       "      <td>01/05/2009</td>\n",
       "      <td>01/05/2011</td>\n",
       "      <td>04/07/2009 06:33:03</td>\n",
       "      <td>NaN</td>\n",
       "      <td>NaN</td>\n",
       "      <td>...</td>\n",
       "      <td>085768</td>\n",
       "      <td>0</td>\n",
       "      <td>01000002</td>\n",
       "      <td>01000002</td>\n",
       "      <td>26/12/2009</td>\n",
       "      <td>NaN</td>\n",
       "      <td>952</td>\n",
       "      <td>384</td>\n",
       "      <td>VERSUS BANK 2 PLATEAUX REGION LAGUNECI</td>\n",
       "      <td>0</td>\n",
       "    </tr>\n",
       "    <tr>\n",
       "      <th>4</th>\n",
       "      <td>31</td>\n",
       "      <td>281</td>\n",
       "      <td>22</td>\n",
       "      <td>010112</td>\n",
       "      <td>500</td>\n",
       "      <td>01/12/2008</td>\n",
       "      <td>01/12/2010</td>\n",
       "      <td>04/07/2009 07:36:18</td>\n",
       "      <td>NaN</td>\n",
       "      <td>NaN</td>\n",
       "      <td>...</td>\n",
       "      <td>059375</td>\n",
       "      <td>0</td>\n",
       "      <td>01000001</td>\n",
       "      <td>01000001</td>\n",
       "      <td>26/12/2009</td>\n",
       "      <td>NaN</td>\n",
       "      <td>952</td>\n",
       "      <td>384</td>\n",
       "      <td>VERSUS BANK PLATEAU    REGION LAGUNECI</td>\n",
       "      <td>0</td>\n",
       "    </tr>\n",
       "  </tbody>\n",
       "</table>\n",
       "<p>5 rows × 28 columns</p>\n",
       "</div>"
      ],
      "text/plain": [
       "   V1   V2  V3      V4   V5          V6          V7                   V8   V9  \\\n",
       "0  31  281  22  010112  500  01/05/2009  01/05/2011  02/07/2009 21:21:42  NaN   \n",
       "1  31  281  22  010112  500  01/06/2009  01/06/2011  26/06/2009 11:16:47  NaN   \n",
       "2  31  281  22  010112  500  01/09/2008  01/09/2009  03/07/2009 19:09:31  NaN   \n",
       "3  31  281  22  010112  500  01/05/2009  01/05/2011  04/07/2009 06:33:03  NaN   \n",
       "4  31  281  22  010112  500  01/12/2008  01/12/2010  04/07/2009 07:36:18  NaN   \n",
       "\n",
       "   V10  ...     V19 V20       V21       V22         V23  V24  V25  V26  \\\n",
       "0  NaN  ...  071181   0  01000002  01000002  26/12/2009  NaN  952  384   \n",
       "1  NaN  ...  004737   0  01000001  01000001  26/12/2009  NaN  952  384   \n",
       "2  NaN  ...  088399   0  01000002  01000002  26/12/2009  NaN  952  384   \n",
       "3  NaN  ...  085768   0  01000002  01000002  26/12/2009  NaN  952  384   \n",
       "4  NaN  ...  059375   0  01000001  01000001  26/12/2009  NaN  952  384   \n",
       "\n",
       "                                      V27 CLASS  \n",
       "0  VERSUS BANK 2 PLATEAUX REGION LAGUNECI     0  \n",
       "1  VERSUS BANK PLATEAU    REGION LAGUNECI     0  \n",
       "2  VERSUS BANK 2 PLATEAUX REGION LAGUNECI     0  \n",
       "3  VERSUS BANK 2 PLATEAUX REGION LAGUNECI     0  \n",
       "4  VERSUS BANK PLATEAU    REGION LAGUNECI     0  \n",
       "\n",
       "[5 rows x 28 columns]"
      ]
     },
     "execution_count": 4,
     "metadata": {},
     "output_type": "execute_result"
    }
   ],
   "source": [
    "df = pd.read_excel(root + 'fraud-detection/dataset/final.xlsx', dtype=str)\n",
    "df.head()"
   ]
  },
  {
   "cell_type": "code",
   "execution_count": 7,
   "metadata": {},
   "outputs": [
    {
     "name": "stdout",
     "output_type": "stream",
     "text": [
      "<class 'pandas.core.frame.DataFrame'>\n",
      "RangeIndex: 140654 entries, 0 to 140653\n",
      "Data columns (total 28 columns):\n",
      " #   Column  Non-Null Count   Dtype \n",
      "---  ------  --------------   ----- \n",
      " 0   V1      140654 non-null  object\n",
      " 1   V2      140654 non-null  object\n",
      " 2   V3      139679 non-null  object\n",
      " 3   V4      140654 non-null  object\n",
      " 4   V5      140654 non-null  object\n",
      " 5   V6      124864 non-null  object\n",
      " 6   V7      140654 non-null  object\n",
      " 7   V8      140654 non-null  object\n",
      " 8   V9      28907 non-null   object\n",
      " 9   V10     55385 non-null   object\n",
      " 10  V11     0 non-null       object\n",
      " 11  V12     140654 non-null  object\n",
      " 12  V13     140654 non-null  object\n",
      " 13  V14     0 non-null       object\n",
      " 14  V15     10548 non-null   object\n",
      " 15  V16     140654 non-null  object\n",
      " 16  V17     0 non-null       object\n",
      " 17  V18     140616 non-null  object\n",
      " 18  V19     110978 non-null  object\n",
      " 19  V20     139679 non-null  object\n",
      " 20  V21     140654 non-null  object\n",
      " 21  V22     140654 non-null  object\n",
      " 22  V23     140654 non-null  object\n",
      " 23  V24     27868 non-null   object\n",
      " 24  V25     140654 non-null  object\n",
      " 25  V26     140654 non-null  object\n",
      " 26  V27     140654 non-null  object\n",
      " 27  CLASS   140654 non-null  object\n",
      "dtypes: object(28)\n",
      "memory usage: 30.0+ MB\n"
     ]
    }
   ],
   "source": [
    "df.info()"
   ]
  },
  {
   "cell_type": "code",
   "execution_count": 6,
   "metadata": {},
   "outputs": [
    {
     "data": {
      "text/plain": [
       "0    70327\n",
       "1    70327\n",
       "Name: CLASS, dtype: int64"
      ]
     },
     "execution_count": 6,
     "metadata": {},
     "output_type": "execute_result"
    }
   ],
   "source": [
    "df.CLASS.value_counts()"
   ]
  },
  {
   "cell_type": "code",
   "execution_count": 10,
   "metadata": {},
   "outputs": [
    {
     "data": {
      "text/plain": [
       "VERSUS BANK PLATEAU    REGION LAGUNECI      65462\n",
       "VERSUS BANK 2 PLATEAUX REGION LAGUNECI      43351\n",
       "VERSUS BANK ZONE 4     REGION LAGUNECI      31240\n",
       "VERSUS BANK ABIDJAN    REGION LAGUNECI        563\n",
       "RES BERT                >VALLON       CI       32\n",
       "RESIDENCE MADE          >ABIDJAN      CI        6\n",
       "Name: V27, dtype: int64"
      ]
     },
     "execution_count": 10,
     "metadata": {},
     "output_type": "execute_result"
    }
   ],
   "source": [
    "df.V27.value_counts()"
   ]
  }
 ],
 "metadata": {
  "kernelspec": {
   "display_name": "base",
   "language": "python",
   "name": "python3"
  },
  "language_info": {
   "codemirror_mode": {
    "name": "ipython",
    "version": 3
   },
   "file_extension": ".py",
   "mimetype": "text/x-python",
   "name": "python",
   "nbconvert_exporter": "python",
   "pygments_lexer": "ipython3",
   "version": "3.8.12"
  },
  "orig_nbformat": 4,
  "vscode": {
   "interpreter": {
    "hash": "cfdbd8c9048ab92b077343f235d6ccc68a76f62a5f525420b39b88fd49e8f01a"
   }
  }
 },
 "nbformat": 4,
 "nbformat_minor": 2
}
