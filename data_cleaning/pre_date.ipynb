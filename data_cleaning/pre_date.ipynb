{
 "cells": [
  {
   "cell_type": "code",
   "execution_count": 24,
   "metadata": {},
   "outputs": [],
   "source": [
    "import pandas as pd # data processing\n",
    "import numpy as np # working with arrays\n",
    "import matplotlib.pyplot as plt # visualization\n",
    "import seaborn as sns\n",
    "import random\n",
    "from termcolor import colored as cl # text customizationsize=len(R_7['V26'])"
   ]
  },
  {
   "cell_type": "code",
   "execution_count": 25,
   "metadata": {},
   "outputs": [
    {
     "data": {
      "text/plain": [
       "140654"
      ]
     },
     "execution_count": 25,
     "metadata": {},
     "output_type": "execute_result"
    }
   ],
   "source": [
    "# Load the credit card transaction data \n",
    "df = pd.read_excel('dataset_v.xlsx')\n",
    "len(df)"
   ]
  },
  {
   "attachments": {},
   "cell_type": "markdown",
   "metadata": {},
   "source": [
    "Data Analysis"
   ]
  },
  {
   "cell_type": "code",
   "execution_count": 7,
   "metadata": {},
   "outputs": [
    {
     "data": {
      "text/plain": [
       "(70327, 28)"
      ]
     },
     "execution_count": 7,
     "metadata": {},
     "output_type": "execute_result"
    }
   ],
   "source": [
    "frauds = df[df.CLASS == 1]\n",
    "normal = df[df.CLASS == 0]\n",
    "frauds.shape"
   ]
  },
  {
   "cell_type": "code",
   "execution_count": 16,
   "metadata": {},
   "outputs": [
    {
     "name": "stdout",
     "output_type": "stream",
     "text": [
      "count     26080.000000\n",
      "mean      83223.159356\n",
      "std       79446.097246\n",
      "min         426.000000\n",
      "25%       20000.000000\n",
      "50%       50000.000000\n",
      "75%      135000.000000\n",
      "max      800000.000000\n",
      "Name: V9, dtype: float64\n",
      "---------------------------------\n",
      "count      2827.000000\n",
      "mean      85508.312699\n",
      "std       61366.557726\n",
      "min        1000.000000\n",
      "25%       40000.000000\n",
      "50%       65000.000000\n",
      "75%      130000.000000\n",
      "max      300000.000000\n",
      "Name: V9, dtype: float64\n"
     ]
    }
   ],
   "source": [
    "print(frauds.V9.describe()) \n",
    "print(\"---------------------------------\")\n",
    "print(normal.V9.describe())"
   ]
  },
  {
   "cell_type": "code",
   "execution_count": null,
   "metadata": {},
   "outputs": [],
   "source": [
    "#before\n",
    "print(df['V6'].dtype)\n",
    "\n",
    "# Convert date attribute to datetime format\n",
    "df['V6'] = pd.to_datetime(df['V6'])\n",
    "\n",
    "# Check the new format of the date attribute\n",
    "print(df['V6'].dtype)"
   ]
  },
  {
   "cell_type": "code",
   "execution_count": null,
   "metadata": {},
   "outputs": [],
   "source": [
    "# Extract year and month from the date attribute\n",
    "df['year'] = df['V6'].dt.year\n",
    "df['month'] = df['V6'].dt.month\n",
    "df['day'] = df['V6'].dt.day.astype(int)\n",
    "\n",
    "# Encode date attribute as an integer\n",
    "df['date_encoded'] = df['year'] * 10000 + df['month'] * 100 + df['day']\n",
    "\n",
    "# One-hot encode year and month attributes\n",
    "#df = pd.get_dummies(df, columns=['year', 'month'])\n",
    "\n",
    "# Drop the original date attribute\n",
    "df.drop('V6', axis=1, inplace=True)"
   ]
  },
  {
   "cell_type": "code",
   "execution_count": null,
   "metadata": {},
   "outputs": [],
   "source": []
  },
  {
   "cell_type": "code",
   "execution_count": null,
   "metadata": {},
   "outputs": [],
   "source": []
  },
  {
   "cell_type": "code",
   "execution_count": null,
   "metadata": {},
   "outputs": [],
   "source": []
  }
 ],
 "metadata": {
  "kernelspec": {
   "display_name": "Python 3",
   "language": "python",
   "name": "python3"
  },
  "language_info": {
   "codemirror_mode": {
    "name": "ipython",
    "version": 3
   },
   "file_extension": ".py",
   "mimetype": "text/x-python",
   "name": "python",
   "nbconvert_exporter": "python",
   "pygments_lexer": "ipython3",
   "version": "3.10.10"
  },
  "orig_nbformat": 4,
  "vscode": {
   "interpreter": {
    "hash": "9dce4b41c3dab15c9b172253d5926c6876aa54e726307ae26a963b8959ab689a"
   }
  }
 },
 "nbformat": 4,
 "nbformat_minor": 2
}
