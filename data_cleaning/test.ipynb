{
 "cells": [
  {
   "cell_type": "code",
   "execution_count": 1,
   "metadata": {},
   "outputs": [],
   "source": [
    "import pandas as pd # data processing\n",
    "import numpy as np # working with arrays\n",
    "import matplotlib.pyplot as plt # visualization\n",
    "import seaborn as sns\n",
    "import random\n",
    "from termcolor import colored as cl # text customizationsize=len(R_7['V26'])"
   ]
  },
  {
   "cell_type": "code",
   "execution_count": 10,
   "metadata": {},
   "outputs": [
    {
     "data": {
      "text/plain": [
       "140654"
      ]
     },
     "execution_count": 10,
     "metadata": {},
     "output_type": "execute_result"
    }
   ],
   "source": [
    "# Load the credit card transaction data \n",
    "df = pd.read_excel('dataset_v.xlsx')\n",
    "len(df)"
   ]
  },
  {
   "cell_type": "code",
   "execution_count": 12,
   "metadata": {},
   "outputs": [
    {
     "name": "stdout",
     "output_type": "stream",
     "text": [
      "\u001b[1mCASE COUNT\u001b[0m\n",
      "\u001b[1m--------------------------------------------\u001b[0m\n",
      "\u001b[1mTotal number of cases are 140654\u001b[0m\n",
      "\u001b[1mNumber of Non-fraud cases are 70327\u001b[0m\n",
      "\u001b[1mNumber of fraud cases are 70327\u001b[0m\n",
      "\u001b[1mPercentage of fraud cases is 100.0%\u001b[0m\n",
      "\u001b[1m--------------------------------------------\u001b[0m\n"
     ]
    }
   ],
   "source": [
    "#Statistics\n",
    "cases = len(df)\n",
    "nonfraud_count = len(df[df.CLASS == 0])\n",
    "fraud_count = len(df[df.CLASS == 1])\n",
    "\n",
    "fraud_percentage = round(fraud_count/nonfraud_count*100, 2)\n",
    "\n",
    "print(cl('CASE COUNT', attrs = ['bold']))\n",
    "print(cl('--------------------------------------------', attrs = ['bold']))\n",
    "print(cl('Total number of cases are {}'.format(cases), attrs = ['bold']))\n",
    "print(cl('Number of Non-fraud cases are {}'.format(nonfraud_count), attrs = ['bold']))\n",
    "\n",
    "print(cl('Number of fraud cases are {}'.format(fraud_count), attrs = ['bold']))\n",
    "print(cl('Percentage of fraud cases is {}%'.format(fraud_percentage), attrs = ['bold']))\n",
    "print(cl('--------------------------------------------', attrs = ['bold']))"
   ]
  },
  {
   "cell_type": "code",
   "execution_count": 39,
   "metadata": {},
   "outputs": [
    {
     "name": "stdout",
     "output_type": "stream",
     "text": [
      "<class 'pandas.core.frame.DataFrame'>\n",
      "RangeIndex: 140654 entries, 0 to 140653\n",
      "Data columns (total 28 columns):\n",
      " #   Column  Non-Null Count   Dtype \n",
      "---  ------  --------------   ----- \n",
      " 0   V1      140654 non-null  object\n",
      " 1   V2      140654 non-null  object\n",
      " 2   V3      139679 non-null  object\n",
      " 3   V4      140654 non-null  object\n",
      " 4   V5      140654 non-null  object\n",
      " 5   V6      124864 non-null  object\n",
      " 6   V7      140654 non-null  object\n",
      " 7   V8      140654 non-null  object\n",
      " 8   V9      28907 non-null   object\n",
      " 9   V10     55385 non-null   object\n",
      " 10  V11     0 non-null       object\n",
      " 11  V12     140654 non-null  object\n",
      " 12  V13     140654 non-null  object\n",
      " 13  V14     0 non-null       object\n",
      " 14  V15     10548 non-null   object\n",
      " 15  V16     140654 non-null  object\n",
      " 16  V17     0 non-null       object\n",
      " 17  V18     140616 non-null  object\n",
      " 18  V19     110978 non-null  object\n",
      " 19  V20     139679 non-null  object\n",
      " 20  V21     140654 non-null  object\n",
      " 21  V22     140654 non-null  object\n",
      " 22  V23     140654 non-null  object\n",
      " 23  V24     27868 non-null   object\n",
      " 24  V25     140654 non-null  object\n",
      " 25  V26     140654 non-null  object\n",
      " 26  V27     140654 non-null  object\n",
      " 27  CLASS   140654 non-null  object\n",
      "dtypes: object(28)\n",
      "memory usage: 30.0+ MB\n"
     ]
    }
   ],
   "source": [
    "df.info()"
   ]
  },
  {
   "cell_type": "code",
   "execution_count": 13,
   "metadata": {},
   "outputs": [
    {
     "data": {
      "text/plain": [
       "V1            0\n",
       "V2            0\n",
       "V3          975\n",
       "V4            0\n",
       "V5            0\n",
       "V6        15790\n",
       "V7            0\n",
       "V8            0\n",
       "V9       111747\n",
       "V10       85269\n",
       "V11      140654\n",
       "V12           0\n",
       "V13           0\n",
       "V14      140654\n",
       "V15      130106\n",
       "V16           0\n",
       "V17      140654\n",
       "V18          38\n",
       "V19       29676\n",
       "V20         975\n",
       "V21           0\n",
       "V22           0\n",
       "V23           0\n",
       "V24      112786\n",
       "V25           0\n",
       "V26           0\n",
       "V27           0\n",
       "CLASS         0\n",
       "dtype: int64"
      ]
     },
     "execution_count": 13,
     "metadata": {},
     "output_type": "execute_result"
    }
   ],
   "source": [
    "missing_vals = df.isnull().sum()\n",
    "missing_vals"
   ]
  },
  {
   "cell_type": "code",
   "execution_count": null,
   "metadata": {},
   "outputs": [],
   "source": []
  },
  {
   "cell_type": "code",
   "execution_count": null,
   "metadata": {},
   "outputs": [],
   "source": [
    "# Handling missing values\n",
    "missing_vals = df[\"V1\"].isnull().sum()\n",
    "df.fillna(df.mean(), inplace=True)\n",
    "\n",
    "# Removing duplicates  V1 .. V28\n",
    "df.drop_duplicates(inplace=True)\n",
    "\n",
    "# Drop duplicates based on V13 and keep the first occurrence\n",
    "df_unique = df.drop_duplicates(subset=[\"V13\"], keep=\"first\")\n",
    "# Separating our features into numerical and categorical early \n",
    "cat_df = df.select_dtypes(include=['object'])\n",
    "num_df = df.select_dtypes(exclude=['object'])"
   ]
  }
 ],
 "metadata": {
  "kernelspec": {
   "display_name": "Python 3",
   "language": "python",
   "name": "python3"
  },
  "language_info": {
   "codemirror_mode": {
    "name": "ipython",
    "version": 3
   },
   "file_extension": ".py",
   "mimetype": "text/x-python",
   "name": "python",
   "nbconvert_exporter": "python",
   "pygments_lexer": "ipython3",
   "version": "3.10.10"
  },
  "orig_nbformat": 4,
  "vscode": {
   "interpreter": {
    "hash": "9dce4b41c3dab15c9b172253d5926c6876aa54e726307ae26a963b8959ab689a"
   }
  }
 },
 "nbformat": 4,
 "nbformat_minor": 2
}
