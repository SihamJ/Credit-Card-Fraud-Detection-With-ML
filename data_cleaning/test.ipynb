{
 "cells": [
  {
   "cell_type": "code",
   "execution_count": 1,
   "metadata": {},
   "outputs": [],
   "source": [
    "import pandas as pd # data processing\n",
    "import numpy as np # working with arrays\n",
    "import matplotlib.pyplot as plt # visualization\n",
    "import seaborn as sns\n",
    "import random\n",
    "from termcolor import colored as cl # text customizationsize=len(R_7['V26'])"
   ]
  },
  {
   "cell_type": "code",
   "execution_count": 6,
   "metadata": {},
   "outputs": [
    {
     "data": {
      "text/plain": [
       "99999"
      ]
     },
     "execution_count": 6,
     "metadata": {},
     "output_type": "execute_result"
    }
   ],
   "source": [
    "# Load the credit card transaction data \n",
    "df = pd.read_excel(r'C:\\Users\\KABYADE\\Desktop\\Fraud_ML\\dataset\\final_fraud.xlsx')\n",
    "len(df)"
   ]
  },
  {
   "cell_type": "code",
   "execution_count": 9,
   "metadata": {},
   "outputs": [
    {
     "data": {
      "text/plain": [
       "array([ 1,  2,  3,  4,  5,  6,  7,  8,  9, 10, 11, 12, 13, 14, 15, 16, 17,\n",
       "       18, 19, 20, 21, 22, 23, 24, 25, 26, 27, 28, 29, 30, 31, 32, 33, 34,\n",
       "       35, 36, 37, 38, 39, 40, 41, 42, 43, 44, 45, 46, 47, 48, 49, 50, 51,\n",
       "       52, 53, 54, 55, 56, 57, 58, 59, 60, 61, 62, 63], dtype=int64)"
      ]
     },
     "execution_count": 9,
     "metadata": {},
     "output_type": "execute_result"
    }
   ],
   "source": [
    "classes=df[\"CLASS\"].unique()\n",
    "classes"
   ]
  },
  {
   "cell_type": "code",
   "execution_count": 24,
   "metadata": {},
   "outputs": [
    {
     "data": {
      "text/plain": [
       "(71444, 28)"
      ]
     },
     "execution_count": 24,
     "metadata": {},
     "output_type": "execute_result"
    }
   ],
   "source": [
    "df_nonfraud = df[df.CLASS == 0]\n",
    "df_fraud = df[df.CLASS != 0]\n",
    "df_rule= df_fraud[df_fraud.CLASS == 1]\n",
    "df_nonfraud=df_nonfraud[:len(df_rule)]\n",
    "df_undersampling=pd.concat([df_fraud, df_nonfraud])\n",
    "\n",
    "df_undersampling.shape"
   ]
  },
  {
   "cell_type": "code",
   "execution_count": 11,
   "metadata": {},
   "outputs": [
    {
     "name": "stdout",
     "output_type": "stream",
     "text": [
      "\u001b[1m1 : 1588\u001b[0m\n",
      "\u001b[1m2 : 1588\u001b[0m\n",
      "\u001b[1m3 : 1588\u001b[0m\n",
      "\u001b[1m4 : 1588\u001b[0m\n",
      "\u001b[1m5 : 1588\u001b[0m\n",
      "\u001b[1m6 : 1588\u001b[0m\n",
      "\u001b[1m7 : 1588\u001b[0m\n",
      "\u001b[1m8 : 1588\u001b[0m\n",
      "\u001b[1m9 : 1588\u001b[0m\n",
      "\u001b[1m10 : 1588\u001b[0m\n",
      "\u001b[1m11 : 1588\u001b[0m\n",
      "\u001b[1m12 : 1588\u001b[0m\n",
      "\u001b[1m13 : 1588\u001b[0m\n",
      "\u001b[1m14 : 1588\u001b[0m\n",
      "\u001b[1m15 : 1588\u001b[0m\n",
      "\u001b[1m16 : 1588\u001b[0m\n",
      "\u001b[1m17 : 1588\u001b[0m\n",
      "\u001b[1m18 : 1588\u001b[0m\n",
      "\u001b[1m19 : 1587\u001b[0m\n",
      "\u001b[1m20 : 1587\u001b[0m\n",
      "\u001b[1m21 : 1587\u001b[0m\n",
      "\u001b[1m22 : 1587\u001b[0m\n",
      "\u001b[1m23 : 1587\u001b[0m\n",
      "\u001b[1m24 : 1587\u001b[0m\n",
      "\u001b[1m25 : 1587\u001b[0m\n",
      "\u001b[1m26 : 1587\u001b[0m\n",
      "\u001b[1m27 : 1587\u001b[0m\n",
      "\u001b[1m28 : 1587\u001b[0m\n",
      "\u001b[1m29 : 1587\u001b[0m\n",
      "\u001b[1m30 : 1587\u001b[0m\n",
      "\u001b[1m31 : 1587\u001b[0m\n",
      "\u001b[1m32 : 1587\u001b[0m\n",
      "\u001b[1m33 : 1587\u001b[0m\n",
      "\u001b[1m34 : 1587\u001b[0m\n",
      "\u001b[1m35 : 1587\u001b[0m\n",
      "\u001b[1m36 : 1587\u001b[0m\n",
      "\u001b[1m37 : 1587\u001b[0m\n",
      "\u001b[1m38 : 1587\u001b[0m\n",
      "\u001b[1m39 : 1587\u001b[0m\n",
      "\u001b[1m40 : 1587\u001b[0m\n",
      "\u001b[1m41 : 1587\u001b[0m\n",
      "\u001b[1m42 : 1587\u001b[0m\n",
      "\u001b[1m43 : 1587\u001b[0m\n",
      "\u001b[1m44 : 1587\u001b[0m\n",
      "\u001b[1m45 : 1587\u001b[0m\n",
      "\u001b[1m46 : 1587\u001b[0m\n",
      "\u001b[1m47 : 1587\u001b[0m\n",
      "\u001b[1m48 : 1587\u001b[0m\n",
      "\u001b[1m49 : 1587\u001b[0m\n",
      "\u001b[1m50 : 1587\u001b[0m\n",
      "\u001b[1m51 : 1587\u001b[0m\n",
      "\u001b[1m52 : 1587\u001b[0m\n",
      "\u001b[1m53 : 1587\u001b[0m\n",
      "\u001b[1m54 : 1587\u001b[0m\n",
      "\u001b[1m55 : 1587\u001b[0m\n",
      "\u001b[1m56 : 1587\u001b[0m\n",
      "\u001b[1m57 : 1587\u001b[0m\n",
      "\u001b[1m58 : 1587\u001b[0m\n",
      "\u001b[1m59 : 1587\u001b[0m\n",
      "\u001b[1m60 : 1587\u001b[0m\n",
      "\u001b[1m61 : 1587\u001b[0m\n",
      "\u001b[1m62 : 1587\u001b[0m\n",
      "\u001b[1m63 : 1587\u001b[0m\n"
     ]
    }
   ],
   "source": [
    "for i in classes:\n",
    "    cases = len(df[df.CLASS == i])\n",
    "    print(cl('{} : {}'.format(i,cases), attrs = ['bold']))"
   ]
  },
  {
   "cell_type": "code",
   "execution_count": 46,
   "metadata": {},
   "outputs": [],
   "source": [
    "path = 'C:/Users/KABYADE/Desktop/Fraud_ML/dataset/'\n",
    "df_undersampling.to_excel(path + \"undersampling_data.xlsx\", index=False)"
   ]
  },
  {
   "cell_type": "code",
   "execution_count": null,
   "metadata": {},
   "outputs": [],
   "source": []
  },
  {
   "cell_type": "markdown",
   "metadata": {},
   "source": []
  },
  {
   "cell_type": "code",
   "execution_count": 39,
   "metadata": {},
   "outputs": [
    {
     "name": "stdout",
     "output_type": "stream",
     "text": [
      "\u001b[1mCASE COUNT\u001b[0m\n",
      "\u001b[1m--------------------------------------------\u001b[0m\n",
      "\u001b[1mTotal number of cases are 140654\u001b[0m\n",
      "\u001b[1mNon-fraud  70327\u001b[0m\n",
      "\u001b[1m1 : 1117\u001b[0m\n",
      "\u001b[1m2 : 1117\u001b[0m\n",
      "\u001b[1m3 : 1117\u001b[0m\n",
      "\u001b[1m4 : 1117\u001b[0m\n",
      "\u001b[1m5 : 1117\u001b[0m\n",
      "\u001b[1m6 : 1117\u001b[0m\n",
      "\u001b[1m7 : 1117\u001b[0m\n",
      "\u001b[1m8 : 1117\u001b[0m\n",
      "\u001b[1m9 : 1117\u001b[0m\n",
      "\u001b[1m10 : 1117\u001b[0m\n",
      "\u001b[1m11 : 1117\u001b[0m\n",
      "\u001b[1m12 : 1117\u001b[0m\n",
      "\u001b[1m13 : 1117\u001b[0m\n",
      "\u001b[1m14 : 1117\u001b[0m\n",
      "\u001b[1m15 : 1117\u001b[0m\n",
      "\u001b[1m16 : 1117\u001b[0m\n",
      "\u001b[1m17 : 1117\u001b[0m\n",
      "\u001b[1m18 : 1117\u001b[0m\n",
      "\u001b[1m19 : 1117\u001b[0m\n",
      "\u001b[1m20 : 1116\u001b[0m\n",
      "\u001b[1m21 : 1116\u001b[0m\n",
      "\u001b[1m22 : 1116\u001b[0m\n",
      "\u001b[1m23 : 1116\u001b[0m\n",
      "\u001b[1m24 : 1116\u001b[0m\n",
      "\u001b[1m25 : 1116\u001b[0m\n",
      "\u001b[1m26 : 1116\u001b[0m\n",
      "\u001b[1m27 : 1116\u001b[0m\n",
      "\u001b[1m28 : 1116\u001b[0m\n",
      "\u001b[1m29 : 1116\u001b[0m\n",
      "\u001b[1m30 : 1116\u001b[0m\n",
      "\u001b[1m31 : 1116\u001b[0m\n",
      "\u001b[1m32 : 1116\u001b[0m\n",
      "\u001b[1m33 : 1116\u001b[0m\n",
      "\u001b[1m34 : 1116\u001b[0m\n",
      "\u001b[1m35 : 1116\u001b[0m\n",
      "\u001b[1m36 : 1116\u001b[0m\n",
      "\u001b[1m37 : 1116\u001b[0m\n",
      "\u001b[1m38 : 1116\u001b[0m\n",
      "\u001b[1m39 : 1116\u001b[0m\n",
      "\u001b[1m40 : 1116\u001b[0m\n",
      "\u001b[1m41 : 1116\u001b[0m\n",
      "\u001b[1m42 : 1116\u001b[0m\n",
      "\u001b[1m43 : 1116\u001b[0m\n",
      "\u001b[1m44 : 1116\u001b[0m\n",
      "\u001b[1m45 : 1116\u001b[0m\n",
      "\u001b[1m46 : 1116\u001b[0m\n",
      "\u001b[1m47 : 1116\u001b[0m\n",
      "\u001b[1m48 : 1116\u001b[0m\n",
      "\u001b[1m49 : 1116\u001b[0m\n",
      "\u001b[1m50 : 1116\u001b[0m\n",
      "\u001b[1m51 : 1116\u001b[0m\n",
      "\u001b[1m52 : 1116\u001b[0m\n",
      "\u001b[1m53 : 1116\u001b[0m\n",
      "\u001b[1m54 : 1116\u001b[0m\n",
      "\u001b[1m55 : 1116\u001b[0m\n",
      "\u001b[1m56 : 1116\u001b[0m\n",
      "\u001b[1m57 : 1116\u001b[0m\n",
      "\u001b[1m58 : 1116\u001b[0m\n",
      "\u001b[1m59 : 1116\u001b[0m\n",
      "\u001b[1m60 : 1116\u001b[0m\n",
      "\u001b[1m61 : 1116\u001b[0m\n",
      "\u001b[1m62 : 1116\u001b[0m\n",
      "\u001b[1m63 : 1116\u001b[0m\n"
     ]
    }
   ],
   "source": [
    "total = len(df)\n",
    "nonfraud_count = len(df[df.CLASS == 0])  \n",
    "\n",
    "print(cl('CASE COUNT', attrs = ['bold']))\n",
    "print(cl('--------------------------------------------', attrs = ['bold']))\n",
    "print(cl('Total number of cases are {}'.format(total), attrs = ['bold']))\n",
    "print(cl('Non-fraud  {}'.format(nonfraud_count), attrs = ['bold']))\n",
    "\n",
    "for i in classes:\n",
    "    cases = len(df[df.CLASS == i])\n",
    "    print(cl('{} : {}'.format(i,cases), attrs = ['bold']))\n"
   ]
  },
  {
   "cell_type": "code",
   "execution_count": null,
   "metadata": {},
   "outputs": [],
   "source": [
    "#Statistics\n",
    "cases = len(df)\n",
    "nonfraud_count = len(df[df.CLASS == 0])\n",
    "fraud_count = len(df[df.CLASS == 1])\n",
    "\n",
    "fraud_percentage = round(fraud_count/nonfraud_count*100, 2)\n",
    "\n",
    "print(cl('CASE COUNT', attrs = ['bold']))\n",
    "print(cl('--------------------------------------------', attrs = ['bold']))\n",
    "print(cl('Total number of cases are {}'.format(cases), attrs = ['bold']))\n",
    "print(cl('Number of Non-fraud cases are {}'.format(nonfraud_count), attrs = ['bold']))\n",
    "\n",
    "print(cl('Number of fraud cases are {}'.format(fraud_count), attrs = ['bold']))\n",
    "print(cl('Percentage of fraud cases is {}%'.format(fraud_percentage), attrs = ['bold']))\n",
    "print(cl('--------------------------------------------', attrs = ['bold']))"
   ]
  },
  {
   "cell_type": "code",
   "execution_count": null,
   "metadata": {},
   "outputs": [],
   "source": [
    "df.info()"
   ]
  },
  {
   "cell_type": "code",
   "execution_count": null,
   "metadata": {},
   "outputs": [],
   "source": [
    "missing_vals = df.isnull().sum()\n",
    "missing_vals"
   ]
  },
  {
   "cell_type": "code",
   "execution_count": null,
   "metadata": {},
   "outputs": [],
   "source": [
    "# Handling missing values\n",
    "missing_vals = df[\"V1\"].isnull().sum()\n",
    "df.fillna(df.mean(), inplace=True)\n",
    "\n",
    "# Removing duplicates  V1 .. V28\n",
    "df.drop_duplicates(inplace=True)\n",
    "\n",
    "# Drop duplicates based on V13 and keep the first occurrence\n",
    "df_unique = df.drop_duplicates(subset=[\"V13\"], keep=\"first\")\n",
    "# Separating our features into numerical and categorical early \n",
    "cat_df = df.select_dtypes(include=['object'])\n",
    "num_df = df.select_dtypes(exclude=['object'])"
   ]
  }
 ],
 "metadata": {
  "kernelspec": {
   "display_name": "Python 3",
   "language": "python",
   "name": "python3"
  },
  "language_info": {
   "codemirror_mode": {
    "name": "ipython",
    "version": 3
   },
   "file_extension": ".py",
   "mimetype": "text/x-python",
   "name": "python",
   "nbconvert_exporter": "python",
   "pygments_lexer": "ipython3",
   "version": "3.10.11"
  },
  "orig_nbformat": 4,
  "vscode": {
   "interpreter": {
    "hash": "9dce4b41c3dab15c9b172253d5926c6876aa54e726307ae26a963b8959ab689a"
   }
  }
 },
 "nbformat": 4,
 "nbformat_minor": 2
}
