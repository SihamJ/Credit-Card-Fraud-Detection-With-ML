{
 "cells": [
  {
   "cell_type": "code",
   "execution_count": 1,
   "metadata": {},
   "outputs": [],
   "source": [
    "import pandas as pd # data processing\n",
    "import numpy as np # working with arrays\n",
    "import matplotlib.pyplot as plt # visualization\n",
    "import seaborn as sns\n",
    "import random\n",
    "from termcolor import colored as cl # text customizationsize=len(R_7['V26'])"
   ]
  },
  {
   "cell_type": "code",
   "execution_count": 2,
   "metadata": {},
   "outputs": [
    {
     "data": {
      "text/html": [
       "<div>\n",
       "<style scoped>\n",
       "    .dataframe tbody tr th:only-of-type {\n",
       "        vertical-align: middle;\n",
       "    }\n",
       "\n",
       "    .dataframe tbody tr th {\n",
       "        vertical-align: top;\n",
       "    }\n",
       "\n",
       "    .dataframe thead th {\n",
       "        text-align: right;\n",
       "    }\n",
       "</style>\n",
       "<table border=\"1\" class=\"dataframe\">\n",
       "  <thead>\n",
       "    <tr style=\"text-align: right;\">\n",
       "      <th></th>\n",
       "      <th>V1</th>\n",
       "      <th>V2</th>\n",
       "      <th>V3</th>\n",
       "      <th>V4</th>\n",
       "      <th>V5</th>\n",
       "      <th>V6</th>\n",
       "      <th>V7</th>\n",
       "      <th>V8</th>\n",
       "      <th>V9</th>\n",
       "      <th>V10</th>\n",
       "      <th>...</th>\n",
       "      <th>V19</th>\n",
       "      <th>V20</th>\n",
       "      <th>V21</th>\n",
       "      <th>V22</th>\n",
       "      <th>V23</th>\n",
       "      <th>V24</th>\n",
       "      <th>V25</th>\n",
       "      <th>V26</th>\n",
       "      <th>V27</th>\n",
       "      <th>CLASS</th>\n",
       "    </tr>\n",
       "  </thead>\n",
       "  <tbody>\n",
       "    <tr>\n",
       "      <th>0</th>\n",
       "      <td>31</td>\n",
       "      <td>281</td>\n",
       "      <td>22.0</td>\n",
       "      <td>10112.0</td>\n",
       "      <td>500</td>\n",
       "      <td>01/05/2009</td>\n",
       "      <td>01/05/2011</td>\n",
       "      <td>02/07/2009 21:21:42</td>\n",
       "      <td>NaN</td>\n",
       "      <td>NaN</td>\n",
       "      <td>...</td>\n",
       "      <td>071181</td>\n",
       "      <td>0.0</td>\n",
       "      <td>1000002</td>\n",
       "      <td>1000002</td>\n",
       "      <td>26/12/2009</td>\n",
       "      <td>NaN</td>\n",
       "      <td>952</td>\n",
       "      <td>384</td>\n",
       "      <td>VERSUS BANK 2 PLATEAUX REGION LAGUNECI</td>\n",
       "      <td>0.0</td>\n",
       "    </tr>\n",
       "    <tr>\n",
       "      <th>1</th>\n",
       "      <td>31</td>\n",
       "      <td>281</td>\n",
       "      <td>22.0</td>\n",
       "      <td>10112.0</td>\n",
       "      <td>500</td>\n",
       "      <td>01/06/2009</td>\n",
       "      <td>01/06/2011</td>\n",
       "      <td>26/06/2009 11:16:47</td>\n",
       "      <td>NaN</td>\n",
       "      <td>NaN</td>\n",
       "      <td>...</td>\n",
       "      <td>004737</td>\n",
       "      <td>0.0</td>\n",
       "      <td>1000001</td>\n",
       "      <td>1000001</td>\n",
       "      <td>26/12/2009</td>\n",
       "      <td>NaN</td>\n",
       "      <td>952</td>\n",
       "      <td>384</td>\n",
       "      <td>VERSUS BANK PLATEAU    REGION LAGUNECI</td>\n",
       "      <td>0.0</td>\n",
       "    </tr>\n",
       "  </tbody>\n",
       "</table>\n",
       "<p>2 rows × 28 columns</p>\n",
       "</div>"
      ],
      "text/plain": [
       "   V1   V2    V3       V4   V5          V6          V7                   V8  \\\n",
       "0  31  281  22.0  10112.0  500  01/05/2009  01/05/2011  02/07/2009 21:21:42   \n",
       "1  31  281  22.0  10112.0  500  01/06/2009  01/06/2011  26/06/2009 11:16:47   \n",
       "\n",
       "   V9  V10  ...     V19  V20      V21      V22         V23 V24  V25  V26  \\\n",
       "0 NaN  NaN  ...  071181  0.0  1000002  1000002  26/12/2009 NaN  952  384   \n",
       "1 NaN  NaN  ...  004737  0.0  1000001  1000001  26/12/2009 NaN  952  384   \n",
       "\n",
       "                                      V27  CLASS  \n",
       "0  VERSUS BANK 2 PLATEAUX REGION LAGUNECI    0.0  \n",
       "1  VERSUS BANK PLATEAU    REGION LAGUNECI    0.0  \n",
       "\n",
       "[2 rows x 28 columns]"
      ]
     },
     "execution_count": 2,
     "metadata": {},
     "output_type": "execute_result"
    }
   ],
   "source": [
    "# Load the credit card transaction data \n",
    "df = pd.read_excel('C:/Users/KABYADE/Desktop/Fraud_ML/fraud-detection/data_preparation/Authorization_data_v2.xlsx')\n",
    "df.head(2)"
   ]
  },
  {
   "cell_type": "code",
   "execution_count": 16,
   "metadata": {},
   "outputs": [
    {
     "name": "stdout",
     "output_type": "stream",
     "text": [
      "70327\n",
      "[  0. 121. 116. 100.  nan 909. 992. 107. 123. 117. 200. 201. 208. 111.\n",
      " 912. 481. 110. 119. 206. 146. 183. 128. 115. 995. 902. 994. 112. 104.\n",
      " 125. 108. 106. 114. 180. 118.]\n"
     ]
    }
   ],
   "source": [
    "nonfraud_count = len(df[df.CLASS == 0])\n",
    "print(nonfraud_count)\n",
    "\n",
    "# get the distinct values of the 'class' column\n",
    "distinct_names = df['CLASS'].unique()\n",
    "print(distinct_names)"
   ]
  },
  {
   "cell_type": "code",
   "execution_count": 18,
   "metadata": {},
   "outputs": [],
   "source": [
    "df.loc[df['CLASS'].isin(distinct_names[1:]) , 'CLASS'] = 1\n",
    "df['CLASS']=df['CLASS'].astype(int)"
   ]
  },
  {
   "cell_type": "code",
   "execution_count": 22,
   "metadata": {},
   "outputs": [
    {
     "name": "stdout",
     "output_type": "stream",
     "text": [
      "\u001b[1mCASE COUNT\u001b[0m\n",
      "\u001b[1m--------------------------------------------\u001b[0m\n",
      "\u001b[1mTotal number of cases are 99999\u001b[0m\n",
      "\u001b[1mNumber of Non-fraud cases are 70327\u001b[0m\n",
      "\u001b[1mNumber of fraud cases are 29672\u001b[0m\n",
      "\u001b[1mPercentage of fraud cases is 42.19%\u001b[0m\n",
      "\u001b[1m--------------------------------------------\u001b[0m\n"
     ]
    }
   ],
   "source": [
    "cases = len(df)\n",
    "nonfraud_count = len(df[df.CLASS == 0])\n",
    "fraud_count = len(df[df.CLASS == 1])\n",
    "fraud_percentage = round(fraud_count/nonfraud_count*100, 2)\n",
    "\n",
    "print(cl('CASE COUNT', attrs = ['bold']))\n",
    "print(cl('--------------------------------------------', attrs = ['bold']))\n",
    "print(cl('Total number of cases are {}'.format(cases), attrs = ['bold']))\n",
    "print(cl('Number of Non-fraud cases are {}'.format(nonfraud_count), attrs = ['bold']))\n",
    "print(cl('Number of fraud cases are {}'.format(fraud_count), attrs = ['bold']))\n",
    "print(cl('Percentage of fraud cases is {}%'.format(fraud_percentage), attrs = ['bold']))\n",
    "print(cl('--------------------------------------------', attrs = ['bold']))"
   ]
  },
  {
   "cell_type": "code",
   "execution_count": 27,
   "metadata": {},
   "outputs": [
    {
     "name": "stdout",
     "output_type": "stream",
     "text": [
      "70327\n",
      "29672\n",
      "40655\n"
     ]
    }
   ],
   "source": [
    "#70327-29672=40655 !\n",
    "split_count=nonfraud_count-fraud_count\n",
    "df_fraud=df[df.CLASS == 1]\n",
    "df_Non_fraud=df[df.CLASS == 0]\n",
    "df_to_update=df_Non_fraud[:(split_count)]\n",
    "\n",
    "\n",
    "print(len(df_Non_fraud))\n",
    "print(len(df_fraud))\n",
    "print(len(df_to_update))\n"
   ]
  },
  {
   "cell_type": "code",
   "execution_count": 24,
   "metadata": {},
   "outputs": [],
   "source": [
    "#save DataFrame TO CSV files\n",
    "df_fraud.to_excel('output/fraud_data.xlsx', index=False)\n",
    "df_Non_fraud.to_excel('output/non_fraud_data.xlsx', index=False)\n",
    "df_to_update.to_excel('output/data_to_update.xlsx', index=False)"
   ]
  },
  {
   "cell_type": "code",
   "execution_count": 25,
   "metadata": {},
   "outputs": [
    {
     "data": {
      "text/plain": [
       "40655"
      ]
     },
     "execution_count": 25,
     "metadata": {},
     "output_type": "execute_result"
    }
   ],
   "source": [
    "len(df_to_update)"
   ]
  },
  {
   "cell_type": "code",
   "execution_count": 36,
   "metadata": {},
   "outputs": [
    {
     "name": "stdout",
     "output_type": "stream",
     "text": [
      "13552\n",
      "13552\n",
      "13551\n"
     ]
    }
   ],
   "source": [
    "#Split data_to upate into 3 parts\n",
    "dfs = np.array_split(df_to_update, 3)\n",
    "df_1,df_2,df_3=dfs\n",
    "\n",
    "print(len(df_1))\n",
    "print(len(df_2))\n",
    "print(len(df_3))\n"
   ]
  },
  {
   "cell_type": "code",
   "execution_count": 38,
   "metadata": {},
   "outputs": [],
   "source": [
    "#save TO EXecl files\n",
    "df_1.to_excel('data/Khadija.xlsx', index=False)\n",
    "df_2.to_excel('data/zakaria.xlsx', index=False)\n",
    "df_3.to_excel('data/siham.xlsx', index=False)\n"
   ]
  }
 ],
 "metadata": {
  "kernelspec": {
   "display_name": "Python 3",
   "language": "python",
   "name": "python3"
  },
  "language_info": {
   "codemirror_mode": {
    "name": "ipython",
    "version": 3
   },
   "file_extension": ".py",
   "mimetype": "text/x-python",
   "name": "python",
   "nbconvert_exporter": "python",
   "pygments_lexer": "ipython3",
   "version": "3.10.10"
  },
  "orig_nbformat": 4,
  "vscode": {
   "interpreter": {
    "hash": "9dce4b41c3dab15c9b172253d5926c6876aa54e726307ae26a963b8959ab689a"
   }
  }
 },
 "nbformat": 4,
 "nbformat_minor": 2
}
