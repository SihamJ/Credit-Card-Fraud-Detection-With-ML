{
 "cells": [
  {
   "cell_type": "code",
   "execution_count": 1,
   "metadata": {},
   "outputs": [],
   "source": [
    "import pandas as pd # data processing\n",
    "import numpy as np # working with arrays\n",
    "import matplotlib.pyplot as plt # visualization\n",
    "import seaborn as sns\n",
    "import random\n",
    "from termcolor import colored as cl # text customizationsize=len(R_7['V26'])"
   ]
  },
  {
   "cell_type": "code",
   "execution_count": 2,
   "metadata": {},
   "outputs": [
    {
     "data": {
      "text/html": [
       "<div>\n",
       "<style scoped>\n",
       "    .dataframe tbody tr th:only-of-type {\n",
       "        vertical-align: middle;\n",
       "    }\n",
       "\n",
       "    .dataframe tbody tr th {\n",
       "        vertical-align: top;\n",
       "    }\n",
       "\n",
       "    .dataframe thead th {\n",
       "        text-align: right;\n",
       "    }\n",
       "</style>\n",
       "<table border=\"1\" class=\"dataframe\">\n",
       "  <thead>\n",
       "    <tr style=\"text-align: right;\">\n",
       "      <th></th>\n",
       "      <th>V1</th>\n",
       "      <th>V2</th>\n",
       "      <th>V3</th>\n",
       "      <th>V4</th>\n",
       "      <th>V5</th>\n",
       "      <th>V6</th>\n",
       "      <th>V7</th>\n",
       "      <th>V8</th>\n",
       "      <th>V9</th>\n",
       "      <th>V10</th>\n",
       "      <th>...</th>\n",
       "      <th>V19</th>\n",
       "      <th>V20</th>\n",
       "      <th>V21</th>\n",
       "      <th>V22</th>\n",
       "      <th>V23</th>\n",
       "      <th>V24</th>\n",
       "      <th>V25</th>\n",
       "      <th>V26</th>\n",
       "      <th>V27</th>\n",
       "      <th>CLASS</th>\n",
       "    </tr>\n",
       "  </thead>\n",
       "  <tbody>\n",
       "    <tr>\n",
       "      <th>0</th>\n",
       "      <td>1</td>\n",
       "      <td>200</td>\n",
       "      <td>22.0</td>\n",
       "      <td>10112.0</td>\n",
       "      <td>500</td>\n",
       "      <td>01/06/2009</td>\n",
       "      <td>01/06/2011</td>\n",
       "      <td>11/07/2009 09:06:38</td>\n",
       "      <td>2000.0</td>\n",
       "      <td>2000.0</td>\n",
       "      <td>...</td>\n",
       "      <td>NaN</td>\n",
       "      <td>0.0</td>\n",
       "      <td>1000001</td>\n",
       "      <td>1000001</td>\n",
       "      <td>26/12/2009</td>\n",
       "      <td>2000.0</td>\n",
       "      <td>952</td>\n",
       "      <td>384</td>\n",
       "      <td>VERSUS BANK PLATEAU    REGION LAGUNECI</td>\n",
       "      <td>1</td>\n",
       "    </tr>\n",
       "    <tr>\n",
       "      <th>1</th>\n",
       "      <td>1</td>\n",
       "      <td>200</td>\n",
       "      <td>22.0</td>\n",
       "      <td>10112.0</td>\n",
       "      <td>500</td>\n",
       "      <td>01/09/2009</td>\n",
       "      <td>01/09/2011</td>\n",
       "      <td>09/05/2010 07:57:39</td>\n",
       "      <td>150000.0</td>\n",
       "      <td>150000.0</td>\n",
       "      <td>...</td>\n",
       "      <td>NaN</td>\n",
       "      <td>0.0</td>\n",
       "      <td>1000003</td>\n",
       "      <td>1000003</td>\n",
       "      <td>26/12/2010</td>\n",
       "      <td>150000.0</td>\n",
       "      <td>952</td>\n",
       "      <td>384</td>\n",
       "      <td>VERSUS BANK ZONE 4     REGION LAGUNECI</td>\n",
       "      <td>1</td>\n",
       "    </tr>\n",
       "  </tbody>\n",
       "</table>\n",
       "<p>2 rows × 28 columns</p>\n",
       "</div>"
      ],
      "text/plain": [
       "   V1   V2    V3       V4   V5          V6          V7                   V8  \\\n",
       "0   1  200  22.0  10112.0  500  01/06/2009  01/06/2011  11/07/2009 09:06:38   \n",
       "1   1  200  22.0  10112.0  500  01/09/2009  01/09/2011  09/05/2010 07:57:39   \n",
       "\n",
       "         V9       V10  ...  V19  V20      V21      V22         V23       V24  \\\n",
       "0    2000.0    2000.0  ...  NaN  0.0  1000001  1000001  26/12/2009    2000.0   \n",
       "1  150000.0  150000.0  ...  NaN  0.0  1000003  1000003  26/12/2010  150000.0   \n",
       "\n",
       "   V25  V26                                     V27  CLASS  \n",
       "0  952  384  VERSUS BANK PLATEAU    REGION LAGUNECI      1  \n",
       "1  952  384  VERSUS BANK ZONE 4     REGION LAGUNECI      1  \n",
       "\n",
       "[2 rows x 28 columns]"
      ]
     },
     "execution_count": 2,
     "metadata": {},
     "output_type": "execute_result"
    }
   ],
   "source": [
    "# Load the credit card transaction data   \n",
    "df = pd.read_excel('C:/Users/KABYADE/Desktop/Fraud_ML/fraud-detection/data_preparation/output/fraud_data.xlsx')\n",
    "df.head(2)"
   ]
  },
  {
   "cell_type": "code",
   "execution_count": 3,
   "metadata": {},
   "outputs": [
    {
     "data": {
      "text/plain": [
       "29672"
      ]
     },
     "execution_count": 3,
     "metadata": {},
     "output_type": "execute_result"
    }
   ],
   "source": [
    "len(df)"
   ]
  },
  {
   "cell_type": "code",
   "execution_count": 4,
   "metadata": {},
   "outputs": [
    {
     "name": "stdout",
     "output_type": "stream",
     "text": [
      "9891\n",
      "9891\n",
      "9890\n"
     ]
    }
   ],
   "source": [
    "#Split data_to upate into 3 parts\n",
    "dfs = np.array_split(df, 3)\n",
    "df_1,df_2,df_3=dfs\n",
    "\n",
    "print(len(df_1))\n",
    "print(len(df_2))\n",
    "print(len(df_3))\n"
   ]
  },
  {
   "cell_type": "code",
   "execution_count": 5,
   "metadata": {},
   "outputs": [],
   "source": [
    "#save TO EXecl files\n",
    "df_1.to_excel('data/Khadija_2.xlsx', index=False)\n",
    "df_2.to_excel('data/zakaria_2.xlsx', index=False)\n",
    "df_3.to_excel('data/siham_2.xlsx', index=False)\n"
   ]
  }
 ],
 "metadata": {
  "kernelspec": {
   "display_name": "Python 3",
   "language": "python",
   "name": "python3"
  },
  "language_info": {
   "codemirror_mode": {
    "name": "ipython",
    "version": 3
   },
   "file_extension": ".py",
   "mimetype": "text/x-python",
   "name": "python",
   "nbconvert_exporter": "python",
   "pygments_lexer": "ipython3",
   "version": "3.10.10"
  },
  "orig_nbformat": 4,
  "vscode": {
   "interpreter": {
    "hash": "9dce4b41c3dab15c9b172253d5926c6876aa54e726307ae26a963b8959ab689a"
   }
  }
 },
 "nbformat": 4,
 "nbformat_minor": 2
}
