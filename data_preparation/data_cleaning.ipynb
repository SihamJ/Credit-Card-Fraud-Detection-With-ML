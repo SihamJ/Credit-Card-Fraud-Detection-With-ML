{
 "cells": [
  {
   "cell_type": "code",
   "execution_count": 1,
   "metadata": {},
   "outputs": [],
   "source": [
    "import pandas as pd # data processing\n",
    "import numpy as np # working with arrays\n",
    "import matplotlib.pyplot as plt # visualization\n",
    "import seaborn as sns\n",
    "import random\n",
    "from termcolor import colored as cl # text customizationsize=len(R_7['V26'])"
   ]
  },
  {
   "cell_type": "code",
   "execution_count": 110,
   "metadata": {},
   "outputs": [],
   "source": [
    "# Load the credit card transaction data \n",
    "df = pd.read_excel(r'C:\\Users\\KABYADE\\Desktop\\Fraud_ML\\dataset\\final.xlsx',dtype = str)"
   ]
  },
  {
   "cell_type": "code",
   "execution_count": null,
   "metadata": {},
   "outputs": [],
   "source": [
    "df_test=df\n",
    "df_test['CLASS'] = df_test['CLASS'].astype(int)\n",
    "df_test.drop(['V11','V14','V20','V5','V17','V18','V15'], axis=1, inplace=True)\n",
    "\n",
    "frauds = df_test[df_test.CLASS == 1]\n",
    "normal = df_test[df_test.CLASS == 0]\n",
    "missing_vals_n= normal.isnull().sum()\n",
    "missing_vals_fraud = frauds.isnull().sum()"
   ]
  },
  {
   "cell_type": "code",
   "execution_count": null,
   "metadata": {},
   "outputs": [],
   "source": [
    "''' Missing value in non-fraud data\n",
    "V6        1976\n",
    "V9       67500\n",
    "V10      67500\n",
    "V15      70327 XXX\n",
    "V19          2\n",
    "V24      67500\n",
    "'''\n",
    "missing_vals_n"
   ]
  },
  {
   "cell_type": "code",
   "execution_count": null,
   "metadata": {},
   "outputs": [],
   "source": [
    "''' Missing value in fraud data\n",
    "V3         958\n",
    "V6       13814\n",
    "V4           9\n",
    "V9       44247\n",
    "V10      21782\n",
    "V15      59165\n",
    "V19      29674\n",
    "V24      45286\n",
    "'''\n",
    "missing_vals_fraud"
   ]
  },
  {
   "cell_type": "code",
   "execution_count": 59,
   "metadata": {},
   "outputs": [],
   "source": [
    "# Replace the value in V1 with \"00\" if it's equal to 31\n",
    "df_test.loc[df_test['V1'] == 31, 'V1'] = '00'"
   ]
  },
  {
   "cell_type": "code",
   "execution_count": 60,
   "metadata": {},
   "outputs": [],
   "source": [
    "# V3: visa: 001, Mastercard: 002 (both fraud and non fraud)\n",
    "values_V3 =  np.random.choice([\"002\", \"003\"],size=missing_vals_fraud['V3']).tolist()\n",
    "df_test['V3'] = df_test['V3'].apply(lambda x: values_V3.pop(0) if pd.isna(x) else x)"
   ]
  },
  {
   "cell_type": "code",
   "execution_count": 61,
   "metadata": {},
   "outputs": [],
   "source": [
    "#V19: random 6 numbers\n",
    "count=missing_vals_fraud['V19']+missing_vals_n['V19']\n",
    "values_V19 = [random.randint(100000, 999999) for i in range(count)]\n",
    "df_test['V19'] = df_test['V19'].apply(lambda x: values_V19.pop(0) if pd.isna(x) else x)"
   ]
  },
  {
   "cell_type": "code",
   "execution_count": 62,
   "metadata": {},
   "outputs": [],
   "source": [
    "#V24 et V9 : same as billing amount\n",
    "df_test.loc[df_test['CLASS'] == 1, 'V24'] =  df_test['V10']\n",
    "df_test.loc[df_test['CLASS'] == 1, 'V9'] =  df_test['V10']"
   ]
  },
  {
   "attachments": {},
   "cell_type": "markdown",
   "metadata": {},
   "source": [
    "Check dateTime"
   ]
  },
  {
   "cell_type": "code",
   "execution_count": 65,
   "metadata": {},
   "outputs": [],
   "source": [
    "#Convert to V6 & V7 to dateTime\n",
    "df_test['V6'] = pd.to_datetime(df_test['V6'])\n",
    "df_test['V7'] = pd.to_datetime(df_test['V7'])\n",
    "\n",
    "#V6: check duration in other instances\n",
    "df_s=pd.DataFrame()\n",
    "df_s['V6_y']=df_test['V6'].dt.year\n",
    "df_s['V7_y']=df_test['V7'].dt.year\n",
    "df_s[\"step\"]=abs(df_s['V6_y']-df_s['V7_y'])"
   ]
  },
  {
   "cell_type": "code",
   "execution_count": null,
   "metadata": {},
   "outputs": [],
   "source": [
    "df_s.step.describe()"
   ]
  },
  {
   "cell_type": "code",
   "execution_count": 66,
   "metadata": {},
   "outputs": [],
   "source": [
    "#Convert to V6 & V7 to dateTime\n",
    "df_test['V6'] = pd.to_datetime(df_test['V6'])\n",
    "df_test['V7'] = pd.to_datetime(df_test['V7'])\n",
    "\n",
    "df_test['V6']=df_test['V6'].fillna(value=df_test['V7'] - pd.Timedelta(days=2*365))"
   ]
  },
  {
   "cell_type": "code",
   "execution_count": 111,
   "metadata": {},
   "outputs": [],
   "source": [
    "df['CLASS'] = df['CLASS'].astype(int)\n",
    "df.drop(['V11','V14','V20','V5','V17','V18','V15'], axis=1, inplace=True)\n",
    "\n",
    "count_V19=df['V19'].isnull().sum() \n",
    "count_V3=df.loc[df['CLASS'] == 1,'V3'].isnull().sum()\n",
    "count_V3,count_V19\n",
    "\n",
    "def clean_data(df):\n",
    "\n",
    "    df.loc[df['V1'] == 31, 'V1'] = '00'            \n",
    "    df.loc[df['CLASS'] == 1, 'V24'] =  df['V10']    \n",
    "    df.loc[df['CLASS'] == 1, 'V9'] =  df['V10']\n",
    "    \n",
    "    df['V6'] = pd.to_datetime(df['V6'])\n",
    "    df['V7'] = pd.to_datetime(df['V7'])\n",
    "    df['V6']=df['V6'].fillna(value=df['V7'] - pd.Timedelta(days=2*365))\n",
    "\n",
    "    values_V3 =  np.random.choice([\"002\", \"003\"],size=count_V3).tolist()\n",
    "    df['V3'] = df['V3'].apply(lambda x: values_V3.pop(0) if pd.isna(x) else x)\n",
    "\n",
    "    values_V19 = [random.randint(100000, 999999) for i in range(count_V19)]\n",
    "    df['V19'] = df['V19'].apply(lambda x: values_V19.pop(0) if pd.isna(x) else x)\n",
    "\n",
    "    df['V10'] = df['V10'].astype(float)\n",
    "    df['V9'] = df['V9'].astype(float)\n",
    "    df['V24'] = df['V24'].astype(float)\n",
    "    df['V9'] = df['V9'].fillna(df['V9'].mean())\n",
    "    df['V10'] = df['V10'].fillna(df['V10'].mean())\n",
    "    df['V24'] = df['V24'].fillna(df['V24'].mean())\n",
    "\n",
    "    return df\n"
   ]
  },
  {
   "cell_type": "code",
   "execution_count": 112,
   "metadata": {},
   "outputs": [],
   "source": [
    "clean_clean = clean_data(df)\n",
    "clean_clean.to_excel('output/clean_data.xlsx', index=False)"
   ]
  },
  {
   "cell_type": "code",
   "execution_count": 113,
   "metadata": {},
   "outputs": [
    {
     "name": "stdout",
     "output_type": "stream",
     "text": [
      "<class 'pandas.core.frame.DataFrame'>\n",
      "RangeIndex: 140654 entries, 0 to 140653\n",
      "Data columns (total 21 columns):\n",
      " #   Column  Non-Null Count   Dtype         \n",
      "---  ------  --------------   -----         \n",
      " 0   V1      140654 non-null  object        \n",
      " 1   V2      140654 non-null  object        \n",
      " 2   V3      140654 non-null  object        \n",
      " 3   V4      140645 non-null  object        \n",
      " 4   V6      140654 non-null  datetime64[ns]\n",
      " 5   V7      140654 non-null  datetime64[ns]\n",
      " 6   V8      140654 non-null  object        \n",
      " 7   V9      140654 non-null  float64       \n",
      " 8   V10     140654 non-null  float64       \n",
      " 9   V12     140654 non-null  object        \n",
      " 10  V13     140654 non-null  object        \n",
      " 11  V16     140654 non-null  object        \n",
      " 12  V19     140654 non-null  object        \n",
      " 13  V21     140654 non-null  object        \n",
      " 14  V22     140654 non-null  object        \n",
      " 15  V23     140654 non-null  object        \n",
      " 16  V24     140654 non-null  float64       \n",
      " 17  V25     140654 non-null  object        \n",
      " 18  V26     140654 non-null  object        \n",
      " 19  V27     140654 non-null  object        \n",
      " 20  CLASS   140654 non-null  int32         \n",
      "dtypes: datetime64[ns](2), float64(3), int32(1), object(15)\n",
      "memory usage: 22.0+ MB\n"
     ]
    }
   ],
   "source": [
    "clean_clean.info()\n",
    "#verify data nulls values after datacleaning_V1\n",
    "# V9, V10, V24 ==> N-fraud 67500  &  Fraud   21782\n",
    "# Solutions => Zeros / Mean or random(0,Mean)"
   ]
  },
  {
   "cell_type": "code",
   "execution_count": null,
   "metadata": {},
   "outputs": [],
   "source": [
    "#V1/ Replace the value in V1 with \"00\" if it's equal to 31\n",
    "df.loc[df['V1'] == 31, 'V1'] = '00'\n",
    "\n",
    "#V3/ visa: 001, Mastercard: 002 (both fraud and non fraud)\n",
    "values_V3 =  np.random.choice([\"002\", \"003\"],size=missing_vals_fraud['V3']).tolist()\n",
    "df['V3'] = df['V3'].apply(lambda x: values_V3.pop(0) if pd.isna(x) else x)\n",
    "\n",
    "#V19/ random 6 numbers\n",
    "count=missing_vals_fraud['V19']+missing_vals_n['V19']\n",
    "values_V19 = [random.randint(100000, 999999) for i in range(count)]\n",
    "df['V19'] = df['V19'].apply(lambda x: values_V19.pop(0) if pd.isna(x) else x)\n",
    "\n",
    "#V24 et V9/  same as billing amount\n",
    "df.loc[df['CLASS'] == 1, 'V24'] =  df['V10']\n",
    "df.loc[df['CLASS'] == 1, 'V9'] =  df['V10']\n",
    "\n",
    "#V6/ check duration in other instances\n",
    "df['V6']=df['V6'].fillna(value=df['V7'] - pd.Timedelta(days=2*365))"
   ]
  }
 ],
 "metadata": {
  "kernelspec": {
   "display_name": "Python 3",
   "language": "python",
   "name": "python3"
  },
  "language_info": {
   "codemirror_mode": {
    "name": "ipython",
    "version": 3
   },
   "file_extension": ".py",
   "mimetype": "text/x-python",
   "name": "python",
   "nbconvert_exporter": "python",
   "pygments_lexer": "ipython3",
   "version": "3.10.10"
  },
  "orig_nbformat": 4,
  "vscode": {
   "interpreter": {
    "hash": "9dce4b41c3dab15c9b172253d5926c6876aa54e726307ae26a963b8959ab689a"
   }
  }
 },
 "nbformat": 4,
 "nbformat_minor": 2
}
